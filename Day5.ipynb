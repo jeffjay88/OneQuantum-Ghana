{
 "cells": [
  {
   "cell_type": "markdown",
   "id": "0889753b",
   "metadata": {},
   "source": [
    "SymPy\n",
    "--"
   ]
  },
  {
   "cell_type": "markdown",
   "id": "2935edd1",
   "metadata": {},
   "source": [
    "# SymPy - Symbolic Python\n",
    "\n",
    "*notebook by Jeffrey N. A. Aryee (PhD)*\n",
    "\n",
    "In this session, you will be introduced to the fundamentals of SymPy and its application. \n",
    "\n",
    "SymPy is a Python library for symbolic mathematics. It aims to become a full-featured computer algebra system (CAS) while keeping the code as simple as possible in order to be comprehensible and easily extensible. SymPy is written entirely in Python.\n",
    "\n",
    "<a href=\"https://www.sympy.org/en/index.html\">SymPy: https://www.sympy.org/</a>\n",
    "\n",
    "\n",
    "\n",
    "# Why SymPy\n",
    "<ul>\n",
    "<li>Free: Licensed under BSD, SymPy is free both as in speech and as in beer.</li>\n",
    "<li>Python-based: SymPy is written entirely in Python and uses Python for its language.</li>\n",
    "<li>Lightweight: SymPy only depends on mpmath, a pure Python library for arbitrary floating point arithmetic, making it easy to use.</li>\n",
    "<li>A library: Beyond use as an interactive tool, SymPy can be embedded in other applications and extended with custom functions.</li>\n",
    "</ul>\n",
    "\n",
    "    \n",
    "    \n",
    "#### OBJECTIVES ####\n",
    "At the end of this unit,\n",
    "1. students should be able to:  \n",
    "    * Write simple mathematical expressions using symbolic manipulation in Python\n",
    "\n",
    "    * evaluate mathematical expressions (substitution, factorisation and expansion methods) using symbolic manipulation in Python\n",
    "\n",
    "    * evaluate the derivatives and integrals of mathematical expressions or functions using symbolic manipulation in Python\n",
    "    * find the roots of an equation and solve simultaneous equations using symbolic manipulation in Python\n",
    "    \n",
    "\n",
    "2. students should also be able to write Python codes to solve numeric differentials using:\n",
    "    \n",
    "    * the Forward Difference method\n",
    "\n",
    "    * the Backward Difference method  \n",
    "\n",
    "    * the Central Diffference approximation\n",
    "***\n",
    "\n",
    "\n"
   ]
  },
  {
   "cell_type": "markdown",
   "id": "9727db8e",
   "metadata": {},
   "source": [
    "**Introduction to Symbolic Python**\n",
    "\n",
    "First Let's import the library needed for using symbolic math in python and also, set up the notebook for printing"
   ]
  },
  {
   "cell_type": "code",
   "execution_count": 1,
   "id": "6d0fdf3e",
   "metadata": {},
   "outputs": [],
   "source": [
    "import sympy as smp\n",
    "\n",
    "smp.init_printing()     #Can be overlooked"
   ]
  },
  {
   "cell_type": "markdown",
   "id": "f8365423",
   "metadata": {},
   "source": [
    "We will then set variables x,y,z as symbols:"
   ]
  },
  {
   "cell_type": "code",
   "execution_count": 2,
   "id": "04809c1a",
   "metadata": {},
   "outputs": [
    {
     "data": {
      "image/png": "[encoded data removed]",
      "text/latex": [
       "$\\displaystyle x$"
      ],
      "text/plain": [
       "x"
      ]
     },
     "execution_count": 2,
     "metadata": {},
     "output_type": "execute_result"
    }
   ],
   "source": [
    "x = smp.Symbol('x')\n",
    "x"
   ]
  },
  {
   "cell_type": "code",
   "execution_count": 3,
   "id": "1f35f338",
   "metadata": {},
   "outputs": [
    {
     "data": {
      "image/png": "[encoded data removed]",
      "text/latex": [
       "$\\displaystyle \\left( a, \\  b\\right)$"
      ],
      "text/plain": [
       "(a, b)"
      ]
     },
     "execution_count": 3,
     "metadata": {},
     "output_type": "execute_result"
    }
   ],
   "source": [
    "#Multiple variables\n",
    "a,b = smp.symbols('a,b')\n",
    "a,b"
   ]
  },
  {
   "cell_type": "code",
   "execution_count": 4,
   "id": "4a086eb9",
   "metadata": {},
   "outputs": [
    {
     "data": {
      "image/png": "[encoded data removed]",
      "text/latex": [
       "$\\displaystyle \\left( a, \\  b\\right)$"
      ],
      "text/plain": [
       "(a, b)"
      ]
     },
     "execution_count": 4,
     "metadata": {},
     "output_type": "execute_result"
    }
   ],
   "source": [
    "a, b = smp.symbols(['a','b'])\n",
    "a,b"
   ]
  },
  {
   "cell_type": "code",
   "execution_count": 5,
   "id": "0bf6642a",
   "metadata": {},
   "outputs": [
    {
     "data": {
      "image/png": "[encoded data removed]",
      "text/latex": [
       "$\\displaystyle x_{0}$"
      ],
      "text/plain": [
       "x₀"
      ]
     },
     "execution_count": 5,
     "metadata": {},
     "output_type": "execute_result"
    }
   ],
   "source": [
    "y = smp.symbols('x0:2, y0:3')\n",
    "y[0]"
   ]
  },
  {
   "cell_type": "code",
   "execution_count": 6,
   "id": "616f610c",
   "metadata": {},
   "outputs": [
    {
     "data": {
      "image/png": "[encoded data removed]",
      "text/latex": [
       "$\\displaystyle x_{0}$"
      ],
      "text/plain": [
       "x₀"
      ]
     },
     "execution_count": 6,
     "metadata": {},
     "output_type": "execute_result"
    }
   ],
   "source": [
    "y = smp.symbols(['x0:2', 'y0:3'])\n",
    "y[0][0]"
   ]
  },
  {
   "cell_type": "code",
   "execution_count": 7,
   "id": "8487990f",
   "metadata": {},
   "outputs": [
    {
     "data": {
      "image/png": "[encoded data removed]",
      "text/latex": [
       "$\\displaystyle \\left( x_{00}, \\  x_{01}, \\  x_{10}, \\  x_{11}, \\  x_{20}, \\  x_{21}, \\  x_{30}, \\  x_{31}, \\  x_{40}, \\  x_{41}\\right)$"
      ],
      "text/plain": [
       "(x₀₀, x₀₁, x₁₀, x₁₁, x₂₀, x₂₁, x₃₀, x₃₁, x₄₀, x₄₁)"
      ]
     },
     "execution_count": 7,
     "metadata": {},
     "output_type": "execute_result"
    }
   ],
   "source": [
    "#Matrix (Multi-dimensional) Variables\n",
    "z = smp.symbols('x0:5:2')\n",
    "z"
   ]
  },
  {
   "cell_type": "markdown",
   "id": "d25ef807",
   "metadata": {},
   "source": [
    "# Let's write some expressions\n",
    "All you need is a fundamental knowledge in Python. You can revisit the lectures of Days 1 & 2 for a recap."
   ]
  },
  {
   "cell_type": "markdown",
   "id": "3454b977",
   "metadata": {},
   "source": [
    "$$2x^2 + 3x + 5 $$"
   ]
  },
  {
   "cell_type": "code",
   "execution_count": 8,
   "id": "789a9af5",
   "metadata": {},
   "outputs": [
    {
     "data": {
      "image/png": "[encoded data removed]",
      "text/latex": [
       "$\\displaystyle 2 x^{2} + 3 x + 5$"
      ],
      "text/plain": [
       "   2          \n",
       "2⋅x  + 3⋅x + 5"
      ]
     },
     "execution_count": 8,
     "metadata": {},
     "output_type": "execute_result"
    }
   ],
   "source": [
    "2*x**2 + 3*x + 5"
   ]
  },
  {
   "cell_type": "markdown",
   "id": "b73e852b",
   "metadata": {},
   "source": [
    "$$8x^3 - 6x^2 + 16x +289 $$"
   ]
  },
  {
   "cell_type": "code",
   "execution_count": 9,
   "id": "cc553269",
   "metadata": {},
   "outputs": [
    {
     "data": {
      "image/png": "[encoded data removed]",
      "text/latex": [
       "$\\displaystyle 8 x^{3} - 6 x^{2} + 16 x + 289$"
      ],
      "text/plain": [
       "   3      2             \n",
       "8⋅x  - 6⋅x  + 16⋅x + 289"
      ]
     },
     "execution_count": 9,
     "metadata": {},
     "output_type": "execute_result"
    }
   ],
   "source": [
    "8*x**3 - 6*x**2 + 16*x +289"
   ]
  },
  {
   "cell_type": "markdown",
   "id": "7a9dfd08",
   "metadata": {},
   "source": [
    "$$\\sqrt x$$"
   ]
  },
  {
   "cell_type": "code",
   "execution_count": 10,
   "id": "23fdc807",
   "metadata": {},
   "outputs": [
    {
     "data": {
      "image/png": "[encoded data removed]",
      "text/latex": [
       "$\\displaystyle x^{0.5}$"
      ],
      "text/plain": [
       " 0.5\n",
       "x   "
      ]
     },
     "execution_count": 10,
     "metadata": {},
     "output_type": "execute_result"
    }
   ],
   "source": [
    "x**(1/2)"
   ]
  },
  {
   "cell_type": "markdown",
   "id": "61c05662",
   "metadata": {},
   "source": [
    "This takes us to the Sympy data types.\n",
    "\n",
    " - Integer() <br />\n",
    " - Rational()"
   ]
  },
  {
   "cell_type": "code",
   "execution_count": 11,
   "id": "703396de",
   "metadata": {},
   "outputs": [
    {
     "data": {
      "image/png": "[encoded data removed]",
      "text/latex": [
       "$\\displaystyle \\sqrt{x}$"
      ],
      "text/plain": [
       "√x"
      ]
     },
     "execution_count": 11,
     "metadata": {},
     "output_type": "execute_result"
    }
   ],
   "source": [
    "x**(smp.Integer(1)/smp.Integer(2))"
   ]
  },
  {
   "cell_type": "markdown",
   "id": "6d927cf1",
   "metadata": {},
   "source": [
    "Let's raise the above expression to a power of (1/6) "
   ]
  },
  {
   "cell_type": "code",
   "execution_count": 12,
   "id": "dd37b92b",
   "metadata": {},
   "outputs": [
    {
     "data": {
      "image/png": "[encoded data removed]",
      "text/latex": [
       "$\\displaystyle x^{0.0833333333333333}$"
      ],
      "text/plain": [
       " 0.0833333333333333\n",
       "x                  "
      ]
     },
     "execution_count": 12,
     "metadata": {},
     "output_type": "execute_result"
    }
   ],
   "source": [
    "p = x**(smp.Integer(1)/smp.Integer(2))\n",
    "p**(1/6)     #This produces an approximated power because of the numeric evaluation of 1/6."
   ]
  },
  {
   "cell_type": "code",
   "execution_count": 13,
   "id": "b6a920f0",
   "metadata": {},
   "outputs": [
    {
     "data": {
      "image/png": "[encoded data removed]",
      "text/latex": [
       "$\\displaystyle \\sqrt[12]{x}$"
      ],
      "text/plain": [
       "12___\n",
       "╲╱ x "
      ]
     },
     "execution_count": 13,
     "metadata": {},
     "output_type": "execute_result"
    }
   ],
   "source": [
    "p**(smp.Integer(1) / smp.Integer(6))"
   ]
  },
  {
   "cell_type": "markdown",
   "id": "9e6ce997",
   "metadata": {},
   "source": [
    "As in the above example, we can apply the integer to either the numerator or denominator alone and it still works fine. Once we evaluate a symbolic expression with a numeric, the outcome is a symbolic expression.<br />\n",
    "\n",
    "eg."
   ]
  },
  {
   "cell_type": "code",
   "execution_count": 14,
   "id": "6f1f5392",
   "metadata": {},
   "outputs": [
    {
     "data": {
      "image/png": "[encoded data removed]",
      "text/latex": [
       "$\\displaystyle \\sqrt{x}$"
      ],
      "text/plain": [
       "√x"
      ]
     },
     "execution_count": 14,
     "metadata": {},
     "output_type": "execute_result"
    }
   ],
   "source": [
    "x**(smp.Integer(1)/2)"
   ]
  },
  {
   "cell_type": "code",
   "execution_count": 15,
   "id": "67640791",
   "metadata": {},
   "outputs": [
    {
     "data": {
      "image/png": "[encoded data removed]",
      "text/latex": [
       "$\\displaystyle \\sqrt{x}$"
      ],
      "text/plain": [
       "√x"
      ]
     },
     "execution_count": 15,
     "metadata": {},
     "output_type": "execute_result"
    }
   ],
   "source": [
    "x**(1/smp.Integer(2))"
   ]
  },
  {
   "cell_type": "code",
   "execution_count": 16,
   "id": "f8df2c88",
   "metadata": {},
   "outputs": [
    {
     "data": {
      "image/png": "[encoded data removed]",
      "text/latex": [
       "$\\displaystyle \\sqrt[12]{x}$"
      ],
      "text/plain": [
       "12___\n",
       "╲╱ x "
      ]
     },
     "execution_count": 16,
     "metadata": {},
     "output_type": "execute_result"
    }
   ],
   "source": [
    "p**(smp.Integer(1) / 6)"
   ]
  },
  {
   "cell_type": "markdown",
   "id": "eed2288c",
   "metadata": {},
   "source": [
    "Alternatively, we can apply the Rational() method"
   ]
  },
  {
   "cell_type": "code",
   "execution_count": 17,
   "id": "1eb422af",
   "metadata": {},
   "outputs": [
    {
     "data": {
      "image/png": "[encoded data removed]",
      "text/latex": [
       "$\\displaystyle \\sqrt{x}$"
      ],
      "text/plain": [
       "√x"
      ]
     },
     "execution_count": 17,
     "metadata": {},
     "output_type": "execute_result"
    }
   ],
   "source": [
    "x**(smp.Rational(1,2))"
   ]
  },
  {
   "cell_type": "code",
   "execution_count": 18,
   "id": "1cb1f9e3",
   "metadata": {},
   "outputs": [
    {
     "data": {
      "image/png": "[encoded data removed]",
      "text/latex": [
       "$\\displaystyle \\sqrt[12]{x}$"
      ],
      "text/plain": [
       "12___\n",
       "╲╱ x "
      ]
     },
     "execution_count": 18,
     "metadata": {},
     "output_type": "execute_result"
    }
   ],
   "source": [
    "p =x**(smp.Rational(1,2))\n",
    "p**(smp.Rational(1,6))"
   ]
  },
  {
   "cell_type": "code",
   "execution_count": 19,
   "id": "50db465f",
   "metadata": {},
   "outputs": [
    {
     "data": {
      "image/png": "[encoded data removed]",
      "text/latex": [
       "$\\displaystyle \\sqrt[12]{x}$"
      ],
      "text/plain": [
       "12___\n",
       "╲╱ x "
      ]
     },
     "execution_count": 19,
     "metadata": {},
     "output_type": "execute_result"
    }
   ],
   "source": [
    "( x**(smp.Rational(1,2)) )**(smp.Rational(1,6))"
   ]
  },
  {
   "cell_type": "markdown",
   "id": "d60b84c2",
   "metadata": {},
   "source": [
    "Just as a pass-through message, be mindful of the application of parenthesis"
   ]
  },
  {
   "cell_type": "code",
   "execution_count": 20,
   "id": "226128fd",
   "metadata": {},
   "outputs": [
    {
     "data": {
      "image/png": "[encoded data removed]",
      "text/latex": [
       "$\\displaystyle x^{\\frac{2^{\\frac{5}{6}}}{2}}$"
      ],
      "text/plain": [
       "  5/6\n",
       " 2   \n",
       " ────\n",
       "  2  \n",
       "x    "
      ]
     },
     "execution_count": 20,
     "metadata": {},
     "output_type": "execute_result"
    }
   ],
   "source": [
    "x**(smp.Rational(1,2))**(smp.Rational(1,6)) #This produces something different from what we expect. "
   ]
  },
  {
   "cell_type": "markdown",
   "id": "b7a0632e",
   "metadata": {},
   "source": [
    "A quick look at some special symbols/methods in sympy"
   ]
  },
  {
   "cell_type": "markdown",
   "id": "3587d6e5",
   "metadata": {},
   "source": [
    "$$\\pi$$"
   ]
  },
  {
   "cell_type": "code",
   "execution_count": 21,
   "id": "283d31c7",
   "metadata": {},
   "outputs": [
    {
     "data": {
      "image/png": "[encoded data removed]",
      "text/latex": [
       "$\\displaystyle \\pi$"
      ],
      "text/plain": [
       "π"
      ]
     },
     "execution_count": 21,
     "metadata": {},
     "output_type": "execute_result"
    }
   ],
   "source": [
    "smp.pi"
   ]
  },
  {
   "cell_type": "code",
   "execution_count": 22,
   "id": "7e18f541",
   "metadata": {},
   "outputs": [
    {
     "name": "stderr",
     "output_type": "stream",
     "text": [
      "C:\\Users\\UncleJay\\AppData\\Local\\Temp/ipykernel_42012/3493682179.py:2: DeprecationWarning: `np.float` is a deprecated alias for the builtin `float`. To silence this warning, use `float` by itself. Doing this will not modify any behavior and is safe. If you specifically wanted the numpy scalar type, use `np.float64` here.\n",
      "Deprecated in NumPy 1.20; for more details and guidance: https://numpy.org/devdocs/release/1.20.0-notes.html#deprecations\n",
      "  np.float(smp.pi)\n"
     ]
    },
    {
     "data": {
      "image/png": "[encoded data removed]",
      "text/latex": [
       "$\\displaystyle 3.14159265358979$"
      ],
      "text/plain": [
       "3.141592653589793"
      ]
     },
     "execution_count": 22,
     "metadata": {},
     "output_type": "execute_result"
    }
   ],
   "source": [
    "import numpy as np\n",
    "np.float(smp.pi)      \n",
    "#Sympy has a method for solving explicitly. We will address that in a bit."
   ]
  },
  {
   "cell_type": "markdown",
   "id": "3c1c4e20",
   "metadata": {},
   "source": [
    "$$ \\sqrt x$$"
   ]
  },
  {
   "cell_type": "code",
   "execution_count": 23,
   "id": "439b34d2",
   "metadata": {},
   "outputs": [
    {
     "data": {
      "image/png": "[encoded data removed]",
      "text/latex": [
       "$\\displaystyle \\sqrt{x}$"
      ],
      "text/plain": [
       "√x"
      ]
     },
     "execution_count": 23,
     "metadata": {},
     "output_type": "execute_result"
    }
   ],
   "source": [
    "smp.sqrt(x)"
   ]
  },
  {
   "cell_type": "markdown",
   "id": "35c25678",
   "metadata": {},
   "source": [
    "$$ e $$"
   ]
  },
  {
   "cell_type": "code",
   "execution_count": 24,
   "id": "75e2f43f",
   "metadata": {},
   "outputs": [
    {
     "data": {
      "image/png": "[encoded data removed]",
      "text/latex": [
       "$\\displaystyle e$"
      ],
      "text/plain": [
       "ℯ"
      ]
     },
     "execution_count": 24,
     "metadata": {},
     "output_type": "execute_result"
    }
   ],
   "source": [
    "smp.E"
   ]
  },
  {
   "cell_type": "markdown",
   "id": "cb79cbe3",
   "metadata": {},
   "source": [
    "The various trigonometric functions too."
   ]
  },
  {
   "cell_type": "code",
   "execution_count": 25,
   "id": "df15c6e4",
   "metadata": {},
   "outputs": [
    {
     "data": {
      "image/png": "[encoded data removed]",
      "text/latex": [
       "$\\displaystyle \\sin{\\left(x \\right)} + \\cos{\\left(x \\right)} - \\tan{\\left(x \\right)}$"
      ],
      "text/plain": [
       "sin(x) + cos(x) - tan(x)"
      ]
     },
     "execution_count": 25,
     "metadata": {},
     "output_type": "execute_result"
    }
   ],
   "source": [
    "smp.cos(x) + smp.sin(x) - smp.tan(x)"
   ]
  },
  {
   "cell_type": "markdown",
   "id": "1f4f87aa",
   "metadata": {},
   "source": [
    "# Simplify"
   ]
  },
  {
   "cell_type": "code",
   "execution_count": 26,
   "id": "d428077a",
   "metadata": {},
   "outputs": [
    {
     "data": {
      "image/png": "[encoded data removed]",
      "text/latex": [
       "$\\displaystyle 8 x - 10$"
      ],
      "text/plain": [
       "8⋅x - 10"
      ]
     },
     "execution_count": 26,
     "metadata": {},
     "output_type": "execute_result"
    }
   ],
   "source": [
    "eq1 = 3*x + 5*x + 20 - 30\n",
    "eq1"
   ]
  },
  {
   "cell_type": "code",
   "execution_count": 27,
   "id": "517fad83",
   "metadata": {},
   "outputs": [
    {
     "data": {
      "text/plain": [
       "sympy.core.add.Add"
      ]
     },
     "execution_count": 27,
     "metadata": {},
     "output_type": "execute_result"
    }
   ],
   "source": [
    "type(eq1)"
   ]
  },
  {
   "cell_type": "code",
   "execution_count": 28,
   "id": "c580e0ba",
   "metadata": {},
   "outputs": [
    {
     "data": {
      "image/png": "[encoded data removed]",
      "text/latex": [
       "$\\displaystyle 3 x^{2} + 8 x - 2$"
      ],
      "text/plain": [
       "   2          \n",
       "3⋅x  + 8⋅x - 2"
      ]
     },
     "execution_count": 28,
     "metadata": {},
     "output_type": "execute_result"
    }
   ],
   "source": [
    "(4*x + 5) + (3*x**2 + 4*x - 7)"
   ]
  },
  {
   "cell_type": "code",
   "execution_count": 29,
   "id": "5d3f6097",
   "metadata": {},
   "outputs": [
    {
     "data": {
      "image/png": "[encoded data removed]",
      "text/latex": [
       "$\\displaystyle x \\left(2 x + 2\\right)$"
      ],
      "text/plain": [
       "x⋅(2⋅x + 2)"
      ]
     },
     "execution_count": 29,
     "metadata": {},
     "output_type": "execute_result"
    }
   ],
   "source": [
    "x*(2*x + 2)   #Some exceptions which can ve treated explicitly"
   ]
  },
  {
   "cell_type": "markdown",
   "id": "cb88351b",
   "metadata": {},
   "source": [
    "Factorizing and Expanding Expressions"
   ]
  },
  {
   "cell_type": "code",
   "execution_count": 30,
   "id": "def01f65",
   "metadata": {},
   "outputs": [
    {
     "data": {
      "image/png": "[encoded data removed]",
      "text/latex": [
       "$\\displaystyle 2 \\left(4 x^{3} - 3 x^{2} + 8 x + 4\\right)$"
      ],
      "text/plain": [
       "  ⎛   3      2          ⎞\n",
       "2⋅⎝4⋅x  - 3⋅x  + 8⋅x + 4⎠"
      ]
     },
     "execution_count": 30,
     "metadata": {},
     "output_type": "execute_result"
    }
   ],
   "source": [
    "y = 8*x**3 - 6*x**2 + 16*x +8\n",
    "a = y.factor()\n",
    "a"
   ]
  },
  {
   "cell_type": "code",
   "execution_count": 31,
   "id": "fc1f2e82",
   "metadata": {},
   "outputs": [
    {
     "data": {
      "image/png": "[encoded data removed]",
      "text/latex": [
       "$\\displaystyle 2 \\left(4 x^{3} - 3 x^{2} + 8 x + 4\\right)$"
      ],
      "text/plain": [
       "  ⎛   3      2          ⎞\n",
       "2⋅⎝4⋅x  - 3⋅x  + 8⋅x + 4⎠"
      ]
     },
     "execution_count": 31,
     "metadata": {},
     "output_type": "execute_result"
    }
   ],
   "source": [
    "smp.factor(y)   #You can also adopt this alternative approach"
   ]
  },
  {
   "cell_type": "markdown",
   "id": "c4a68d95",
   "metadata": {},
   "source": [
    "Factorize the expression: $a^2 + 5a -6$"
   ]
  },
  {
   "cell_type": "code",
   "execution_count": 32,
   "id": "f2bfde3d",
   "metadata": {},
   "outputs": [
    {
     "data": {
      "image/png": "[encoded data removed]",
      "text/latex": [
       "$\\displaystyle 2 \\left(4 x^{3} - 3 x^{2} + 8 x + 7\\right) \\left(8 x^{3} - 6 x^{2} + 16 x + 7\\right)$"
      ],
      "text/plain": [
       "  ⎛   3      2          ⎞ ⎛   3      2           ⎞\n",
       "2⋅⎝4⋅x  - 3⋅x  + 8⋅x + 7⎠⋅⎝8⋅x  - 6⋅x  + 16⋅x + 7⎠"
      ]
     },
     "execution_count": 32,
     "metadata": {},
     "output_type": "execute_result"
    }
   ],
   "source": [
    "y = a**2 + 5*a -6\n",
    "y.factor()"
   ]
  },
  {
   "cell_type": "markdown",
   "id": "40fe2206",
   "metadata": {},
   "source": [
    "Expand the expression: $(a-1)(a+6)$"
   ]
  },
  {
   "cell_type": "code",
   "execution_count": 33,
   "id": "552f5383",
   "metadata": {},
   "outputs": [
    {
     "data": {
      "image/png": "[encoded data removed]",
      "text/latex": [
       "$\\displaystyle 64 x^{6} - 96 x^{5} + 292 x^{4} - 24 x^{3} + 130 x^{2} + 336 x + 98$"
      ],
      "text/plain": [
       "    6       5        4       3        2             \n",
       "64⋅x  - 96⋅x  + 292⋅x  - 24⋅x  + 130⋅x  + 336⋅x + 98"
      ]
     },
     "execution_count": 33,
     "metadata": {},
     "output_type": "execute_result"
    }
   ],
   "source": [
    "((a-1)*(a+6)).expand()"
   ]
  },
  {
   "cell_type": "markdown",
   "id": "0297c101",
   "metadata": {},
   "source": [
    "Substituting a value into an expression."
   ]
  },
  {
   "cell_type": "code",
   "execution_count": 34,
   "id": "00c84685",
   "metadata": {},
   "outputs": [
    {
     "data": {
      "image/png": "[encoded data removed]",
      "text/latex": [
       "$\\displaystyle 64 x^{6} - 96 x^{5} + 292 x^{4} - 24 x^{3} + 130 x^{2} + 336 x + 98$"
      ],
      "text/plain": [
       "    6       5        4       3        2             \n",
       "64⋅x  - 96⋅x  + 292⋅x  - 24⋅x  + 130⋅x  + 336⋅x + 98"
      ]
     },
     "execution_count": 34,
     "metadata": {},
     "output_type": "execute_result"
    }
   ],
   "source": [
    "((a-1)*(a+6)).expand().subs(a, 5)"
   ]
  },
  {
   "cell_type": "code",
   "execution_count": 35,
   "id": "2816ed84",
   "metadata": {},
   "outputs": [
    {
     "data": {
      "image/png": "[encoded data removed]",
      "text/latex": [
       "$\\displaystyle 64 x^{6} - 96 x^{5} + 292 x^{4} - 24 x^{3} + 130 x^{2} + 336 x + 98$"
      ],
      "text/plain": [
       "    6       5        4       3        2             \n",
       "64⋅x  - 96⋅x  + 292⋅x  - 24⋅x  + 130⋅x  + 336⋅x + 98"
      ]
     },
     "execution_count": 35,
     "metadata": {},
     "output_type": "execute_result"
    }
   ],
   "source": [
    "((a-1)*(a+6)).expand().subs(a, 'o')"
   ]
  },
  {
   "cell_type": "markdown",
   "id": "86dc7e32",
   "metadata": {},
   "source": [
    "We can also substitute a defined symbol"
   ]
  },
  {
   "cell_type": "code",
   "execution_count": 36,
   "id": "3590d348",
   "metadata": {},
   "outputs": [
    {
     "data": {
      "image/png": "[encoded data removed]",
      "text/latex": [
       "$\\displaystyle 4 \\left(4 x^{3} - 3 x^{2} + 8 x + 4\\right)^{2} + 10 \\left(4 x^{3} - 3 x^{2} + 8 x + 4\\right) - 6$"
      ],
      "text/plain": [
       "                         2                                 \n",
       "  ⎛   3      2          ⎞       ⎛   3      2          ⎞    \n",
       "4⋅⎝4⋅x  - 3⋅x  + 8⋅x + 4⎠  + 10⋅⎝4⋅x  - 3⋅x  + 8⋅x + 4⎠ - 6"
      ]
     },
     "execution_count": 36,
     "metadata": {},
     "output_type": "execute_result"
    }
   ],
   "source": [
    "y"
   ]
  },
  {
   "cell_type": "code",
   "execution_count": 37,
   "id": "a106596f",
   "metadata": {},
   "outputs": [
    {
     "data": {
      "image/png": "[encoded data removed]",
      "text/latex": [
       "$\\displaystyle 64 x^{6} - 96 x^{5} + 292 x^{4} - 24 x^{3} + 130 x^{2} + 336 x + 98$"
      ],
      "text/plain": [
       "    6       5        4       3        2             \n",
       "64⋅x  - 96⋅x  + 292⋅x  - 24⋅x  + 130⋅x  + 336⋅x + 98"
      ]
     },
     "execution_count": 37,
     "metadata": {},
     "output_type": "execute_result"
    }
   ],
   "source": [
    "y = smp.symbols('x0:2, y0:3')\n",
    "\n",
    "((a-1)*(a+6)).expand().subs(a,y[0])"
   ]
  },
  {
   "cell_type": "code",
   "execution_count": 38,
   "id": "b801fb58",
   "metadata": {},
   "outputs": [
    {
     "data": {
      "image/png": "[encoded data removed]",
      "text/latex": [
       "$\\displaystyle y^{20} + 2 y^{10} - 5$"
      ],
      "text/plain": [
       " 20      10    \n",
       "y   + 2⋅y   - 5"
      ]
     },
     "execution_count": 38,
     "metadata": {},
     "output_type": "execute_result"
    }
   ],
   "source": [
    "expression = x**2 + 2*x - 5\n",
    "expression.subs(x,'y**10')"
   ]
  },
  {
   "cell_type": "code",
   "execution_count": 39,
   "id": "34afdfa7",
   "metadata": {},
   "outputs": [
    {
     "data": {
      "image/png": "[encoded data removed]",
      "text/latex": [
       "$\\displaystyle y^{4} + 2 y^{2} - 5$"
      ],
      "text/plain": [
       " 4      2    \n",
       "y  + 2⋅y  - 5"
      ]
     },
     "execution_count": 39,
     "metadata": {},
     "output_type": "execute_result"
    }
   ],
   "source": [
    "y = x**2 + 2*x - 5\n",
    "y.subs(x, 'y**2')"
   ]
  },
  {
   "cell_type": "code",
   "execution_count": 40,
   "id": "f084af71",
   "metadata": {},
   "outputs": [
    {
     "data": {
      "image/png": "[encoded data removed]",
      "text/latex": [
       "$\\displaystyle 2 x^{2} + 4 x + \\left(x^{2} + 2 x - 5\\right)^{2} - 15$"
      ],
      "text/plain": [
       "                           2     \n",
       "   2         ⎛ 2          ⎞      \n",
       "2⋅x  + 4⋅x + ⎝x  + 2⋅x - 5⎠  - 15"
      ]
     },
     "execution_count": 40,
     "metadata": {},
     "output_type": "execute_result"
    }
   ],
   "source": [
    "y = x**2 + 2*x - 5\n",
    "y.subs(x, y)\n",
    "#We substitute here the equation back into itself."
   ]
  },
  {
   "cell_type": "markdown",
   "id": "0e6db3f5",
   "metadata": {},
   "source": [
    "`Question 1: set an expression for the following:`\n",
    "$$\n",
    "x^2 + 2x -5\n",
    "$$\n",
    "\n",
    "Evaluate the expression for $x=1.5$. Also, make a variable substitution: $z$ for $x$. Do a variable substitution $y^2$ for $x$"
   ]
  },
  {
   "cell_type": "code",
   "execution_count": 41,
   "id": "b0d0b82c",
   "metadata": {},
   "outputs": [
    {
     "data": {
      "image/png": "[encoded data removed]",
      "text/latex": [
       "$\\displaystyle 0.25$"
      ],
      "text/plain": [
       "0.250000000000000"
      ]
     },
     "execution_count": 41,
     "metadata": {},
     "output_type": "execute_result"
    }
   ],
   "source": [
    "#Here's the solution for x = 1.5\n",
    "expression = x**2 + 2*x - 5\n",
    "eva1 = expression.subs(x, 1.5)     \n",
    "eva1"
   ]
  },
  {
   "cell_type": "code",
   "execution_count": 42,
   "id": "72cd735e",
   "metadata": {},
   "outputs": [
    {
     "data": {
      "text/plain": [
       "True"
      ]
     },
     "execution_count": 42,
     "metadata": {},
     "output_type": "execute_result"
    }
   ],
   "source": [
    "eva1 == 0.25   #The output of the evaluated expression is equal to the floating number 0.25. \n",
    "               #However, they are not similar by type."
   ]
  },
  {
   "cell_type": "code",
   "execution_count": 43,
   "id": "fb90b484",
   "metadata": {},
   "outputs": [
    {
     "data": {
      "text/plain": [
       "False"
      ]
     },
     "execution_count": 43,
     "metadata": {},
     "output_type": "execute_result"
    }
   ],
   "source": [
    "type(eva1) == type(0.25)  #We evaluate their data types."
   ]
  },
  {
   "cell_type": "code",
   "execution_count": 44,
   "id": "24fd2bcf",
   "metadata": {},
   "outputs": [
    {
     "data": {
      "text/plain": [
       "sympy.core.numbers.Float"
      ]
     },
     "execution_count": 44,
     "metadata": {},
     "output_type": "execute_result"
    }
   ],
   "source": [
    "type(eva1)"
   ]
  },
  {
   "cell_type": "code",
   "execution_count": 45,
   "id": "99be2ae4",
   "metadata": {},
   "outputs": [
    {
     "data": {
      "image/png": "[encoded data removed]",
      "text/latex": [
       "$\\displaystyle z^{2} + 2 z - 5$"
      ],
      "text/plain": [
       " 2          \n",
       "z  + 2⋅z - 5"
      ]
     },
     "execution_count": 45,
     "metadata": {},
     "output_type": "execute_result"
    }
   ],
   "source": [
    "#Here's the solution for x = z\n",
    "eva2 = expression.subs(x, 'z') \n",
    "eva2"
   ]
  },
  {
   "cell_type": "code",
   "execution_count": 46,
   "id": "b708f3f2",
   "metadata": {},
   "outputs": [
    {
     "data": {
      "image/png": "[encoded data removed]",
      "text/latex": [
       "$\\displaystyle z^{2} + 2 z - 5$"
      ],
      "text/plain": [
       " 2          \n",
       "z  + 2⋅z - 5"
      ]
     },
     "execution_count": 46,
     "metadata": {},
     "output_type": "execute_result"
    }
   ],
   "source": [
    "# or\n",
    "z = smp.Symbol('z')\n",
    "expression.subs(x,z)"
   ]
  },
  {
   "cell_type": "code",
   "execution_count": 47,
   "id": "a68add5b",
   "metadata": {},
   "outputs": [
    {
     "data": {
      "image/png": "[encoded data removed]",
      "text/latex": [
       "$\\displaystyle y^{4} + 2 y^{2} - 5$"
      ],
      "text/plain": [
       " 4      2    \n",
       "y  + 2⋅y  - 5"
      ]
     },
     "execution_count": 47,
     "metadata": {},
     "output_type": "execute_result"
    }
   ],
   "source": [
    "#Here's the solution for x = y**2\n",
    "eva3 = expression.subs(x, 'y**2')\n",
    "eva3"
   ]
  },
  {
   "cell_type": "markdown",
   "id": "52430862",
   "metadata": {},
   "source": [
    "`Question 2: Expand the following expression symbolically:`\n",
    "$$\n",
    "(x+1)^3(x-2)^2\n",
    "$$"
   ]
  },
  {
   "cell_type": "code",
   "execution_count": 48,
   "id": "32daf988",
   "metadata": {
    "scrolled": true
   },
   "outputs": [
    {
     "data": {
      "image/png": "[encoded data removed]",
      "text/latex": [
       "$\\displaystyle x^{5} - x^{4} - 5 x^{3} + x^{2} + 8 x + 4$"
      ],
      "text/plain": [
       " 5    4      3    2          \n",
       "x  - x  - 5⋅x  + x  + 8⋅x + 4"
      ]
     },
     "execution_count": 48,
     "metadata": {},
     "output_type": "execute_result"
    }
   ],
   "source": [
    "#Here's the solution\n",
    "exp = (x+1)**3 * (x-2)**2\n",
    "\n",
    "smp.expand(exp)"
   ]
  },
  {
   "cell_type": "code",
   "execution_count": 49,
   "id": "4b6a0efc",
   "metadata": {},
   "outputs": [
    {
     "data": {
      "image/png": "[encoded data removed]",
      "text/latex": [
       "$\\displaystyle x^{5} - x^{4} - 5 x^{3} + x^{2} + 8 x + 4$"
      ],
      "text/plain": [
       " 5    4      3    2          \n",
       "x  - x  - 5⋅x  + x  + 8⋅x + 4"
      ]
     },
     "execution_count": 49,
     "metadata": {},
     "output_type": "execute_result"
    }
   ],
   "source": [
    "#Alternatively\n",
    "exp.expand()"
   ]
  },
  {
   "cell_type": "markdown",
   "id": "04f013ca",
   "metadata": {},
   "source": [
    "`Question 3: Factorize the following expression:`\n",
    "$$\n",
    "3x^4 - 36x^3 + 99x^2 - 6x -144\n",
    "$$"
   ]
  },
  {
   "cell_type": "code",
   "execution_count": 50,
   "id": "2f4c4784",
   "metadata": {},
   "outputs": [
    {
     "data": {
      "image/png": "[encoded data removed]",
      "text/latex": [
       "$\\displaystyle 3 \\left(x - 8\\right) \\left(x - 3\\right) \\left(x - 2\\right) \\left(x + 1\\right)$"
      ],
      "text/plain": [
       "3⋅(x - 8)⋅(x - 3)⋅(x - 2)⋅(x + 1)"
      ]
     },
     "execution_count": 50,
     "metadata": {},
     "output_type": "execute_result"
    }
   ],
   "source": [
    "#Here's the solution\n",
    "exp = 3*x**4 - 36*x**3 + 99*x**2 - 6*x - 144\n",
    "smp.factor(exp)"
   ]
  },
  {
   "cell_type": "code",
   "execution_count": 51,
   "id": "f7d130c0",
   "metadata": {},
   "outputs": [
    {
     "data": {
      "image/png": "[encoded data removed]",
      "text/latex": [
       "$\\displaystyle 3 \\left(x - 8\\right) \\left(x - 3\\right) \\left(x - 2\\right) \\left(x + 1\\right)$"
      ],
      "text/plain": [
       "3⋅(x - 8)⋅(x - 3)⋅(x - 2)⋅(x + 1)"
      ]
     },
     "execution_count": 51,
     "metadata": {},
     "output_type": "execute_result"
    }
   ],
   "source": [
    "#Alternatively\n",
    "exp.factor()"
   ]
  },
  {
   "cell_type": "code",
   "execution_count": 52,
   "id": "0c1c5fcf",
   "metadata": {},
   "outputs": [
    {
     "data": {
      "image/png": "[encoded data removed]",
      "text/latex": [
       "$\\displaystyle e^{x}$"
      ],
      "text/plain": [
       " x\n",
       "ℯ "
      ]
     },
     "execution_count": 52,
     "metadata": {},
     "output_type": "execute_result"
    }
   ],
   "source": [
    "ex1 = smp.exp(x)\n",
    "ex1"
   ]
  },
  {
   "cell_type": "code",
   "execution_count": 53,
   "id": "daeca5bc",
   "metadata": {},
   "outputs": [
    {
     "data": {
      "image/png": "[encoded data removed]",
      "text/latex": [
       "$\\displaystyle e^{x}$"
      ],
      "text/plain": [
       " x\n",
       "ℯ "
      ]
     },
     "execution_count": 53,
     "metadata": {},
     "output_type": "execute_result"
    }
   ],
   "source": [
    "ex2 = smp.E**x\n",
    "ex2"
   ]
  },
  {
   "cell_type": "markdown",
   "id": "1fbd0889",
   "metadata": {},
   "source": [
    "# Equations\n",
    "\n",
    " - Eq(): to generate the equation\n",
    " - solveset(): to solve the equation\n",
    " - linsolve(): to solve linear equations"
   ]
  },
  {
   "cell_type": "markdown",
   "id": "c4177ed8",
   "metadata": {},
   "source": [
    "$$ x^2 - 5 = 0 $$"
   ]
  },
  {
   "cell_type": "code",
   "execution_count": 54,
   "id": "f737bc54",
   "metadata": {},
   "outputs": [
    {
     "data": {
      "image/png": "[encoded data removed]",
      "text/latex": [
       "$\\displaystyle x^{2} - 5 = 0$"
      ],
      "text/plain": [
       " 2        \n",
       "x  - 5 = 0"
      ]
     },
     "execution_count": 54,
     "metadata": {},
     "output_type": "execute_result"
    }
   ],
   "source": [
    "p = smp.Eq(x**2 - 5, 0)\n",
    "p"
   ]
  },
  {
   "cell_type": "code",
   "execution_count": 55,
   "id": "dafb03f3",
   "metadata": {},
   "outputs": [
    {
     "name": "stderr",
     "output_type": "stream",
     "text": [
      "C:\\Users\\UncleJay\\Anaconda3\\lib\\site-packages\\sympy\\core\\relational.py:495: SymPyDeprecationWarning: \n",
      "\n",
      "Eq(expr) with rhs default to 0 has been deprecated since SymPy 1.5.\n",
      "Use Eq(expr, 0) instead. See\n",
      "https://github.com/sympy/sympy/issues/16587 for more info.\n",
      "\n",
      "  SymPyDeprecationWarning(\n"
     ]
    },
    {
     "data": {
      "image/png": "[encoded data removed]",
      "text/latex": [
       "$\\displaystyle x^{2} - 5 = 0$"
      ],
      "text/plain": [
       " 2        \n",
       "x  - 5 = 0"
      ]
     },
     "execution_count": 55,
     "metadata": {},
     "output_type": "execute_result"
    }
   ],
   "source": [
    "smp.Eq(x**2 - 5)"
   ]
  },
  {
   "cell_type": "code",
   "execution_count": 56,
   "id": "ec005a72",
   "metadata": {},
   "outputs": [
    {
     "data": {
      "image/png": "[encoded data removed]",
      "text/latex": [
       "$\\displaystyle \\left[ - \\sqrt{5}, \\  \\sqrt{5}\\right]$"
      ],
      "text/plain": [
       "[-√5, √5]"
      ]
     },
     "execution_count": 56,
     "metadata": {},
     "output_type": "execute_result"
    }
   ],
   "source": [
    "smp.solve(p)      #Produces output as a list"
   ]
  },
  {
   "cell_type": "code",
   "execution_count": 57,
   "id": "7a6708df",
   "metadata": {},
   "outputs": [
    {
     "data": {
      "text/plain": [
       "list"
      ]
     },
     "execution_count": 57,
     "metadata": {},
     "output_type": "execute_result"
    }
   ],
   "source": [
    "type(smp.solve(p))"
   ]
  },
  {
   "cell_type": "code",
   "execution_count": 58,
   "id": "2a283afe",
   "metadata": {},
   "outputs": [
    {
     "data": {
      "image/png": "[encoded data removed]",
      "text/latex": [
       "$\\displaystyle \\left\\{- \\sqrt{5}, \\sqrt{5}\\right\\}$"
      ],
      "text/plain": [
       "{-√5, √5}"
      ]
     },
     "execution_count": 58,
     "metadata": {},
     "output_type": "execute_result"
    }
   ],
   "source": [
    "smp.solveset(p)   #Produces an output of a set"
   ]
  },
  {
   "cell_type": "code",
   "execution_count": 59,
   "id": "eef9134f",
   "metadata": {},
   "outputs": [
    {
     "data": {
      "text/plain": [
       "sympy.sets.sets.FiniteSet"
      ]
     },
     "execution_count": 59,
     "metadata": {},
     "output_type": "execute_result"
    }
   ],
   "source": [
    "type(smp.solveset(p))"
   ]
  },
  {
   "cell_type": "code",
   "execution_count": 60,
   "id": "ca1906c1",
   "metadata": {},
   "outputs": [
    {
     "data": {
      "image/png": "[encoded data removed]",
      "text/latex": [
       "$\\displaystyle \\left[ - \\frac{2}{3}\\right]$"
      ],
      "text/plain": [
       "[-2/3]"
      ]
     },
     "execution_count": 60,
     "metadata": {},
     "output_type": "execute_result"
    }
   ],
   "source": [
    "eq_n = smp.Eq(x*2 + 4*x + 4, 0)\n",
    "smp.solve(eq_n)"
   ]
  },
  {
   "cell_type": "code",
   "execution_count": 61,
   "id": "c999de01",
   "metadata": {},
   "outputs": [
    {
     "data": {
      "image/png": "[encoded data removed]",
      "text/latex": [
       "$\\displaystyle \\left\\{\\left( 0, \\  \\frac{y_{1}}{5}, \\  y_{1}\\right)\\right\\}$"
      ],
      "text/plain": [
       "⎧⎛   y₁    ⎞⎫\n",
       "⎨⎜0, ──, y₁⎟⎬\n",
       "⎩⎝   5     ⎠⎭"
      ]
     },
     "execution_count": 61,
     "metadata": {},
     "output_type": "execute_result"
    }
   ],
   "source": [
    "x = smp.symbols('x1:3, y1:3')\n",
    "eq1 = smp.Eq(x[0] + 5*x[1], x[2])\n",
    "eq2 = smp.Eq(x[0] , 5*x[1] - x[2])\n",
    "#linsolve solves the linear equation based on the parsed system (arg1) for the symbols (arg2).\n",
    "result = smp.linsolve( (eq1, eq2), (x[0],x[1],x[2]) )   \n",
    "result"
   ]
  },
  {
   "cell_type": "markdown",
   "id": "e529051f",
   "metadata": {},
   "source": [
    "`Question 4: Solve for the roots of the following equation:`\n",
    "$$\n",
    "x^3 + 15x^2 = 3x - 10\n",
    "$$\n",
    "\n",
    "Use the `Eq` and `solve` functions and save as an expression. Show the expression (It will be a list). Then find the numerical value of each root using the `evalf` function. You can use `evalf` on some expression using `my_expression.evalf()`"
   ]
  },
  {
   "cell_type": "code",
   "execution_count": 64,
   "id": "44670ffb",
   "metadata": {},
   "outputs": [
    {
     "data": {
      "image/png": "[encoded data removed]",
      "text/latex": [
       "$\\displaystyle x^{3} + 15 x^{2} = 3 x - 10$"
      ],
      "text/plain": [
       " 3       2           \n",
       "x  + 15⋅x  = 3⋅x - 10"
      ]
     },
     "execution_count": 64,
     "metadata": {},
     "output_type": "execute_result"
    }
   ],
   "source": [
    "#Here's how to write and show the expression\n",
    "x = smp.Symbol('x')\n",
    "y = smp.Eq(x**3+15*x**2, 3*x-10)\n",
    "y"
   ]
  },
  {
   "cell_type": "code",
   "execution_count": 65,
   "id": "8a016c6b",
   "metadata": {
    "scrolled": true
   },
   "outputs": [
    {
     "data": {
      "image/png": "[encoded data removed]",
      "text/latex": [
       "$\\displaystyle \\left[ -6, \\  1\\right]$"
      ],
      "text/plain": [
       "[-6, 1]"
      ]
     },
     "execution_count": 65,
     "metadata": {},
     "output_type": "execute_result"
    }
   ],
   "source": [
    "y = smp.Eq(x**2+5*x-6,0)\n",
    "z = smp.solve(y,x)\n",
    "z"
   ]
  },
  {
   "cell_type": "code",
   "execution_count": 66,
   "id": "b8551168",
   "metadata": {},
   "outputs": [
    {
     "data": {
      "image/png": "[encoded data removed]",
      "text/latex": [
       "$\\displaystyle \\left\\{-6, 1\\right\\}$"
      ],
      "text/plain": [
       "{-6, 1}"
      ]
     },
     "execution_count": 66,
     "metadata": {},
     "output_type": "execute_result"
    }
   ],
   "source": [
    "smp.solveset(y,x)"
   ]
  },
  {
   "cell_type": "markdown",
   "id": "208f30e6",
   "metadata": {},
   "source": [
    "`Question 5: Solve the system of three equations in three unknowns symbolically:`\n",
    "$$\n",
    "x+y+z = 0\\\\\n",
    "2x-y-z = 10\\\\\n",
    "y+2z = 5\n",
    "$$\n",
    "\n",
    "Compare the result to the answer computed with `fsolve` from `scipy.optimize`"
   ]
  },
  {
   "cell_type": "code",
   "execution_count": 67,
   "id": "076931e5",
   "metadata": {},
   "outputs": [
    {
     "data": {
      "image/png": "[encoded data removed]",
      "text/latex": [
       "$\\displaystyle \\left\\{ x : \\frac{10}{3}, \\  y : - \\frac{35}{3}, \\  z : \\frac{25}{3}\\right\\}$"
      ],
      "text/plain": [
       "{x: 10/3, y: -35/3, z: 25/3}"
      ]
     },
     "execution_count": 67,
     "metadata": {},
     "output_type": "execute_result"
    }
   ],
   "source": [
    "#Using the symbolical method:\n",
    "\n",
    "x,y,z = smp.symbols('x,y,z')\n",
    "\n",
    "eq1 = smp.Eq(x+y+z, 0)\n",
    "eq2 = smp.Eq(2*x-y-z, 10)\n",
    "eq3 = smp.Eq(y+2*z, 5)\n",
    "\n",
    "smp.solve([eq1, eq2, eq3], (x,y,z))"
   ]
  },
  {
   "cell_type": "markdown",
   "id": "4c38dfa3",
   "metadata": {},
   "source": [
    "How we would have solved using"
   ]
  },
  {
   "cell_type": "code",
   "execution_count": 94,
   "id": "b05d6e26",
   "metadata": {},
   "outputs": [
    {
     "data": {
      "text/plain": [
       "array([  3.33333333, -11.66666667,   8.33333333])"
      ]
     },
     "execution_count": 94,
     "metadata": {},
     "output_type": "execute_result"
    }
   ],
   "source": [
    "#Using Scipy\n",
    "\n",
    "from scipy.optimize import fsolve\n",
    "\n",
    "def f(w):\n",
    "    x = w[0]\n",
    "    y = w[1]\n",
    "    z = w[2]\n",
    "    \n",
    "    f1 = x+y+z\n",
    "    f2 = 2*x-y-z-10\n",
    "    f3 = y+2*z-5\n",
    "    \n",
    "    return [f1,f2,f3]\n",
    "\n",
    "result = fsolve(f,[0,0,0])\n",
    "result"
   ]
  },
  {
   "cell_type": "markdown",
   "id": "9b479ccd",
   "metadata": {},
   "source": [
    "# Differentiation\n",
    "\n",
    "\n",
    "    "
   ]
  },
  {
   "cell_type": "markdown",
   "id": "6cfe3916",
   "metadata": {},
   "source": [
    "$$\\frac{\\partial f}{\\partial x}$$  or $$f' (x)$$"
   ]
  },
  {
   "cell_type": "code",
   "execution_count": 68,
   "id": "4ea81b28",
   "metadata": {},
   "outputs": [
    {
     "data": {
      "image/png": "[encoded data removed]",
      "text/latex": [
       "$\\displaystyle x^{2}$"
      ],
      "text/plain": [
       " 2\n",
       "x "
      ]
     },
     "execution_count": 68,
     "metadata": {},
     "output_type": "execute_result"
    }
   ],
   "source": [
    "x = smp.Symbol('x')\n",
    "y = x**2\n",
    "y"
   ]
  },
  {
   "cell_type": "code",
   "execution_count": 69,
   "id": "ccd6ca5c",
   "metadata": {},
   "outputs": [
    {
     "data": {
      "image/png": "[encoded data removed]",
      "text/latex": [
       "$\\displaystyle 2 x$"
      ],
      "text/plain": [
       "2⋅x"
      ]
     },
     "execution_count": 69,
     "metadata": {},
     "output_type": "execute_result"
    }
   ],
   "source": [
    "smp.diff(y)"
   ]
  },
  {
   "cell_type": "markdown",
   "id": "f25bc8ac",
   "metadata": {},
   "source": [
    "$$y =5x^2 + 6x -15$$\n",
    "$$ \\frac{\\partial y}{\\partial x}$$"
   ]
  },
  {
   "cell_type": "code",
   "execution_count": 70,
   "id": "f1a6d658",
   "metadata": {},
   "outputs": [
    {
     "data": {
      "image/png": "[encoded data removed]",
      "text/latex": [
       "$\\displaystyle 10 x + 6$"
      ],
      "text/plain": [
       "10⋅x + 6"
      ]
     },
     "execution_count": 70,
     "metadata": {},
     "output_type": "execute_result"
    }
   ],
   "source": [
    "y = 5*x**2 + 6*x -15\n",
    "smp.diff(y, x)"
   ]
  },
  {
   "cell_type": "markdown",
   "id": "55e9d470",
   "metadata": {},
   "source": [
    "$$y = cos^2(x) \\ e^x$$\n",
    "$$ \\frac{\\partial y}{\\partial x}$$"
   ]
  },
  {
   "cell_type": "code",
   "execution_count": 71,
   "id": "6c17574a",
   "metadata": {},
   "outputs": [
    {
     "data": {
      "image/png": "[encoded data removed]",
      "text/latex": [
       "$\\displaystyle e^{x} \\cos^{2}{\\left(x \\right)}$"
      ],
      "text/plain": [
       " x    2   \n",
       "ℯ ⋅cos (x)"
      ]
     },
     "execution_count": 71,
     "metadata": {},
     "output_type": "execute_result"
    }
   ],
   "source": [
    "y = smp.cos(x)**2 * smp.exp(x)\n",
    "y"
   ]
  },
  {
   "cell_type": "code",
   "execution_count": 72,
   "id": "88bbc3b3",
   "metadata": {},
   "outputs": [
    {
     "data": {
      "image/png": "[encoded data removed]",
      "text/latex": [
       "$\\displaystyle - 2 e^{x} \\sin{\\left(x \\right)} \\cos{\\left(x \\right)} + e^{x} \\cos^{2}{\\left(x \\right)}$"
      ],
      "text/plain": [
       "     x                  x    2   \n",
       "- 2⋅ℯ ⋅sin(x)⋅cos(x) + ℯ ⋅cos (x)"
      ]
     },
     "execution_count": 72,
     "metadata": {},
     "output_type": "execute_result"
    }
   ],
   "source": [
    "result = smp.diff(y, x)\n",
    "result"
   ]
  },
  {
   "cell_type": "code",
   "execution_count": 73,
   "id": "c908e999",
   "metadata": {},
   "outputs": [
    {
     "data": {
      "image/png": "[encoded data removed]",
      "text/latex": [
       "$\\displaystyle - 2 e^{3} \\sin{\\left(3 \\right)} \\cos{\\left(3 \\right)} + e^{3} \\cos^{2}{\\left(3 \\right)}$"
      ],
      "text/plain": [
       "     3                  3    2   \n",
       "- 2⋅ℯ ⋅sin(3)⋅cos(3) + ℯ ⋅cos (3)"
      ]
     },
     "execution_count": 73,
     "metadata": {},
     "output_type": "execute_result"
    }
   ],
   "source": [
    "# We can substitute here too\n",
    "result.subs(x, 3)\n"
   ]
  },
  {
   "cell_type": "code",
   "execution_count": 74,
   "id": "46656d31",
   "metadata": {},
   "outputs": [
    {
     "data": {
      "image/png": "[encoded data removed]",
      "text/latex": [
       "$\\displaystyle \\left(- \\sin{\\left(6 \\right)} + \\frac{\\cos{\\left(6 \\right)}}{2} + \\frac{1}{2}\\right) e^{3}$"
      ],
      "text/plain": [
       "⎛          cos(6)   1⎞  3\n",
       "⎜-sin(6) + ────── + ─⎟⋅ℯ \n",
       "⎝            2      2⎠   "
      ]
     },
     "execution_count": 74,
     "metadata": {},
     "output_type": "execute_result"
    }
   ],
   "source": [
    "result.subs(x, 3).simplify()    #Produces a simplified result"
   ]
  },
  {
   "cell_type": "markdown",
   "id": "082dd6f5",
   "metadata": {},
   "source": [
    "$$f = x y \\ e^{xy}$$\n",
    "$$ \\frac{\\partial^2 f}{\\partial x \\partial y}$$"
   ]
  },
  {
   "cell_type": "code",
   "execution_count": 75,
   "id": "3fa0c835",
   "metadata": {},
   "outputs": [
    {
     "data": {
      "image/png": "[encoded data removed]",
      "text/latex": [
       "$\\displaystyle x y e^{x y}$"
      ],
      "text/plain": [
       "     x⋅y\n",
       "x⋅y⋅ℯ   "
      ]
     },
     "execution_count": 75,
     "metadata": {},
     "output_type": "execute_result"
    }
   ],
   "source": [
    "x,y = smp.symbols(('x','y'))\n",
    "f = x*y*smp.exp(x*y)\n",
    "f"
   ]
  },
  {
   "cell_type": "code",
   "execution_count": 76,
   "id": "d955e9cd",
   "metadata": {},
   "outputs": [
    {
     "data": {
      "image/png": "[encoded data removed]",
      "text/latex": [
       "$\\displaystyle \\left(x^{2} y^{2} + 3 x y + 1\\right) e^{x y}$"
      ],
      "text/plain": [
       "⎛ 2  2            ⎞  x⋅y\n",
       "⎝x ⋅y  + 3⋅x⋅y + 1⎠⋅ℯ   "
      ]
     },
     "execution_count": 76,
     "metadata": {},
     "output_type": "execute_result"
    }
   ],
   "source": [
    "result = f.diff(x,y)      #Differentiating with respect to both x and y\n",
    "result"
   ]
  },
  {
   "cell_type": "code",
   "execution_count": 77,
   "id": "a34e6c72",
   "metadata": {},
   "outputs": [
    {
     "data": {
      "image/png": "[encoded data removed]",
      "text/latex": [
       "$\\displaystyle x^{2} y^{2} e^{x y} + 3 x y e^{x y} + e^{x y}$"
      ],
      "text/plain": [
       " 2  2  x⋅y          x⋅y    x⋅y\n",
       "x ⋅y ⋅ℯ    + 3⋅x⋅y⋅ℯ    + ℯ   "
      ]
     },
     "execution_count": 77,
     "metadata": {},
     "output_type": "execute_result"
    }
   ],
   "source": [
    "result.expand()         #Let's expand the result"
   ]
  },
  {
   "cell_type": "code",
   "execution_count": 78,
   "id": "acef7156",
   "metadata": {},
   "outputs": [
    {
     "data": {
      "image/png": "[encoded data removed]",
      "text/latex": [
       "$\\displaystyle x^{2} y^{2} e^{x y} + 3 x y e^{x y} + e^{x y}$"
      ],
      "text/plain": [
       " 2  2  x⋅y          x⋅y    x⋅y\n",
       "x ⋅y ⋅ℯ    + 3⋅x⋅y⋅ℯ    + ℯ   "
      ]
     },
     "execution_count": 78,
     "metadata": {},
     "output_type": "execute_result"
    }
   ],
   "source": [
    "#Works same as\n",
    "f.diff(x).diff(y)"
   ]
  },
  {
   "cell_type": "code",
   "execution_count": 79,
   "id": "713c396a",
   "metadata": {},
   "outputs": [
    {
     "data": {
      "image/png": "[encoded data removed]",
      "text/latex": [
       "$\\displaystyle \\left(x^{2} y^{2} + 3 x y + 1\\right) e^{x y}$"
      ],
      "text/plain": [
       "⎛ 2  2            ⎞  x⋅y\n",
       "⎝x ⋅y  + 3⋅x⋅y + 1⎠⋅ℯ   "
      ]
     },
     "execution_count": 79,
     "metadata": {},
     "output_type": "execute_result"
    }
   ],
   "source": [
    "smp.diff(f, x,y)    #Alternative Solution"
   ]
  },
  {
   "cell_type": "code",
   "execution_count": 80,
   "id": "4448739e",
   "metadata": {
    "scrolled": true
   },
   "outputs": [
    {
     "data": {
      "image/png": "[encoded data removed]",
      "text/latex": [
       "$\\displaystyle x^{2} y^{2} e^{x y} + 3 x y e^{x y} + e^{x y}$"
      ],
      "text/plain": [
       " 2  2  x⋅y          x⋅y    x⋅y\n",
       "x ⋅y ⋅ℯ    + 3⋅x⋅y⋅ℯ    + ℯ   "
      ]
     },
     "execution_count": 80,
     "metadata": {},
     "output_type": "execute_result"
    }
   ],
   "source": [
    "smp.diff(f, x,y).expand()"
   ]
  },
  {
   "cell_type": "markdown",
   "id": "c46e8c91",
   "metadata": {},
   "source": [
    "For same example\n",
    "$$ \\frac{\\partial f}{\\partial x}$$ and $$ \\frac{\\partial f}{\\partial y}$$"
   ]
  },
  {
   "cell_type": "code",
   "execution_count": 81,
   "id": "33bc7737",
   "metadata": {},
   "outputs": [
    {
     "data": {
      "image/png": "[encoded data removed]",
      "text/latex": [
       "$\\displaystyle x y^{2} e^{x y} + y e^{x y}$"
      ],
      "text/plain": [
       "   2  x⋅y      x⋅y\n",
       "x⋅y ⋅ℯ    + y⋅ℯ   "
      ]
     },
     "execution_count": 81,
     "metadata": {},
     "output_type": "execute_result"
    }
   ],
   "source": [
    "f.diff(x)"
   ]
  },
  {
   "cell_type": "code",
   "execution_count": 82,
   "id": "46fd41c1",
   "metadata": {},
   "outputs": [
    {
     "data": {
      "image/png": "[encoded data removed]",
      "text/latex": [
       "$\\displaystyle x^{2} y e^{x y} + x e^{x y}$"
      ],
      "text/plain": [
       " 2    x⋅y      x⋅y\n",
       "x ⋅y⋅ℯ    + x⋅ℯ   "
      ]
     },
     "execution_count": 82,
     "metadata": {},
     "output_type": "execute_result"
    }
   ],
   "source": [
    "f.diff(y)"
   ]
  },
  {
   "cell_type": "markdown",
   "id": "01294367",
   "metadata": {},
   "source": [
    "`Question 6: Compute the symbolic derivative:`\n",
    "$$\n",
    "\\frac {d} {dx} sin^2(x)e^{2x}\n",
    "$$\n",
    "\n",
    "`Then evaluate the resulting expression for` $x = 3.3$"
   ]
  },
  {
   "cell_type": "code",
   "execution_count": 83,
   "id": "82650964",
   "metadata": {},
   "outputs": [
    {
     "data": {
      "image/png": "[encoded data removed]",
      "text/latex": [
       "$\\displaystyle 265.596339800896$"
      ],
      "text/plain": [
       "265.596339800896"
      ]
     },
     "execution_count": 83,
     "metadata": {},
     "output_type": "execute_result"
    }
   ],
   "source": [
    "y = (smp.sin(x)**2) * (smp.exp(2*x))\n",
    "y.diff().subs(x, 3.3)"
   ]
  },
  {
   "cell_type": "code",
   "execution_count": 84,
   "id": "5b8847eb",
   "metadata": {},
   "outputs": [
    {
     "data": {
      "image/png": "[encoded data removed]",
      "text/latex": [
       "$\\displaystyle 2 e^{2 x} \\sin^{2}{\\left(x \\right)} + 2 e^{2 x} \\sin{\\left(x \\right)} \\cos{\\left(x \\right)}$"
      ],
      "text/plain": [
       "   2⋅x    2         2⋅x              \n",
       "2⋅ℯ   ⋅sin (x) + 2⋅ℯ   ⋅sin(x)⋅cos(x)"
      ]
     },
     "execution_count": 84,
     "metadata": {},
     "output_type": "execute_result"
    }
   ],
   "source": [
    "y = (smp.sin(x)**2) *smp.E**(2*x)    #We can use smp.E too\n",
    "y.diff(x)"
   ]
  },
  {
   "cell_type": "code",
   "execution_count": 85,
   "id": "2fb4f437",
   "metadata": {},
   "outputs": [
    {
     "data": {
      "image/png": "[encoded data removed]",
      "text/latex": [
       "$\\displaystyle 265.596339800896$"
      ],
      "text/plain": [
       "265.596339800896"
      ]
     },
     "execution_count": 85,
     "metadata": {},
     "output_type": "execute_result"
    }
   ],
   "source": [
    "y.diff(x).subs(x, 3.3)"
   ]
  },
  {
   "cell_type": "markdown",
   "id": "d0333ef8",
   "metadata": {},
   "source": [
    "You can try more examples.\n",
    "<hr>\n",
    "\n",
    "# Integration"
   ]
  },
  {
   "cell_type": "markdown",
   "id": "46d9825b",
   "metadata": {},
   "source": [
    "$$\n",
    "\\int_{}^{} x^2 \\ dx\n",
    "$$"
   ]
  },
  {
   "cell_type": "code",
   "execution_count": 86,
   "id": "735c027c",
   "metadata": {},
   "outputs": [
    {
     "data": {
      "image/png": "[encoded data removed]",
      "text/latex": [
       "$\\displaystyle \\frac{x^{3}}{3}$"
      ],
      "text/plain": [
       " 3\n",
       "x \n",
       "──\n",
       "3 "
      ]
     },
     "execution_count": 86,
     "metadata": {},
     "output_type": "execute_result"
    }
   ],
   "source": [
    "smp.integrate(x**2,x)"
   ]
  },
  {
   "cell_type": "markdown",
   "id": "e31e50b1",
   "metadata": {},
   "source": [
    "$$\n",
    "\\int_{}^{} cos^2(x) \\ dx\n",
    "$$"
   ]
  },
  {
   "cell_type": "code",
   "execution_count": 87,
   "id": "501f5360",
   "metadata": {},
   "outputs": [
    {
     "data": {
      "image/png": "[encoded data removed]",
      "text/latex": [
       "$\\displaystyle \\cos^{2}{\\left(x \\right)}$"
      ],
      "text/plain": [
       "   2   \n",
       "cos (x)"
      ]
     },
     "execution_count": 87,
     "metadata": {},
     "output_type": "execute_result"
    }
   ],
   "source": [
    "eq1 = smp.cos(x)**2\n",
    "eq1"
   ]
  },
  {
   "cell_type": "code",
   "execution_count": 88,
   "id": "b35a905a",
   "metadata": {},
   "outputs": [
    {
     "data": {
      "image/png": "[encoded data removed]",
      "text/latex": [
       "$\\displaystyle \\frac{x}{2} + \\frac{\\sin{\\left(x \\right)} \\cos{\\left(x \\right)}}{2}$"
      ],
      "text/plain": [
       "x   sin(x)⋅cos(x)\n",
       "─ + ─────────────\n",
       "2         2      "
      ]
     },
     "execution_count": 88,
     "metadata": {},
     "output_type": "execute_result"
    }
   ],
   "source": [
    "eq1.integrate(x)"
   ]
  },
  {
   "cell_type": "code",
   "execution_count": 89,
   "id": "2be292c3",
   "metadata": {},
   "outputs": [
    {
     "data": {
      "image/png": "[encoded data removed]",
      "text/latex": [
       "$\\displaystyle \\frac{x}{2} + \\frac{\\sin{\\left(x \\right)} \\cos{\\left(x \\right)}}{2}$"
      ],
      "text/plain": [
       "x   sin(x)⋅cos(x)\n",
       "─ + ─────────────\n",
       "2         2      "
      ]
     },
     "execution_count": 89,
     "metadata": {},
     "output_type": "execute_result"
    }
   ],
   "source": [
    "smp.integrate(eq1, x)"
   ]
  },
  {
   "cell_type": "markdown",
   "id": "b250b65f",
   "metadata": {},
   "source": [
    "Integration with bounds"
   ]
  },
  {
   "cell_type": "markdown",
   "id": "cbdf4ddd",
   "metadata": {},
   "source": [
    "$$\n",
    "\\int_{0}^{5} x^2 + 4x \\ dx\n",
    "$$"
   ]
  },
  {
   "cell_type": "code",
   "execution_count": 90,
   "id": "7b2494c7",
   "metadata": {},
   "outputs": [
    {
     "data": {
      "image/png": "[encoded data removed]",
      "text/latex": [
       "$\\displaystyle \\frac{275}{3}$"
      ],
      "text/plain": [
       "275/3"
      ]
     },
     "execution_count": 90,
     "metadata": {},
     "output_type": "execute_result"
    }
   ],
   "source": [
    "eq = x**2 + 4*x \n",
    "smp.integrate(eq, (x, 0, 5))"
   ]
  },
  {
   "cell_type": "markdown",
   "id": "b1fbfc17",
   "metadata": {},
   "source": [
    "$$\n",
    "\\int_{\\frac{-\\pi}{2}}^{\\frac{\\pi}{2}} cos^2(x) \\ dx\n",
    "$$"
   ]
  },
  {
   "cell_type": "code",
   "execution_count": 91,
   "id": "b29ee0bc",
   "metadata": {},
   "outputs": [
    {
     "data": {
      "image/png": "[encoded data removed]",
      "text/latex": [
       "$\\displaystyle \\frac{\\pi}{2}$"
      ],
      "text/plain": [
       "π\n",
       "─\n",
       "2"
      ]
     },
     "execution_count": 91,
     "metadata": {},
     "output_type": "execute_result"
    }
   ],
   "source": [
    "smp.integrate(eq1, (x, -smp.pi/2, smp.pi/2) )"
   ]
  },
  {
   "cell_type": "markdown",
   "id": "3134b89c",
   "metadata": {},
   "source": [
    "`Question 7: Create a sympy expression representing the following integral:`\n",
    "$$\n",
    "\\int_{0}^{5} x^2sin(x^2)dx\n",
    "$$\n",
    "\n",
    "`Then evaluate the integral symbolically`"
   ]
  },
  {
   "cell_type": "code",
   "execution_count": 93,
   "id": "15cd8bac",
   "metadata": {},
   "outputs": [
    {
     "data": {
      "image/png": "[encoded data removed]",
      "text/latex": [
       "$\\displaystyle - \\frac{25 \\cos{\\left(25 \\right)} \\Gamma\\left(\\frac{5}{4}\\right)}{8 \\Gamma\\left(\\frac{9}{4}\\right)} + \\frac{5 \\sqrt{2} \\sqrt{\\pi} C\\left(\\frac{5 \\sqrt{2}}{\\sqrt{\\pi}}\\right) \\Gamma\\left(\\frac{5}{4}\\right)}{16 \\Gamma\\left(\\frac{9}{4}\\right)}$"
      ],
      "text/plain": [
       "                               ⎛5⋅√2⎞       \n",
       "                      5⋅√2⋅√π⋅C⎜────⎟⋅Γ(5/4)\n",
       "  25⋅cos(25)⋅Γ(5/4)            ⎝ √π ⎠       \n",
       "- ───────────────── + ──────────────────────\n",
       "       8⋅Γ(9/4)             16⋅Γ(9/4)       "
      ]
     },
     "execution_count": 93,
     "metadata": {},
     "output_type": "execute_result"
    }
   ],
   "source": [
    "y = x**2 * smp.sin(x**2)\n",
    "\n",
    "integral = smp.integrate(y,(x,0,5))\n",
    "integral"
   ]
  },
  {
   "cell_type": "code",
   "execution_count": null,
   "id": "b9c43fbe",
   "metadata": {},
   "outputs": [],
   "source": []
  },
  {
   "cell_type": "code",
   "execution_count": null,
   "id": "99fd71a9",
   "metadata": {},
   "outputs": [],
   "source": []
  },
  {
   "cell_type": "markdown",
   "id": "44f59c8f",
   "metadata": {},
   "source": [
    "# This is where we will end the session. It's been 5 great days for learning Python and I look forward to how you'll apply what you've learnt. "
   ]
  },
  {
   "cell_type": "markdown",
   "id": "a65887a4",
   "metadata": {},
   "source": [
    " <img width=450px height=500px alt=\"Introduction to Programming With Python | OneQuantum-Ghana & MeteoData\" align='right' src=\"img/lecture-1/ad.jpeg\"><br /><br />\n",
    "<font color='red'><h1 align='center'>Introduction to Programming With Python</h1></font>\n",
    "<center><h5>notebook by Jeffrey N. A. Aryee (PhD)</h5></center> <br /><br /><br /><br />\n",
    "<center><h1>GLAD YOU STAYED TILL THE END !</h1></center>\n"
   ]
  },
  {
   "cell_type": "markdown",
   "id": "d8a0f9fd",
   "metadata": {},
   "source": [
    "<font color='red'><h1 align='center'> Let's take a Group Photo</h1></font>"
   ]
  }
 ],
 "metadata": {
  "kernelspec": {
   "display_name": "Python 3 (ipykernel)",
   "language": "python",
   "name": "python3"
  },
  "language_info": {
   "codemirror_mode": {
    "name": "ipython",
    "version": 3
   },
   "file_extension": ".py",
   "mimetype": "text/x-python",
   "name": "python",
   "nbconvert_exporter": "python",
   "pygments_lexer": "ipython3",
   "version": "3.8.12"
  }
 },
 "nbformat": 4,
 "nbformat_minor": 5
}
