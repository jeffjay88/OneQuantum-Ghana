{
 "cells": [
  {
   "cell_type": "markdown",
   "id": "087b4a91",
   "metadata": {
    "id": "G8a7bMMGoE33"
   },
   "source": [
    "# pandas - working with tabular data\n",
    "\n",
    "*notebook by Jeffrey N. A. Aryee*\n",
    "\n",
    "In this session, you will be introduced to the fundamentals of Pandas and its regular usage. \n",
    "\n",
    "The `pandas` library is the best python package for working with tabular data (i.e. data that is organised into rows and columns) and is one of the most preferred tools for data scientists to perform data manipulation and analysis. It is built on fundamental libraries, such as, `matplotlib` for data visualization and `numpy`, for scientific computing. The fast, flexible `pandas` data structures are designed to make real-world data analysis significantly easier, however it takes consistency in practice to master.\n",
    "\n",
    "\n",
    "## What's pandas for?\n",
    "\n",
    "Pandas has so many uses. It is essentially your data’s home. Through `pandas`, you get acquainted with your data by cleaning, transforming, and analyzing it. There are numerous tasks you can perform with Pandas on a dataset, which include but is not limited to:\n",
    "\n",
    "- Calculating statistics of the data, and making inferrence such as\n",
    "    - What's the average, median, max, or min of each column?\n",
    "    - Does column A correlate with column B?\n",
    "    - What does the distribution of data in column C look like?, etc.\n",
    "- Clean the data (eg. removing missing values and filtering rows or columns by certain criteria)\n",
    "- Visualize the data with help from Matplotlib or Seaborn. \n",
    "- Store the cleaned, transformed data into other file.\n",
    "\n",
    "**Objectives**\n",
    "\n",
    "The objective of this course is to introduce participants to the functionality of Pandas, with a primal focus on the underlisted:\n",
    "\n",
    "\n",
    "1. [Installing Pandas](#1.-How-to-Install-Pandas)\n",
    "2. [Importing Pandas](#2.-importing-pandas)\n",
    "3. [Creating Data Series and Dataframes with Pandas](#3.-Creating-Data-Series-and-Data-frames-with-Pandas)\n",
    "4. [Assessing Dataframe/Series information](#4.-Series/DataFrame-Information)\n",
    "5. [Data Selection](#5.-Selection-from-Data-Series-and-DataFrames)\n",
    "6. [Applying functions on a dataframe](#6.-Applying-functions-onto-a-dataframe)\n",
    "7. [Data sorting and ranking with Pandas](#7.-Sort-and-Rank-with-Pandas)\n",
    "8. [Dropping data values](#8.-Dropping-values-from-rows-(axis=0)-or-columns-(axis=1))\n",
    "9. [Replacing dataframe elements with new value](#9-.-Replacing-dataframe-elements-with-a-new-value)\n",
    "10. [Working with time series in Pandas](#10.-Working-with-Timeseries-in-Pandas): creating timeseries data, slicing and visualization with matplotlib\n",
    "11. [Working with csv files in Pandas](#11.-working-with-Comma-separated-(.csv)-files-in-pandas)\n",
    "12.\t[Loading data from an excel spreadsheet using Pandas](#1.-Loading-data-from-.xlsx-Excel-spreadsheet-file)\n",
    "13.  [Reshaping spreadsheet data](#2.-Reshaping-spreadsheet-data)\n",
    "14.  [Visualisation with seaborn](#3.-Visualisation-with-seaborn)\n",
    "15.  [Data slicing and groupby](#4.-Grouping-Data-with-Groupby()-function)\n",
    "16.\t[Working with timeseries data](#5.-Working-with-timeseries-data)\n"
   ]
  },
  {
   "cell_type": "markdown",
   "id": "404a8241",
   "metadata": {
    "id": "g_siwA5VoE4G"
   },
   "source": [
    "### 1. How to Install Pandas\n",
    "\n",
    "Being a pure python package `pandas` can be installed either with `pip` or with `conda`. `pandas` is included with the `conda` environment for the course, but in general you would install by opening up your terminal / command line and install using either:\n",
    "        \n",
    "```bash\n",
    "$> conda install pandas\n",
    "```\n",
    "\n",
    "or\n",
    "\n",
    "```bash\n",
    "$> pip install pandas\n",
    "```\n",
    "\n",
    "Precede the commands with (!) if you are attempting to install via the Jupyter cell or Spyder console (`!pip install pandas`)."
   ]
  },
  {
   "cell_type": "markdown",
   "id": "ebcb416b",
   "metadata": {},
   "source": [
    "### 2. importing `pandas`\n",
    "\n",
    "By convention the pandas package is usually imported as `pd` as a shorthand (so that we don't have to type out `pandas` every time). We will also be using `numpy` so we'll import that too (as `np`, as is the usual convention):"
   ]
  },
  {
   "cell_type": "code",
   "execution_count": 69,
   "id": "392dff21",
   "metadata": {
    "id": "2A43iuHboE4L"
   },
   "outputs": [],
   "source": [
    "import pandas as pd\n",
    "import numpy as np\n",
    "import matplotlib.pyplot as plt"
   ]
  },
  {
   "cell_type": "markdown",
   "id": "7809c74b",
   "metadata": {
    "id": "AwZLot-voE4M"
   },
   "source": [
    "You can make use of the `help()` function with any pandas function/module and this produces a long-list documentation on use of the particular feature.\n",
    "\n",
    "eg. `help(pd.date_range)`"
   ]
  },
  {
   "cell_type": "code",
   "execution_count": 70,
   "id": "64f7fa9e",
   "metadata": {
    "id": "cyFHjxsroE4N"
   },
   "outputs": [
    {
     "name": "stdout",
     "output_type": "stream",
     "text": [
      "Help on function date_range in module pandas.core.indexes.datetimes:\n",
      "\n",
      "date_range(start=None, end=None, periods=None, freq=None, tz=None, normalize: 'bool' = False, name: 'Hashable' = None, closed=None, **kwargs) -> 'DatetimeIndex'\n",
      "    Return a fixed frequency DatetimeIndex.\n",
      "    \n",
      "    Returns the range of equally spaced time points (where the difference between any\n",
      "    two adjacent points is specified by the given frequency) such that they all\n",
      "    satisfy `start <[=] x <[=] end`, where the first one and the last one are, resp.,\n",
      "    the first and last time points in that range that fall on the boundary of ``freq``\n",
      "    (if given as a frequency string) or that are valid for ``freq`` (if given as a\n",
      "    :class:`pandas.tseries.offsets.DateOffset`). (If exactly one of ``start``,\n",
      "    ``end``, or ``freq`` is *not* specified, this missing parameter can be computed\n",
      "    given ``periods``, the number of timesteps in the range. See the note below.)\n",
      "    \n",
      "    Parameters\n",
      "    ----------\n",
      "    start : str or datetime-like, optional\n",
      "        Left bound for generating dates.\n",
      "    end : str or datetime-like, optional\n",
      "        Right bound for generating dates.\n",
      "    periods : int, optional\n",
      "        Number of periods to generate.\n",
      "    freq : str or DateOffset, default 'D'\n",
      "        Frequency strings can have multiples, e.g. '5H'. See\n",
      "        :ref:`here <timeseries.offset_aliases>` for a list of\n",
      "        frequency aliases.\n",
      "    tz : str or tzinfo, optional\n",
      "        Time zone name for returning localized DatetimeIndex, for example\n",
      "        'Asia/Hong_Kong'. By default, the resulting DatetimeIndex is\n",
      "        timezone-naive.\n",
      "    normalize : bool, default False\n",
      "        Normalize start/end dates to midnight before generating date range.\n",
      "    name : str, default None\n",
      "        Name of the resulting DatetimeIndex.\n",
      "    closed : {None, 'left', 'right'}, optional\n",
      "        Make the interval closed with respect to the given frequency to\n",
      "        the 'left', 'right', or both sides (None, the default).\n",
      "    **kwargs\n",
      "        For compatibility. Has no effect on the result.\n",
      "    \n",
      "    Returns\n",
      "    -------\n",
      "    rng : DatetimeIndex\n",
      "    \n",
      "    See Also\n",
      "    --------\n",
      "    DatetimeIndex : An immutable container for datetimes.\n",
      "    timedelta_range : Return a fixed frequency TimedeltaIndex.\n",
      "    period_range : Return a fixed frequency PeriodIndex.\n",
      "    interval_range : Return a fixed frequency IntervalIndex.\n",
      "    \n",
      "    Notes\n",
      "    -----\n",
      "    Of the four parameters ``start``, ``end``, ``periods``, and ``freq``,\n",
      "    exactly three must be specified. If ``freq`` is omitted, the resulting\n",
      "    ``DatetimeIndex`` will have ``periods`` linearly spaced elements between\n",
      "    ``start`` and ``end`` (closed on both sides).\n",
      "    \n",
      "    To learn more about the frequency strings, please see `this link\n",
      "    <https://pandas.pydata.org/pandas-docs/stable/user_guide/timeseries.html#offset-aliases>`__.\n",
      "    \n",
      "    Examples\n",
      "    --------\n",
      "    **Specifying the values**\n",
      "    \n",
      "    The next four examples generate the same `DatetimeIndex`, but vary\n",
      "    the combination of `start`, `end` and `periods`.\n",
      "    \n",
      "    Specify `start` and `end`, with the default daily frequency.\n",
      "    \n",
      "    >>> pd.date_range(start='1/1/2018', end='1/08/2018')\n",
      "    DatetimeIndex(['2018-01-01', '2018-01-02', '2018-01-03', '2018-01-04',\n",
      "                   '2018-01-05', '2018-01-06', '2018-01-07', '2018-01-08'],\n",
      "                  dtype='datetime64[ns]', freq='D')\n",
      "    \n",
      "    Specify `start` and `periods`, the number of periods (days).\n",
      "    \n",
      "    >>> pd.date_range(start='1/1/2018', periods=8)\n",
      "    DatetimeIndex(['2018-01-01', '2018-01-02', '2018-01-03', '2018-01-04',\n",
      "                   '2018-01-05', '2018-01-06', '2018-01-07', '2018-01-08'],\n",
      "                  dtype='datetime64[ns]', freq='D')\n",
      "    \n",
      "    Specify `end` and `periods`, the number of periods (days).\n",
      "    \n",
      "    >>> pd.date_range(end='1/1/2018', periods=8)\n",
      "    DatetimeIndex(['2017-12-25', '2017-12-26', '2017-12-27', '2017-12-28',\n",
      "                   '2017-12-29', '2017-12-30', '2017-12-31', '2018-01-01'],\n",
      "                  dtype='datetime64[ns]', freq='D')\n",
      "    \n",
      "    Specify `start`, `end`, and `periods`; the frequency is generated\n",
      "    automatically (linearly spaced).\n",
      "    \n",
      "    >>> pd.date_range(start='2018-04-24', end='2018-04-27', periods=3)\n",
      "    DatetimeIndex(['2018-04-24 00:00:00', '2018-04-25 12:00:00',\n",
      "                   '2018-04-27 00:00:00'],\n",
      "                  dtype='datetime64[ns]', freq=None)\n",
      "    \n",
      "    **Other Parameters**\n",
      "    \n",
      "    Changed the `freq` (frequency) to ``'M'`` (month end frequency).\n",
      "    \n",
      "    >>> pd.date_range(start='1/1/2018', periods=5, freq='M')\n",
      "    DatetimeIndex(['2018-01-31', '2018-02-28', '2018-03-31', '2018-04-30',\n",
      "                   '2018-05-31'],\n",
      "                  dtype='datetime64[ns]', freq='M')\n",
      "    \n",
      "    Multiples are allowed\n",
      "    \n",
      "    >>> pd.date_range(start='1/1/2018', periods=5, freq='3M')\n",
      "    DatetimeIndex(['2018-01-31', '2018-04-30', '2018-07-31', '2018-10-31',\n",
      "                   '2019-01-31'],\n",
      "                  dtype='datetime64[ns]', freq='3M')\n",
      "    \n",
      "    `freq` can also be specified as an Offset object.\n",
      "    \n",
      "    >>> pd.date_range(start='1/1/2018', periods=5, freq=pd.offsets.MonthEnd(3))\n",
      "    DatetimeIndex(['2018-01-31', '2018-04-30', '2018-07-31', '2018-10-31',\n",
      "                   '2019-01-31'],\n",
      "                  dtype='datetime64[ns]', freq='3M')\n",
      "    \n",
      "    Specify `tz` to set the timezone.\n",
      "    \n",
      "    >>> pd.date_range(start='1/1/2018', periods=5, tz='Asia/Tokyo')\n",
      "    DatetimeIndex(['2018-01-01 00:00:00+09:00', '2018-01-02 00:00:00+09:00',\n",
      "                   '2018-01-03 00:00:00+09:00', '2018-01-04 00:00:00+09:00',\n",
      "                   '2018-01-05 00:00:00+09:00'],\n",
      "                  dtype='datetime64[ns, Asia/Tokyo]', freq='D')\n",
      "    \n",
      "    `closed` controls whether to include `start` and `end` that are on the\n",
      "    boundary. The default includes boundary points on either end.\n",
      "    \n",
      "    >>> pd.date_range(start='2017-01-01', end='2017-01-04', closed=None)\n",
      "    DatetimeIndex(['2017-01-01', '2017-01-02', '2017-01-03', '2017-01-04'],\n",
      "                  dtype='datetime64[ns]', freq='D')\n",
      "    \n",
      "    Use ``closed='left'`` to exclude `end` if it falls on the boundary.\n",
      "    \n",
      "    >>> pd.date_range(start='2017-01-01', end='2017-01-04', closed='left')\n",
      "    DatetimeIndex(['2017-01-01', '2017-01-02', '2017-01-03'],\n",
      "                  dtype='datetime64[ns]', freq='D')\n",
      "    \n",
      "    Use ``closed='right'`` to exclude `start` if it falls on the boundary.\n",
      "    \n",
      "    >>> pd.date_range(start='2017-01-01', end='2017-01-04', closed='right')\n",
      "    DatetimeIndex(['2017-01-02', '2017-01-03', '2017-01-04'],\n",
      "                  dtype='datetime64[ns]', freq='D')\n",
      "\n"
     ]
    }
   ],
   "source": [
    "help(pd.date_range)"
   ]
  },
  {
   "cell_type": "markdown",
   "id": "633fb413",
   "metadata": {
    "id": "9p75BX8koE4P"
   },
   "source": [
    "### 3. Creating Data Series and Data frames with Pandas\n",
    "\n",
    "The primary two components of pandas are the Series (essentially a column) and DataFrame (multi-dimensional table made up of a collection of Series)."
   ]
  },
  {
   "cell_type": "code",
   "execution_count": 71,
   "id": "9b6c3146",
   "metadata": {
    "id": "KivJ5hwooE4Q",
    "outputId": "815e2e5f-5c93-4653-ade0-bafabb2ce69c"
   },
   "outputs": [
    {
     "data": {
      "text/plain": [
       "pandas.core.series.Series"
      ]
     },
     "execution_count": 71,
     "metadata": {},
     "output_type": "execute_result"
    }
   ],
   "source": [
    "# Creating a series in pandas\n",
    "ds = pd.Series([3, -5, 7, 4], index=[\"Day 1\", \"Day 2\", \"Day 3\", \"Day 4\"])\n",
    "ds\n",
    "type(ds)"
   ]
  },
  {
   "cell_type": "markdown",
   "id": "e56a7541",
   "metadata": {},
   "source": [
    "Next we'll create a DataFrame which can contain multiple columns of data.\n",
    "\n",
    "An easy way to do this is to first create a dictionary of our data. A dictionary is a data type in Python and it is used to store data values in key:value pairs, contained in curly brackets. The dictionary should then have and item for each column, with the values for each item being list of the data values we want to put into the data frame.  We can then use the `.keys()` function of the dictionary to provide the column names:"
   ]
  },
  {
   "cell_type": "code",
   "execution_count": 72,
   "id": "f75790e8",
   "metadata": {
    "id": "SRXJQ5IqoE4T",
    "outputId": "841eceb0-6366-421b-fde5-980e114c9cc1"
   },
   "outputs": [
    {
     "data": {
      "text/html": [
       "<div>\n",
       "<style scoped>\n",
       "    .dataframe tbody tr th:only-of-type {\n",
       "        vertical-align: middle;\n",
       "    }\n",
       "\n",
       "    .dataframe tbody tr th {\n",
       "        vertical-align: top;\n",
       "    }\n",
       "\n",
       "    .dataframe thead th {\n",
       "        text-align: right;\n",
       "    }\n",
       "</style>\n",
       "<table border=\"1\" class=\"dataframe\">\n",
       "  <thead>\n",
       "    <tr style=\"text-align: right;\">\n",
       "      <th></th>\n",
       "      <th>Temperature</th>\n",
       "      <th>Rainfall</th>\n",
       "      <th>Wind Speed</th>\n",
       "      <th>Wind Direction</th>\n",
       "    </tr>\n",
       "  </thead>\n",
       "  <tbody>\n",
       "    <tr>\n",
       "      <th>0</th>\n",
       "      <td>30.2</td>\n",
       "      <td>21.2</td>\n",
       "      <td>2.1</td>\n",
       "      <td>SW</td>\n",
       "    </tr>\n",
       "    <tr>\n",
       "      <th>1</th>\n",
       "      <td>31.4</td>\n",
       "      <td>10.4</td>\n",
       "      <td>3.4</td>\n",
       "      <td>S</td>\n",
       "    </tr>\n",
       "    <tr>\n",
       "      <th>2</th>\n",
       "      <td>32.5</td>\n",
       "      <td>0.0</td>\n",
       "      <td>8.2</td>\n",
       "      <td>N</td>\n",
       "    </tr>\n",
       "    <tr>\n",
       "      <th>3</th>\n",
       "      <td>28.9</td>\n",
       "      <td>2.0</td>\n",
       "      <td>4.1</td>\n",
       "      <td>NE</td>\n",
       "    </tr>\n",
       "  </tbody>\n",
       "</table>\n",
       "</div>"
      ],
      "text/plain": [
       "   Temperature  Rainfall  Wind Speed Wind Direction\n",
       "0         30.2      21.2         2.1             SW\n",
       "1         31.4      10.4         3.4              S\n",
       "2         32.5       0.0         8.2              N\n",
       "3         28.9       2.0         4.1             NE"
      ]
     },
     "execution_count": 72,
     "metadata": {},
     "output_type": "execute_result"
    }
   ],
   "source": [
    "data = {\n",
    "    \"Temperature\": [30.2, 31.4, 32.5, 28.9],\n",
    "    \"Rainfall\": [21.2, 10.4, 0, 2],\n",
    "    \"Wind Speed\": [2.1, 3.4, 8.2, 4.1],\n",
    "    \"Wind Direction\": [\"SW\", \"S\", \"N\", \"NE\"],\n",
    "}\n",
    "\n",
    "# Create a dataframe from the data and set the keys as column headers\n",
    "df = pd.DataFrame(data, columns=data.keys())\n",
    "df"
   ]
  },
  {
   "cell_type": "code",
   "execution_count": 73,
   "id": "6d0858f4",
   "metadata": {},
   "outputs": [
    {
     "data": {
      "text/plain": [
       "pandas.core.frame.DataFrame"
      ]
     },
     "execution_count": 73,
     "metadata": {},
     "output_type": "execute_result"
    }
   ],
   "source": [
    "type(df)"
   ]
  },
  {
   "cell_type": "markdown",
   "id": "a6153828",
   "metadata": {
    "id": "2SVvit-BoE4Y"
   },
   "source": [
    "### 4. Series/DataFrame Information\n",
    "\n",
    "We will next have a quick look into the data properties and some intrinsic functions. NOTE: by default aggregation funtions (like calculation of the mean or min) skip any NaN (not-a-number) values"
   ]
  },
  {
   "cell_type": "code",
   "execution_count": 74,
   "id": "937e99e4",
   "metadata": {},
   "outputs": [
    {
     "data": {
      "text/html": [
       "<div>\n",
       "<style scoped>\n",
       "    .dataframe tbody tr th:only-of-type {\n",
       "        vertical-align: middle;\n",
       "    }\n",
       "\n",
       "    .dataframe tbody tr th {\n",
       "        vertical-align: top;\n",
       "    }\n",
       "\n",
       "    .dataframe thead th {\n",
       "        text-align: right;\n",
       "    }\n",
       "</style>\n",
       "<table border=\"1\" class=\"dataframe\">\n",
       "  <thead>\n",
       "    <tr style=\"text-align: right;\">\n",
       "      <th></th>\n",
       "      <th>Temperature</th>\n",
       "      <th>Rainfall</th>\n",
       "      <th>Wind Speed</th>\n",
       "      <th>Wind Direction</th>\n",
       "    </tr>\n",
       "  </thead>\n",
       "  <tbody>\n",
       "    <tr>\n",
       "      <th>0</th>\n",
       "      <td>30.2</td>\n",
       "      <td>21.2</td>\n",
       "      <td>2.1</td>\n",
       "      <td>SW</td>\n",
       "    </tr>\n",
       "    <tr>\n",
       "      <th>1</th>\n",
       "      <td>31.4</td>\n",
       "      <td>10.4</td>\n",
       "      <td>3.4</td>\n",
       "      <td>S</td>\n",
       "    </tr>\n",
       "    <tr>\n",
       "      <th>2</th>\n",
       "      <td>32.5</td>\n",
       "      <td>0.0</td>\n",
       "      <td>8.2</td>\n",
       "      <td>N</td>\n",
       "    </tr>\n",
       "    <tr>\n",
       "      <th>3</th>\n",
       "      <td>28.9</td>\n",
       "      <td>2.0</td>\n",
       "      <td>4.1</td>\n",
       "      <td>NE</td>\n",
       "    </tr>\n",
       "  </tbody>\n",
       "</table>\n",
       "</div>"
      ],
      "text/plain": [
       "   Temperature  Rainfall  Wind Speed Wind Direction\n",
       "0         30.2      21.2         2.1             SW\n",
       "1         31.4      10.4         3.4              S\n",
       "2         32.5       0.0         8.2              N\n",
       "3         28.9       2.0         4.1             NE"
      ]
     },
     "execution_count": 74,
     "metadata": {},
     "output_type": "execute_result"
    }
   ],
   "source": [
    "df.head(n=5)  # show the first n (5 by default) rows of the dataframe"
   ]
  },
  {
   "cell_type": "code",
   "execution_count": 75,
   "id": "174ac9f7",
   "metadata": {
    "id": "B-7Gl4BRljET"
   },
   "outputs": [
    {
     "data": {
      "text/plain": [
       "(4, 4)"
      ]
     },
     "execution_count": 75,
     "metadata": {},
     "output_type": "execute_result"
    }
   ],
   "source": [
    "df.shape  # Provides the shape of the dataframe"
   ]
  },
  {
   "cell_type": "code",
   "execution_count": 76,
   "id": "16a7da50",
   "metadata": {
    "id": "W1AUnYiAluc4"
   },
   "outputs": [
    {
     "data": {
      "text/plain": [
       "16"
      ]
     },
     "execution_count": 76,
     "metadata": {},
     "output_type": "execute_result"
    }
   ],
   "source": [
    "df.size  # Provides the size of the dataframe"
   ]
  },
  {
   "cell_type": "code",
   "execution_count": 77,
   "id": "4276080a",
   "metadata": {
    "id": "lYbObBmOlyYr"
   },
   "outputs": [
    {
     "name": "stdout",
     "output_type": "stream",
     "text": [
      "<class 'pandas.core.frame.DataFrame'>\n",
      "RangeIndex: 4 entries, 0 to 3\n",
      "Data columns (total 4 columns):\n",
      " #   Column          Non-Null Count  Dtype  \n",
      "---  ------          --------------  -----  \n",
      " 0   Temperature     4 non-null      float64\n",
      " 1   Rainfall        4 non-null      float64\n",
      " 2   Wind Speed      4 non-null      float64\n",
      " 3   Wind Direction  4 non-null      object \n",
      "dtypes: float64(3), object(1)\n",
      "memory usage: 256.0+ bytes\n"
     ]
    }
   ],
   "source": [
    "df.info()"
   ]
  },
  {
   "cell_type": "code",
   "execution_count": 78,
   "id": "c4293ea9",
   "metadata": {
    "id": "evFY-7H-l2B5"
   },
   "outputs": [
    {
     "data": {
      "text/plain": [
       "Index(['Temperature', 'Rainfall', 'Wind Speed', 'Wind Direction'], dtype='object')"
      ]
     },
     "execution_count": 78,
     "metadata": {},
     "output_type": "execute_result"
    }
   ],
   "source": [
    "df.columns  # Provides the column headers"
   ]
  },
  {
   "cell_type": "code",
   "execution_count": 79,
   "id": "ffa4cf5a",
   "metadata": {
    "id": "bZAxMRgTl8xR"
   },
   "outputs": [
    {
     "data": {
      "text/plain": [
       "RangeIndex(start=0, stop=4, step=1)"
      ]
     },
     "execution_count": 79,
     "metadata": {},
     "output_type": "execute_result"
    }
   ],
   "source": [
    "df.index  # Provides the row index of the dataframe"
   ]
  },
  {
   "cell_type": "code",
   "execution_count": 80,
   "id": "08efa5fb",
   "metadata": {
    "id": "e9ZPyv5WmFck"
   },
   "outputs": [
    {
     "data": {
      "text/html": [
       "<div>\n",
       "<style scoped>\n",
       "    .dataframe tbody tr th:only-of-type {\n",
       "        vertical-align: middle;\n",
       "    }\n",
       "\n",
       "    .dataframe tbody tr th {\n",
       "        vertical-align: top;\n",
       "    }\n",
       "\n",
       "    .dataframe thead th {\n",
       "        text-align: right;\n",
       "    }\n",
       "</style>\n",
       "<table border=\"1\" class=\"dataframe\">\n",
       "  <thead>\n",
       "    <tr style=\"text-align: right;\">\n",
       "      <th></th>\n",
       "      <th>Temperature</th>\n",
       "      <th>Rainfall</th>\n",
       "      <th>Wind Speed</th>\n",
       "    </tr>\n",
       "  </thead>\n",
       "  <tbody>\n",
       "    <tr>\n",
       "      <th>count</th>\n",
       "      <td>4.000000</td>\n",
       "      <td>4.00000</td>\n",
       "      <td>4.000000</td>\n",
       "    </tr>\n",
       "    <tr>\n",
       "      <th>mean</th>\n",
       "      <td>30.750000</td>\n",
       "      <td>8.40000</td>\n",
       "      <td>4.450000</td>\n",
       "    </tr>\n",
       "    <tr>\n",
       "      <th>std</th>\n",
       "      <td>1.550269</td>\n",
       "      <td>9.64987</td>\n",
       "      <td>2.633755</td>\n",
       "    </tr>\n",
       "    <tr>\n",
       "      <th>min</th>\n",
       "      <td>28.900000</td>\n",
       "      <td>0.00000</td>\n",
       "      <td>2.100000</td>\n",
       "    </tr>\n",
       "    <tr>\n",
       "      <th>25%</th>\n",
       "      <td>29.875000</td>\n",
       "      <td>1.50000</td>\n",
       "      <td>3.075000</td>\n",
       "    </tr>\n",
       "    <tr>\n",
       "      <th>50%</th>\n",
       "      <td>30.800000</td>\n",
       "      <td>6.20000</td>\n",
       "      <td>3.750000</td>\n",
       "    </tr>\n",
       "    <tr>\n",
       "      <th>75%</th>\n",
       "      <td>31.675000</td>\n",
       "      <td>13.10000</td>\n",
       "      <td>5.125000</td>\n",
       "    </tr>\n",
       "    <tr>\n",
       "      <th>max</th>\n",
       "      <td>32.500000</td>\n",
       "      <td>21.20000</td>\n",
       "      <td>8.200000</td>\n",
       "    </tr>\n",
       "  </tbody>\n",
       "</table>\n",
       "</div>"
      ],
      "text/plain": [
       "       Temperature  Rainfall  Wind Speed\n",
       "count     4.000000   4.00000    4.000000\n",
       "mean     30.750000   8.40000    4.450000\n",
       "std       1.550269   9.64987    2.633755\n",
       "min      28.900000   0.00000    2.100000\n",
       "25%      29.875000   1.50000    3.075000\n",
       "50%      30.800000   6.20000    3.750000\n",
       "75%      31.675000  13.10000    5.125000\n",
       "max      32.500000  21.20000    8.200000"
      ]
     },
     "execution_count": 80,
     "metadata": {},
     "output_type": "execute_result"
    }
   ],
   "source": [
    "df.describe()  # Gives a summarized statistical information of the data"
   ]
  },
  {
   "cell_type": "code",
   "execution_count": 81,
   "id": "ec3d2deb",
   "metadata": {
    "id": "lRvmjJLfmN16"
   },
   "outputs": [
    {
     "data": {
      "text/plain": [
       "Temperature       4\n",
       "Rainfall          4\n",
       "Wind Speed        4\n",
       "Wind Direction    4\n",
       "dtype: int64"
      ]
     },
     "execution_count": 81,
     "metadata": {},
     "output_type": "execute_result"
    }
   ],
   "source": [
    "df.count()  # Provides the number of elements within the dataframe."
   ]
  },
  {
   "cell_type": "code",
   "execution_count": 82,
   "id": "60935229",
   "metadata": {
    "id": "I7Tcd8femZeM"
   },
   "outputs": [
    {
     "data": {
      "text/plain": [
       "Temperature        123.0\n",
       "Rainfall            33.6\n",
       "Wind Speed          17.8\n",
       "Wind Direction    SWSNNE\n",
       "dtype: object"
      ]
     },
     "execution_count": 82,
     "metadata": {},
     "output_type": "execute_result"
    }
   ],
   "source": [
    "df.sum()  # Provides the summation of the dataframe elements."
   ]
  },
  {
   "cell_type": "code",
   "execution_count": 83,
   "id": "6e677540",
   "metadata": {
    "id": "L8O119MAxP-O"
   },
   "outputs": [
    {
     "data": {
      "text/html": [
       "<div>\n",
       "<style scoped>\n",
       "    .dataframe tbody tr th:only-of-type {\n",
       "        vertical-align: middle;\n",
       "    }\n",
       "\n",
       "    .dataframe tbody tr th {\n",
       "        vertical-align: top;\n",
       "    }\n",
       "\n",
       "    .dataframe thead th {\n",
       "        text-align: right;\n",
       "    }\n",
       "</style>\n",
       "<table border=\"1\" class=\"dataframe\">\n",
       "  <thead>\n",
       "    <tr style=\"text-align: right;\">\n",
       "      <th></th>\n",
       "      <th>Temperature</th>\n",
       "      <th>Rainfall</th>\n",
       "      <th>Wind Speed</th>\n",
       "      <th>Wind Direction</th>\n",
       "    </tr>\n",
       "  </thead>\n",
       "  <tbody>\n",
       "    <tr>\n",
       "      <th>0</th>\n",
       "      <td>30.2</td>\n",
       "      <td>21.2</td>\n",
       "      <td>2.1</td>\n",
       "      <td>SW</td>\n",
       "    </tr>\n",
       "    <tr>\n",
       "      <th>1</th>\n",
       "      <td>61.6</td>\n",
       "      <td>31.6</td>\n",
       "      <td>5.5</td>\n",
       "      <td>SWS</td>\n",
       "    </tr>\n",
       "    <tr>\n",
       "      <th>2</th>\n",
       "      <td>94.1</td>\n",
       "      <td>31.6</td>\n",
       "      <td>13.7</td>\n",
       "      <td>SWSN</td>\n",
       "    </tr>\n",
       "    <tr>\n",
       "      <th>3</th>\n",
       "      <td>123.0</td>\n",
       "      <td>33.6</td>\n",
       "      <td>17.8</td>\n",
       "      <td>SWSNNE</td>\n",
       "    </tr>\n",
       "  </tbody>\n",
       "</table>\n",
       "</div>"
      ],
      "text/plain": [
       "   Temperature  Rainfall  Wind Speed Wind Direction\n",
       "0         30.2      21.2         2.1             SW\n",
       "1         61.6      31.6         5.5            SWS\n",
       "2         94.1      31.6        13.7           SWSN\n",
       "3        123.0      33.6        17.8         SWSNNE"
      ]
     },
     "execution_count": 83,
     "metadata": {},
     "output_type": "execute_result"
    }
   ],
   "source": [
    "df.cumsum()  # Provides the cumulative sum of the dataframe elements."
   ]
  },
  {
   "cell_type": "code",
   "execution_count": 84,
   "id": "80e88e80",
   "metadata": {
    "id": "DMiOGLQsxRfH"
   },
   "outputs": [
    {
     "data": {
      "text/plain": [
       "Temperature       32.5\n",
       "Rainfall          21.2\n",
       "Wind Speed         8.2\n",
       "Wind Direction      SW\n",
       "dtype: object"
      ]
     },
     "execution_count": 84,
     "metadata": {},
     "output_type": "execute_result"
    }
   ],
   "source": [
    "df.min()  # Provides the minimumn/maximum of the dataframe elements.\n",
    "df.max()"
   ]
  },
  {
   "cell_type": "code",
   "execution_count": 85,
   "id": "b9713a12",
   "metadata": {
    "id": "yA5F1pCRxWgE"
   },
   "outputs": [
    {
     "name": "stderr",
     "output_type": "stream",
     "text": [
      "C:\\Users\\UncleJay\\AppData\\Local\\Temp/ipykernel_55960/1308886968.py:1: FutureWarning: Dropping of nuisance columns in DataFrame reductions (with 'numeric_only=None') is deprecated; in a future version this will raise TypeError.  Select only valid columns before calling the reduction.\n",
      "  df.mean()  # Provides the average of the dataframe elements.\n"
     ]
    },
    {
     "data": {
      "text/plain": [
       "Temperature    30.75\n",
       "Rainfall        8.40\n",
       "Wind Speed      4.45\n",
       "dtype: float64"
      ]
     },
     "execution_count": 85,
     "metadata": {},
     "output_type": "execute_result"
    }
   ],
   "source": [
    "df.mean()  # Provides the average of the dataframe elements."
   ]
  },
  {
   "cell_type": "code",
   "execution_count": 86,
   "id": "3787816d",
   "metadata": {
    "id": "wlHxAVxcoE4Z",
    "outputId": "b0872229-9fdd-4c7c-b5fd-78d57c42ec17"
   },
   "outputs": [
    {
     "name": "stderr",
     "output_type": "stream",
     "text": [
      "C:\\Users\\UncleJay\\AppData\\Local\\Temp/ipykernel_55960/3858184190.py:1: FutureWarning: Dropping of nuisance columns in DataFrame reductions (with 'numeric_only=None') is deprecated; in a future version this will raise TypeError.  Select only valid columns before calling the reduction.\n",
      "  df.median()  # Provides the midpoint of the dataframe elements.\n"
     ]
    },
    {
     "data": {
      "text/plain": [
       "Temperature    30.80\n",
       "Rainfall        6.20\n",
       "Wind Speed      3.75\n",
       "dtype: float64"
      ]
     },
     "execution_count": 86,
     "metadata": {},
     "output_type": "execute_result"
    }
   ],
   "source": [
    "df.median()  # Provides the midpoint of the dataframe elements."
   ]
  },
  {
   "cell_type": "markdown",
   "id": "bfeebeb7",
   "metadata": {
    "id": "TSW1o3vtoE4e"
   },
   "source": [
    "### 5. Selection from Data Series and DataFrames\n",
    "\n",
    "The row numbers are the 'index' and the headers represent each column."
   ]
  },
  {
   "cell_type": "code",
   "execution_count": 87,
   "id": "91ffe489",
   "metadata": {
    "id": "BBDg9EbhoE4f",
    "outputId": "746c85ed-5a8f-4764-c7f2-4ae1f7642a25"
   },
   "outputs": [
    {
     "data": {
      "text/plain": [
       "pandas.core.series.Series"
      ]
     },
     "execution_count": 87,
     "metadata": {},
     "output_type": "execute_result"
    }
   ],
   "source": [
    "type(df[\"Temperature\"])"
   ]
  },
  {
   "cell_type": "code",
   "execution_count": 88,
   "id": "382dc7ca",
   "metadata": {
    "id": "7h9fnAogVQjh"
   },
   "outputs": [
    {
     "data": {
      "text/html": [
       "<div>\n",
       "<style scoped>\n",
       "    .dataframe tbody tr th:only-of-type {\n",
       "        vertical-align: middle;\n",
       "    }\n",
       "\n",
       "    .dataframe tbody tr th {\n",
       "        vertical-align: top;\n",
       "    }\n",
       "\n",
       "    .dataframe thead th {\n",
       "        text-align: right;\n",
       "    }\n",
       "</style>\n",
       "<table border=\"1\" class=\"dataframe\">\n",
       "  <thead>\n",
       "    <tr style=\"text-align: right;\">\n",
       "      <th></th>\n",
       "      <th>Temperature</th>\n",
       "      <th>Rainfall</th>\n",
       "      <th>Wind Speed</th>\n",
       "      <th>Wind Direction</th>\n",
       "    </tr>\n",
       "  </thead>\n",
       "  <tbody>\n",
       "    <tr>\n",
       "      <th>1</th>\n",
       "      <td>31.4</td>\n",
       "      <td>10.4</td>\n",
       "      <td>3.4</td>\n",
       "      <td>S</td>\n",
       "    </tr>\n",
       "    <tr>\n",
       "      <th>3</th>\n",
       "      <td>28.9</td>\n",
       "      <td>2.0</td>\n",
       "      <td>4.1</td>\n",
       "      <td>NE</td>\n",
       "    </tr>\n",
       "  </tbody>\n",
       "</table>\n",
       "</div>"
      ],
      "text/plain": [
       "   Temperature  Rainfall  Wind Speed Wind Direction\n",
       "1         31.4      10.4         3.4              S\n",
       "3         28.9       2.0         4.1             NE"
      ]
     },
     "execution_count": 88,
     "metadata": {},
     "output_type": "execute_result"
    }
   ],
   "source": [
    "# DataFrame Selection\n",
    "df[0:1]  # First row only\n",
    "df[::2]  # Even rows/index\n",
    "df[1::2]  # Odd rows/index"
   ]
  },
  {
   "cell_type": "code",
   "execution_count": 89,
   "id": "56eb9dee",
   "metadata": {
    "id": "dnRDcpPEoE4h",
    "outputId": "981fe1ba-22e5-4c7a-811d-a52c44e19ccc"
   },
   "outputs": [
    {
     "data": {
      "text/plain": [
       "Temperature       30.2\n",
       "Rainfall          21.2\n",
       "Wind Speed         2.1\n",
       "Wind Direction      SW\n",
       "Name: 0, dtype: object"
      ]
     },
     "execution_count": 89,
     "metadata": {},
     "output_type": "execute_result"
    }
   ],
   "source": [
    "# Selecting/Subsetting By Position\n",
    "df.iloc[0]  # Elements of firat row only"
   ]
  },
  {
   "cell_type": "code",
   "execution_count": 90,
   "id": "f7aba306",
   "metadata": {
    "id": "iQkn_drhWRDC"
   },
   "outputs": [
    {
     "data": {
      "text/html": [
       "<div>\n",
       "<style scoped>\n",
       "    .dataframe tbody tr th:only-of-type {\n",
       "        vertical-align: middle;\n",
       "    }\n",
       "\n",
       "    .dataframe tbody tr th {\n",
       "        vertical-align: top;\n",
       "    }\n",
       "\n",
       "    .dataframe thead th {\n",
       "        text-align: right;\n",
       "    }\n",
       "</style>\n",
       "<table border=\"1\" class=\"dataframe\">\n",
       "  <thead>\n",
       "    <tr style=\"text-align: right;\">\n",
       "      <th></th>\n",
       "      <th>Temperature</th>\n",
       "    </tr>\n",
       "  </thead>\n",
       "  <tbody>\n",
       "    <tr>\n",
       "      <th>0</th>\n",
       "      <td>30.2</td>\n",
       "    </tr>\n",
       "  </tbody>\n",
       "</table>\n",
       "</div>"
      ],
      "text/plain": [
       "   Temperature\n",
       "0         30.2"
      ]
     },
     "execution_count": 90,
     "metadata": {},
     "output_type": "execute_result"
    }
   ],
   "source": [
    "# Select single value by row and column\n",
    "df.iloc[[0], [0]]  # Element in first row and first column"
   ]
  },
  {
   "cell_type": "code",
   "execution_count": 91,
   "id": "27addb4b",
   "metadata": {
    "id": "d84K2jaXWRGy"
   },
   "outputs": [
    {
     "data": {
      "text/plain": [
       "30.2"
      ]
     },
     "execution_count": 91,
     "metadata": {},
     "output_type": "execute_result"
    }
   ],
   "source": [
    "# Selecting/Subsetting By Position\n",
    "# Using iat\n",
    "df.iat[0, 0]"
   ]
  },
  {
   "cell_type": "markdown",
   "id": "b6e10b09",
   "metadata": {},
   "source": [
    "By Label\n",
    "Select single value by row and column labels\n",
    "Any of the understated helps to do the same thing."
   ]
  },
  {
   "cell_type": "code",
   "execution_count": 92,
   "id": "50bf81e4",
   "metadata": {
    "id": "CPEu4Zo1oE4i",
    "outputId": "6d7e27c1-f46c-40c8-ae82-18ef5831de98"
   },
   "outputs": [
    {
     "data": {
      "text/html": [
       "<div>\n",
       "<style scoped>\n",
       "    .dataframe tbody tr th:only-of-type {\n",
       "        vertical-align: middle;\n",
       "    }\n",
       "\n",
       "    .dataframe tbody tr th {\n",
       "        vertical-align: top;\n",
       "    }\n",
       "\n",
       "    .dataframe thead th {\n",
       "        text-align: right;\n",
       "    }\n",
       "</style>\n",
       "<table border=\"1\" class=\"dataframe\">\n",
       "  <thead>\n",
       "    <tr style=\"text-align: right;\">\n",
       "      <th></th>\n",
       "      <th>Temperature</th>\n",
       "    </tr>\n",
       "  </thead>\n",
       "  <tbody>\n",
       "    <tr>\n",
       "      <th>0</th>\n",
       "      <td>30.2</td>\n",
       "    </tr>\n",
       "  </tbody>\n",
       "</table>\n",
       "</div>"
      ],
      "text/plain": [
       "   Temperature\n",
       "0         30.2"
      ]
     },
     "execution_count": 92,
     "metadata": {},
     "output_type": "execute_result"
    }
   ],
   "source": [
    "df.loc[[0], [\"Temperature\"]]"
   ]
  },
  {
   "cell_type": "code",
   "execution_count": 93,
   "id": "80ee7f38",
   "metadata": {},
   "outputs": [
    {
     "data": {
      "text/plain": [
       "30.2"
      ]
     },
     "execution_count": 93,
     "metadata": {},
     "output_type": "execute_result"
    }
   ],
   "source": [
    "df.loc[0, \"Temperature\"]"
   ]
  },
  {
   "cell_type": "code",
   "execution_count": 94,
   "id": "6f69ec49",
   "metadata": {},
   "outputs": [
    {
     "data": {
      "text/plain": [
       "30.2"
      ]
     },
     "execution_count": 94,
     "metadata": {},
     "output_type": "execute_result"
    }
   ],
   "source": [
    "df.loc[0][\"Temperature\"]"
   ]
  },
  {
   "cell_type": "markdown",
   "id": "1091c25e",
   "metadata": {},
   "source": [
    "We can index into a `DataSeries` too"
   ]
  },
  {
   "cell_type": "code",
   "execution_count": 95,
   "id": "e247e9bc",
   "metadata": {
    "id": "1Z5mV083oE4m",
    "outputId": "e8941141-a061-4f73-9c2a-b2c5f2ae8ea5"
   },
   "outputs": [
    {
     "data": {
      "text/plain": [
       "Day 1    3\n",
       "Day 2   -5\n",
       "Day 3    7\n",
       "Day 4    4\n",
       "dtype: int64"
      ]
     },
     "execution_count": 95,
     "metadata": {},
     "output_type": "execute_result"
    }
   ],
   "source": [
    "ds"
   ]
  },
  {
   "cell_type": "code",
   "execution_count": 96,
   "id": "e19b9394",
   "metadata": {},
   "outputs": [
    {
     "data": {
      "text/plain": [
       "3"
      ]
     },
     "execution_count": 96,
     "metadata": {},
     "output_type": "execute_result"
    }
   ],
   "source": [
    "ds[\"Day 1\"]"
   ]
  },
  {
   "cell_type": "code",
   "execution_count": 97,
   "id": "1af871a8",
   "metadata": {},
   "outputs": [
    {
     "data": {
      "text/plain": [
       "Day 1    3\n",
       "Day 2   -5\n",
       "Day 3    7\n",
       "Day 4    4\n",
       "dtype: int64"
      ]
     },
     "execution_count": 97,
     "metadata": {},
     "output_type": "execute_result"
    }
   ],
   "source": [
    "ds[\"Day 1\":\"Day 4\"]"
   ]
  },
  {
   "cell_type": "code",
   "execution_count": 98,
   "id": "23788381",
   "metadata": {
    "scrolled": true
   },
   "outputs": [
    {
     "data": {
      "text/plain": [
       "Day 1    3\n",
       "Day 3    7\n",
       "dtype: int64"
      ]
     },
     "execution_count": 98,
     "metadata": {},
     "output_type": "execute_result"
    }
   ],
   "source": [
    "ds[\"Day 1\":\"Day 4\":2]"
   ]
  },
  {
   "cell_type": "markdown",
   "id": "d1108b72",
   "metadata": {
    "id": "f3cyuKcXX40D"
   },
   "source": [
    "**selection with boolean Indexing**\n",
    "\n",
    "An alternative for identifying elements of a dataframe that meet a specific criteria is to pass the criteria within a square brackets attached to the dataframe.\n",
    "\n",
    "For example:\n",
    "\n",
    "`a[a>1]` implies extracting all a elements where the value of a exceeds 1."
   ]
  },
  {
   "cell_type": "code",
   "execution_count": 99,
   "id": "0ab2faaa",
   "metadata": {
    "id": "4CqbvIRJoE4o"
   },
   "outputs": [
    {
     "data": {
      "text/plain": [
       "Day 2   -5\n",
       "dtype: int64"
      ]
     },
     "execution_count": 99,
     "metadata": {},
     "output_type": "execute_result"
    }
   ],
   "source": [
    "# Boolean Indexing\n",
    "ds[~ds > 2]  # Dataseries values not exceeding 2"
   ]
  },
  {
   "cell_type": "code",
   "execution_count": 100,
   "id": "1689ac3d",
   "metadata": {
    "id": "0BcazcxvYogm"
   },
   "outputs": [
    {
     "data": {
      "text/plain": [
       "Day 1    3\n",
       "Day 4    4\n",
       "dtype: int64"
      ]
     },
     "execution_count": 100,
     "metadata": {},
     "output_type": "execute_result"
    }
   ],
   "source": [
    "ds[(ds > -2) & (ds < 5)]  # Dataseries values ranging from -1 to 4"
   ]
  },
  {
   "cell_type": "code",
   "execution_count": 101,
   "id": "4ec27d19",
   "metadata": {
    "id": "ocGkhOq8YosL"
   },
   "outputs": [
    {
     "data": {
      "text/plain": [
       "Day 1    3\n",
       "Day 2   -5\n",
       "Day 3    7\n",
       "Day 4    4\n",
       "dtype: int64"
      ]
     },
     "execution_count": 101,
     "metadata": {},
     "output_type": "execute_result"
    }
   ],
   "source": [
    "ds[(ds > -2) | (ds < 5)]  # Dataseries values either exceeding -2 or below 5"
   ]
  },
  {
   "cell_type": "code",
   "execution_count": 102,
   "id": "64131260",
   "metadata": {
    "id": "l3T8-GOxAXLu"
   },
   "outputs": [
    {
     "data": {
      "text/html": [
       "<div>\n",
       "<style scoped>\n",
       "    .dataframe tbody tr th:only-of-type {\n",
       "        vertical-align: middle;\n",
       "    }\n",
       "\n",
       "    .dataframe tbody tr th {\n",
       "        vertical-align: top;\n",
       "    }\n",
       "\n",
       "    .dataframe thead th {\n",
       "        text-align: right;\n",
       "    }\n",
       "</style>\n",
       "<table border=\"1\" class=\"dataframe\">\n",
       "  <thead>\n",
       "    <tr style=\"text-align: right;\">\n",
       "      <th></th>\n",
       "      <th>Temperature</th>\n",
       "      <th>Rainfall</th>\n",
       "      <th>Wind Speed</th>\n",
       "      <th>Wind Direction</th>\n",
       "    </tr>\n",
       "  </thead>\n",
       "  <tbody>\n",
       "    <tr>\n",
       "      <th>2</th>\n",
       "      <td>32.5</td>\n",
       "      <td>0.0</td>\n",
       "      <td>8.2</td>\n",
       "      <td>N</td>\n",
       "    </tr>\n",
       "  </tbody>\n",
       "</table>\n",
       "</div>"
      ],
      "text/plain": [
       "   Temperature  Rainfall  Wind Speed Wind Direction\n",
       "2         32.5       0.0         8.2              N"
      ]
     },
     "execution_count": 102,
     "metadata": {},
     "output_type": "execute_result"
    }
   ],
   "source": [
    "# Use filter to adjust DataFrame\n",
    "# Dataframe item where only the Temperature exceeds 32 degree Celsius\n",
    "df[df[\"Temperature\"] > 32]"
   ]
  },
  {
   "cell_type": "code",
   "execution_count": 103,
   "id": "b021e5f2",
   "metadata": {
    "id": "Uo8kE3xeoE4q"
   },
   "outputs": [],
   "source": [
    "# Assigning a value to index of a Series or DataFrame\n",
    "ds[\"Day 1\"] = 6  # Assigning by data series' index"
   ]
  },
  {
   "cell_type": "code",
   "execution_count": 104,
   "id": "2669db71",
   "metadata": {
    "id": "Z0mIgyq9ZiSo"
   },
   "outputs": [],
   "source": [
    "df.iloc[0, 0] = 34  # Assigning value to first element of the dataframe"
   ]
  },
  {
   "cell_type": "markdown",
   "id": "0608dcd2",
   "metadata": {
    "id": "g4NstWj5j7U4"
   },
   "source": [
    "## 6. Applying functions onto a dataframe\n",
    "\n",
    "A function is a block of code which only runs when it is called. It allows for easy code block use and re-use. You can pass data, known as parameters, into a function, and the function can return data as a result.\n",
    "\n",
    "Default function format in Python is:\n",
    "\n",
    "```python\n",
    "def function_name(arg1, arg2, ...):\n",
    "    return {expression}\n",
    "```\n",
    "\n",
    "\n",
    "Alternatively, we can use \"lambda functions\" in Python as effective \"one-liners\". A lambda function is a small anonymous function which can take any number of arguments, but can only have one expression.\n",
    "\n",
    "**Syntax:**\n",
    "\n",
    "```python\n",
    "function_name = lambda arg1, arg2, ... : {expression}\n",
    "```\n",
    "\n",
    "In Pandas, a simplistic way to pass a function onto a dataframe is by using the **apply** method. \n",
    "\n",
    "Let's try to apply a simple function that doubles the individual items of the dataframe.\n",
    "\n"
   ]
  },
  {
   "cell_type": "code",
   "execution_count": 105,
   "id": "a7b7f212",
   "metadata": {
    "id": "XKjegPJxop21"
   },
   "outputs": [
    {
     "data": {
      "text/html": [
       "<div>\n",
       "<style scoped>\n",
       "    .dataframe tbody tr th:only-of-type {\n",
       "        vertical-align: middle;\n",
       "    }\n",
       "\n",
       "    .dataframe tbody tr th {\n",
       "        vertical-align: top;\n",
       "    }\n",
       "\n",
       "    .dataframe thead th {\n",
       "        text-align: right;\n",
       "    }\n",
       "</style>\n",
       "<table border=\"1\" class=\"dataframe\">\n",
       "  <thead>\n",
       "    <tr style=\"text-align: right;\">\n",
       "      <th></th>\n",
       "      <th>Temperature</th>\n",
       "      <th>Wind Speed</th>\n",
       "    </tr>\n",
       "  </thead>\n",
       "  <tbody>\n",
       "    <tr>\n",
       "      <th>0</th>\n",
       "      <td>68.0</td>\n",
       "      <td>4.2</td>\n",
       "    </tr>\n",
       "    <tr>\n",
       "      <th>1</th>\n",
       "      <td>62.8</td>\n",
       "      <td>6.8</td>\n",
       "    </tr>\n",
       "    <tr>\n",
       "      <th>2</th>\n",
       "      <td>65.0</td>\n",
       "      <td>16.4</td>\n",
       "    </tr>\n",
       "    <tr>\n",
       "      <th>3</th>\n",
       "      <td>57.8</td>\n",
       "      <td>8.2</td>\n",
       "    </tr>\n",
       "  </tbody>\n",
       "</table>\n",
       "</div>"
      ],
      "text/plain": [
       "   Temperature  Wind Speed\n",
       "0         68.0         4.2\n",
       "1         62.8         6.8\n",
       "2         65.0        16.4\n",
       "3         57.8         8.2"
      ]
     },
     "execution_count": 105,
     "metadata": {},
     "output_type": "execute_result"
    }
   ],
   "source": [
    "# First Approach\n",
    "def double(x):\n",
    "    y = x * 2\n",
    "    return x * 2\n",
    "\n",
    "\n",
    "# Now, let's apply the function to only the Temperature and Wind Speed column\n",
    "df.loc[:, [\"Temperature\", \"Wind Speed\"]].apply(double)"
   ]
  },
  {
   "cell_type": "code",
   "execution_count": 106,
   "id": "e0230f3d",
   "metadata": {
    "id": "vwXH86oToE4r"
   },
   "outputs": [
    {
     "data": {
      "text/html": [
       "<div>\n",
       "<style scoped>\n",
       "    .dataframe tbody tr th:only-of-type {\n",
       "        vertical-align: middle;\n",
       "    }\n",
       "\n",
       "    .dataframe tbody tr th {\n",
       "        vertical-align: top;\n",
       "    }\n",
       "\n",
       "    .dataframe thead th {\n",
       "        text-align: right;\n",
       "    }\n",
       "</style>\n",
       "<table border=\"1\" class=\"dataframe\">\n",
       "  <thead>\n",
       "    <tr style=\"text-align: right;\">\n",
       "      <th></th>\n",
       "      <th>Temperature</th>\n",
       "      <th>Wind Speed</th>\n",
       "    </tr>\n",
       "  </thead>\n",
       "  <tbody>\n",
       "    <tr>\n",
       "      <th>0</th>\n",
       "      <td>68.0</td>\n",
       "      <td>4.2</td>\n",
       "    </tr>\n",
       "    <tr>\n",
       "      <th>1</th>\n",
       "      <td>62.8</td>\n",
       "      <td>6.8</td>\n",
       "    </tr>\n",
       "    <tr>\n",
       "      <th>2</th>\n",
       "      <td>65.0</td>\n",
       "      <td>16.4</td>\n",
       "    </tr>\n",
       "    <tr>\n",
       "      <th>3</th>\n",
       "      <td>57.8</td>\n",
       "      <td>8.2</td>\n",
       "    </tr>\n",
       "  </tbody>\n",
       "</table>\n",
       "</div>"
      ],
      "text/plain": [
       "   Temperature  Wind Speed\n",
       "0         68.0         4.2\n",
       "1         62.8         6.8\n",
       "2         65.0        16.4\n",
       "3         57.8         8.2"
      ]
     },
     "execution_count": 106,
     "metadata": {},
     "output_type": "execute_result"
    }
   ],
   "source": [
    "# Second Approach\n",
    "f = lambda x: x * 2\n",
    "\n",
    "# Now, let's apply the function to only the Temperature and Wind Speed column\n",
    "df.loc[:, [\"Temperature\", \"Wind Speed\"]].apply(f)"
   ]
  },
  {
   "cell_type": "markdown",
   "id": "842c23e8",
   "metadata": {
    "id": "ogX1WB65oE4s"
   },
   "source": [
    "## 7. Sort and Rank with Pandas\n",
    "\n",
    "This allows for arranging dataframe in a specified order (increasing/decreasing), based on priority."
   ]
  },
  {
   "cell_type": "code",
   "execution_count": 107,
   "id": "a16bc720",
   "metadata": {},
   "outputs": [
    {
     "data": {
      "text/html": [
       "<div>\n",
       "<style scoped>\n",
       "    .dataframe tbody tr th:only-of-type {\n",
       "        vertical-align: middle;\n",
       "    }\n",
       "\n",
       "    .dataframe tbody tr th {\n",
       "        vertical-align: top;\n",
       "    }\n",
       "\n",
       "    .dataframe thead th {\n",
       "        text-align: right;\n",
       "    }\n",
       "</style>\n",
       "<table border=\"1\" class=\"dataframe\">\n",
       "  <thead>\n",
       "    <tr style=\"text-align: right;\">\n",
       "      <th></th>\n",
       "      <th>Temperature</th>\n",
       "      <th>Rainfall</th>\n",
       "      <th>Wind Speed</th>\n",
       "      <th>Wind Direction</th>\n",
       "    </tr>\n",
       "  </thead>\n",
       "  <tbody>\n",
       "    <tr>\n",
       "      <th>0</th>\n",
       "      <td>34.0</td>\n",
       "      <td>21.2</td>\n",
       "      <td>2.1</td>\n",
       "      <td>SW</td>\n",
       "    </tr>\n",
       "    <tr>\n",
       "      <th>1</th>\n",
       "      <td>31.4</td>\n",
       "      <td>10.4</td>\n",
       "      <td>3.4</td>\n",
       "      <td>S</td>\n",
       "    </tr>\n",
       "    <tr>\n",
       "      <th>2</th>\n",
       "      <td>32.5</td>\n",
       "      <td>0.0</td>\n",
       "      <td>8.2</td>\n",
       "      <td>N</td>\n",
       "    </tr>\n",
       "    <tr>\n",
       "      <th>3</th>\n",
       "      <td>28.9</td>\n",
       "      <td>2.0</td>\n",
       "      <td>4.1</td>\n",
       "      <td>NE</td>\n",
       "    </tr>\n",
       "  </tbody>\n",
       "</table>\n",
       "</div>"
      ],
      "text/plain": [
       "   Temperature  Rainfall  Wind Speed Wind Direction\n",
       "0         34.0      21.2         2.1             SW\n",
       "1         31.4      10.4         3.4              S\n",
       "2         32.5       0.0         8.2              N\n",
       "3         28.9       2.0         4.1             NE"
      ]
     },
     "execution_count": 107,
     "metadata": {},
     "output_type": "execute_result"
    }
   ],
   "source": [
    "df.sort_index()  # Sort by the index"
   ]
  },
  {
   "cell_type": "code",
   "execution_count": 108,
   "id": "2ace5a61",
   "metadata": {},
   "outputs": [
    {
     "data": {
      "text/html": [
       "<div>\n",
       "<style scoped>\n",
       "    .dataframe tbody tr th:only-of-type {\n",
       "        vertical-align: middle;\n",
       "    }\n",
       "\n",
       "    .dataframe tbody tr th {\n",
       "        vertical-align: top;\n",
       "    }\n",
       "\n",
       "    .dataframe thead th {\n",
       "        text-align: right;\n",
       "    }\n",
       "</style>\n",
       "<table border=\"1\" class=\"dataframe\">\n",
       "  <thead>\n",
       "    <tr style=\"text-align: right;\">\n",
       "      <th></th>\n",
       "      <th>Temperature</th>\n",
       "      <th>Rainfall</th>\n",
       "      <th>Wind Speed</th>\n",
       "      <th>Wind Direction</th>\n",
       "    </tr>\n",
       "  </thead>\n",
       "  <tbody>\n",
       "    <tr>\n",
       "      <th>0</th>\n",
       "      <td>34.0</td>\n",
       "      <td>21.2</td>\n",
       "      <td>2.1</td>\n",
       "      <td>SW</td>\n",
       "    </tr>\n",
       "    <tr>\n",
       "      <th>1</th>\n",
       "      <td>31.4</td>\n",
       "      <td>10.4</td>\n",
       "      <td>3.4</td>\n",
       "      <td>S</td>\n",
       "    </tr>\n",
       "    <tr>\n",
       "      <th>3</th>\n",
       "      <td>28.9</td>\n",
       "      <td>2.0</td>\n",
       "      <td>4.1</td>\n",
       "      <td>NE</td>\n",
       "    </tr>\n",
       "    <tr>\n",
       "      <th>2</th>\n",
       "      <td>32.5</td>\n",
       "      <td>0.0</td>\n",
       "      <td>8.2</td>\n",
       "      <td>N</td>\n",
       "    </tr>\n",
       "  </tbody>\n",
       "</table>\n",
       "</div>"
      ],
      "text/plain": [
       "   Temperature  Rainfall  Wind Speed Wind Direction\n",
       "0         34.0      21.2         2.1             SW\n",
       "1         31.4      10.4         3.4              S\n",
       "3         28.9       2.0         4.1             NE\n",
       "2         32.5       0.0         8.2              N"
      ]
     },
     "execution_count": 108,
     "metadata": {},
     "output_type": "execute_result"
    }
   ],
   "source": [
    "df.sort_values(by=\"Wind Speed\")  # sort by Wind Speed"
   ]
  },
  {
   "cell_type": "code",
   "execution_count": 109,
   "id": "2e5e82a0",
   "metadata": {
    "id": "67G4dFGooE4t"
   },
   "outputs": [
    {
     "data": {
      "text/html": [
       "<div>\n",
       "<style scoped>\n",
       "    .dataframe tbody tr th:only-of-type {\n",
       "        vertical-align: middle;\n",
       "    }\n",
       "\n",
       "    .dataframe tbody tr th {\n",
       "        vertical-align: top;\n",
       "    }\n",
       "\n",
       "    .dataframe thead th {\n",
       "        text-align: right;\n",
       "    }\n",
       "</style>\n",
       "<table border=\"1\" class=\"dataframe\">\n",
       "  <thead>\n",
       "    <tr style=\"text-align: right;\">\n",
       "      <th></th>\n",
       "      <th>Temperature</th>\n",
       "      <th>Rainfall</th>\n",
       "      <th>Wind Speed</th>\n",
       "      <th>Wind Direction</th>\n",
       "    </tr>\n",
       "  </thead>\n",
       "  <tbody>\n",
       "    <tr>\n",
       "      <th>3</th>\n",
       "      <td>28.9</td>\n",
       "      <td>2.0</td>\n",
       "      <td>4.1</td>\n",
       "      <td>NE</td>\n",
       "    </tr>\n",
       "    <tr>\n",
       "      <th>1</th>\n",
       "      <td>31.4</td>\n",
       "      <td>10.4</td>\n",
       "      <td>3.4</td>\n",
       "      <td>S</td>\n",
       "    </tr>\n",
       "    <tr>\n",
       "      <th>2</th>\n",
       "      <td>32.5</td>\n",
       "      <td>0.0</td>\n",
       "      <td>8.2</td>\n",
       "      <td>N</td>\n",
       "    </tr>\n",
       "    <tr>\n",
       "      <th>0</th>\n",
       "      <td>34.0</td>\n",
       "      <td>21.2</td>\n",
       "      <td>2.1</td>\n",
       "      <td>SW</td>\n",
       "    </tr>\n",
       "  </tbody>\n",
       "</table>\n",
       "</div>"
      ],
      "text/plain": [
       "   Temperature  Rainfall  Wind Speed Wind Direction\n",
       "3         28.9       2.0         4.1             NE\n",
       "1         31.4      10.4         3.4              S\n",
       "2         32.5       0.0         8.2              N\n",
       "0         34.0      21.2         2.1             SW"
      ]
     },
     "execution_count": 109,
     "metadata": {},
     "output_type": "execute_result"
    }
   ],
   "source": [
    "df.sort_values(\n",
    "    by=[\"Temperature\", \"Wind Direction\"]\n",
    ")  # Sort by Temperature and then Wind Direction"
   ]
  },
  {
   "cell_type": "code",
   "execution_count": 110,
   "id": "a70e7458",
   "metadata": {
    "id": "wiMzIxJ2aSYs"
   },
   "outputs": [
    {
     "data": {
      "text/html": [
       "<div>\n",
       "<style scoped>\n",
       "    .dataframe tbody tr th:only-of-type {\n",
       "        vertical-align: middle;\n",
       "    }\n",
       "\n",
       "    .dataframe tbody tr th {\n",
       "        vertical-align: top;\n",
       "    }\n",
       "\n",
       "    .dataframe thead th {\n",
       "        text-align: right;\n",
       "    }\n",
       "</style>\n",
       "<table border=\"1\" class=\"dataframe\">\n",
       "  <thead>\n",
       "    <tr style=\"text-align: right;\">\n",
       "      <th></th>\n",
       "      <th>Temperature</th>\n",
       "      <th>Rainfall</th>\n",
       "      <th>Wind Speed</th>\n",
       "      <th>Wind Direction</th>\n",
       "    </tr>\n",
       "  </thead>\n",
       "  <tbody>\n",
       "    <tr>\n",
       "      <th>0</th>\n",
       "      <td>4.0</td>\n",
       "      <td>4.0</td>\n",
       "      <td>1.0</td>\n",
       "      <td>4.0</td>\n",
       "    </tr>\n",
       "    <tr>\n",
       "      <th>1</th>\n",
       "      <td>2.0</td>\n",
       "      <td>3.0</td>\n",
       "      <td>2.0</td>\n",
       "      <td>3.0</td>\n",
       "    </tr>\n",
       "    <tr>\n",
       "      <th>2</th>\n",
       "      <td>3.0</td>\n",
       "      <td>1.0</td>\n",
       "      <td>4.0</td>\n",
       "      <td>1.0</td>\n",
       "    </tr>\n",
       "    <tr>\n",
       "      <th>3</th>\n",
       "      <td>1.0</td>\n",
       "      <td>2.0</td>\n",
       "      <td>3.0</td>\n",
       "      <td>2.0</td>\n",
       "    </tr>\n",
       "  </tbody>\n",
       "</table>\n",
       "</div>"
      ],
      "text/plain": [
       "   Temperature  Rainfall  Wind Speed  Wind Direction\n",
       "0          4.0       4.0         1.0             4.0\n",
       "1          2.0       3.0         2.0             3.0\n",
       "2          3.0       1.0         4.0             1.0\n",
       "3          1.0       2.0         3.0             2.0"
      ]
     },
     "execution_count": 110,
     "metadata": {},
     "output_type": "execute_result"
    }
   ],
   "source": [
    "# Assign ranks to entries\n",
    "df.rank()"
   ]
  },
  {
   "cell_type": "markdown",
   "id": "5ab5a01b",
   "metadata": {
    "id": "OvAFNkaioE4u"
   },
   "source": [
    "## 8. Dropping values from rows (axis=0) or columns (axis=1)\n",
    "\n",
    "Here, we will take a look at dropping specific columns or rows.\n",
    "\n",
    "**Kindly take note:**\n",
    "For the dataframe with dropped rows or columns to maintain their dropped rows/columns, we need to reassign the dropped dataframe to itself or simply assign to a new variable.\n"
   ]
  },
  {
   "cell_type": "code",
   "execution_count": 111,
   "id": "5e1c9257",
   "metadata": {
    "id": "0QLqjOdaoE4v"
   },
   "outputs": [
    {
     "data": {
      "text/plain": [
       "Day 1    6\n",
       "Day 3    7\n",
       "Day 4    4\n",
       "dtype: int64"
      ]
     },
     "execution_count": 111,
     "metadata": {},
     "output_type": "execute_result"
    }
   ],
   "source": [
    "# Row drop\n",
    "ds.drop([\"Day 2\"])"
   ]
  },
  {
   "cell_type": "code",
   "execution_count": 112,
   "id": "cb02ee2b",
   "metadata": {
    "id": "yqd4IuoMabhp"
   },
   "outputs": [
    {
     "data": {
      "text/html": [
       "<div>\n",
       "<style scoped>\n",
       "    .dataframe tbody tr th:only-of-type {\n",
       "        vertical-align: middle;\n",
       "    }\n",
       "\n",
       "    .dataframe tbody tr th {\n",
       "        vertical-align: top;\n",
       "    }\n",
       "\n",
       "    .dataframe thead th {\n",
       "        text-align: right;\n",
       "    }\n",
       "</style>\n",
       "<table border=\"1\" class=\"dataframe\">\n",
       "  <thead>\n",
       "    <tr style=\"text-align: right;\">\n",
       "      <th></th>\n",
       "      <th>Temperature</th>\n",
       "      <th>Rainfall</th>\n",
       "      <th>Wind Speed</th>\n",
       "    </tr>\n",
       "  </thead>\n",
       "  <tbody>\n",
       "    <tr>\n",
       "      <th>0</th>\n",
       "      <td>34.0</td>\n",
       "      <td>21.2</td>\n",
       "      <td>2.1</td>\n",
       "    </tr>\n",
       "    <tr>\n",
       "      <th>1</th>\n",
       "      <td>31.4</td>\n",
       "      <td>10.4</td>\n",
       "      <td>3.4</td>\n",
       "    </tr>\n",
       "    <tr>\n",
       "      <th>2</th>\n",
       "      <td>32.5</td>\n",
       "      <td>0.0</td>\n",
       "      <td>8.2</td>\n",
       "    </tr>\n",
       "    <tr>\n",
       "      <th>3</th>\n",
       "      <td>28.9</td>\n",
       "      <td>2.0</td>\n",
       "      <td>4.1</td>\n",
       "    </tr>\n",
       "  </tbody>\n",
       "</table>\n",
       "</div>"
      ],
      "text/plain": [
       "   Temperature  Rainfall  Wind Speed\n",
       "0         34.0      21.2         2.1\n",
       "1         31.4      10.4         3.4\n",
       "2         32.5       0.0         8.2\n",
       "3         28.9       2.0         4.1"
      ]
     },
     "execution_count": 112,
     "metadata": {},
     "output_type": "execute_result"
    }
   ],
   "source": [
    "# Column drop\n",
    "df.drop(\"Wind Direction\", axis=1)"
   ]
  },
  {
   "cell_type": "code",
   "execution_count": 113,
   "id": "7ef9c41e",
   "metadata": {
    "id": "o7u1Z98Wahax"
   },
   "outputs": [
    {
     "name": "stdout",
     "output_type": "stream",
     "text": [
      "   Temperature  Rainfall  Wind Speed\n",
      "0         34.0      21.2         2.1\n",
      "1         31.4      10.4         3.4\n",
      "2         32.5       0.0         8.2\n",
      "3         28.9       2.0         4.1\n"
     ]
    }
   ],
   "source": [
    "# Column drop\n",
    "# For the dataframe with dropped rows or columns to maintain their dropped rows/columns, we need to reassign\n",
    "# the dropped dataframe to itself or simply assign to a new variable.\n",
    "df_dropped = df.drop(\"Wind Direction\", axis=1)\n",
    "print(df_dropped)"
   ]
  },
  {
   "cell_type": "code",
   "execution_count": 114,
   "id": "a3b91065",
   "metadata": {
    "id": "PqPYOHQGoE4w",
    "outputId": "19872aa8-7d18-41fc-9c89-5dc120d50347"
   },
   "outputs": [
    {
     "data": {
      "text/plain": [
       "0    34.0\n",
       "1    31.4\n",
       "2    32.5\n",
       "3    28.9\n",
       "Name: Temperature, dtype: float64"
      ]
     },
     "execution_count": 114,
     "metadata": {},
     "output_type": "execute_result"
    }
   ],
   "source": [
    "df[\"Temperature\"]"
   ]
  },
  {
   "cell_type": "markdown",
   "id": "67952530",
   "metadata": {
    "id": "oAuI7VIunuW4"
   },
   "source": [
    "## 9 . Replacing dataframe elements with a new value\n",
    "\n",
    "We can replace dataframe entries simply in Pandas. Let's give this a try."
   ]
  },
  {
   "cell_type": "code",
   "execution_count": 115,
   "id": "28fd6b3f",
   "metadata": {
    "id": "XarSJFd1oE4y",
    "outputId": "6b5b87be-0d52-4f4e-c7ac-9d1c5e1c849d"
   },
   "outputs": [
    {
     "data": {
      "text/html": [
       "<div>\n",
       "<style scoped>\n",
       "    .dataframe tbody tr th:only-of-type {\n",
       "        vertical-align: middle;\n",
       "    }\n",
       "\n",
       "    .dataframe tbody tr th {\n",
       "        vertical-align: top;\n",
       "    }\n",
       "\n",
       "    .dataframe thead th {\n",
       "        text-align: right;\n",
       "    }\n",
       "</style>\n",
       "<table border=\"1\" class=\"dataframe\">\n",
       "  <thead>\n",
       "    <tr style=\"text-align: right;\">\n",
       "      <th></th>\n",
       "      <th>Temperature</th>\n",
       "      <th>Rainfall</th>\n",
       "      <th>Wind Speed</th>\n",
       "      <th>Wind Direction</th>\n",
       "    </tr>\n",
       "  </thead>\n",
       "  <tbody>\n",
       "    <tr>\n",
       "      <th>0</th>\n",
       "      <td>34.0</td>\n",
       "      <td>21.2</td>\n",
       "      <td>NaN</td>\n",
       "      <td>SW</td>\n",
       "    </tr>\n",
       "    <tr>\n",
       "      <th>1</th>\n",
       "      <td>31.4</td>\n",
       "      <td>10.4</td>\n",
       "      <td>3.4</td>\n",
       "      <td>S</td>\n",
       "    </tr>\n",
       "    <tr>\n",
       "      <th>2</th>\n",
       "      <td>NaN</td>\n",
       "      <td>NaN</td>\n",
       "      <td>8.2</td>\n",
       "      <td>N</td>\n",
       "    </tr>\n",
       "    <tr>\n",
       "      <th>3</th>\n",
       "      <td>28.9</td>\n",
       "      <td>2.0</td>\n",
       "      <td>4.1</td>\n",
       "      <td>NE</td>\n",
       "    </tr>\n",
       "  </tbody>\n",
       "</table>\n",
       "</div>"
      ],
      "text/plain": [
       "   Temperature  Rainfall  Wind Speed Wind Direction\n",
       "0         34.0      21.2         NaN             SW\n",
       "1         31.4      10.4         3.4              S\n",
       "2          NaN       NaN         8.2              N\n",
       "3         28.9       2.0         4.1             NE"
      ]
     },
     "execution_count": 115,
     "metadata": {},
     "output_type": "execute_result"
    }
   ],
   "source": [
    "df = df.replace({\"Wind Speed\": 2.1, \"Rainfall\": 0, \"Temperature\": 32.5}, np.nan)\n",
    "df"
   ]
  },
  {
   "cell_type": "markdown",
   "id": "71db588e",
   "metadata": {
    "id": "IJKgH-xjoE4z"
   },
   "source": [
    "## 10. Working with Timeseries in Pandas\n",
    "\n",
    "Items to cover:\n",
    "\n",
    "    * Time series data structures\n",
    "    * Time-based indexing\n",
    "    * Visualizing time series data using Matplotlib\n",
    "\n",
    "\n",
    "In pandas, a single point in time is represented as a Timestamp. We can use the **Pandas to_datetime()** function to create Timestamps from strings in a wide variety of date/time formats."
   ]
  },
  {
   "cell_type": "code",
   "execution_count": 116,
   "id": "ac61534e",
   "metadata": {
    "id": "wos66BovoE40",
    "outputId": "ce46fd35-953d-4848-b19d-3746374d86cc"
   },
   "outputs": [
    {
     "data": {
      "text/plain": [
       "DatetimeIndex(['2010-02-25', '2017-08-06', '2012-12-15'], dtype='datetime64[ns]', freq=None)"
      ]
     },
     "execution_count": 116,
     "metadata": {},
     "output_type": "execute_result"
    }
   ],
   "source": [
    "pd.to_datetime('12/31/2021')\n",
    "pd.to_datetime('2015-03-27 5:45pm')\n",
    "pd.to_datetime(['Jun 1, 1989','2015-03-25', '7/8/1952', '2020 03 25'])  #Passing a list of date strings\n",
    "pd.to_datetime(['2/25/10', '8/6/17', '12/15/12'], format='%m/%d/%y') #Optimization with specified date format if all have similar format.\n"
   ]
  },
  {
   "cell_type": "markdown",
   "id": "e721c9aa",
   "metadata": {
    "id": "5OfCr3Lasia_"
   },
   "source": [
    "With the dateutil module, you can parse dates from a variety of string formats."
   ]
  },
  {
   "cell_type": "code",
   "execution_count": 117,
   "id": "52555ddc",
   "metadata": {
    "id": "kSK-kBGzoE40",
    "outputId": "29bb8575-be86-4e19-c649-07c6be234e88"
   },
   "outputs": [
    {
     "data": {
      "text/plain": [
       "Timestamp('2015-07-04 00:00:00')"
      ]
     },
     "execution_count": 117,
     "metadata": {},
     "output_type": "execute_result"
    }
   ],
   "source": [
    "from dateutil import parser\n",
    "\n",
    "date = parser.parse(\"4th of July, 2015\")\n",
    "pd.to_datetime(date)\n",
    "pd.to_datetime(\"4th of July, 2015\")"
   ]
  },
  {
   "cell_type": "markdown",
   "id": "4d4f0a5e",
   "metadata": {
    "id": "IKUOh3ZAs_dM"
   },
   "source": [
    "In the next step, we will create a range of dates using Pandas date_range feature. This will come in handy for our timeseries dataframe creation.\n",
    "\n",
    "**Example:    pd.date_range('1980-01-01','2021-12-31', freq='M')**\n",
    "\n",
    "The above-specified produces a monthly timeseries spanning 1st January 1980 to 31st December 2021.\n",
    "\n",
    "\n",
    "***N/B: Without specifying the frequency, a default of daily time steps are created for the specified date range.***"
   ]
  },
  {
   "cell_type": "code",
   "execution_count": 118,
   "id": "375c37f7",
   "metadata": {
    "id": "wKBsBd8toE41"
   },
   "outputs": [
    {
     "data": {
      "text/html": [
       "<div>\n",
       "<style scoped>\n",
       "    .dataframe tbody tr th:only-of-type {\n",
       "        vertical-align: middle;\n",
       "    }\n",
       "\n",
       "    .dataframe tbody tr th {\n",
       "        vertical-align: top;\n",
       "    }\n",
       "\n",
       "    .dataframe thead th {\n",
       "        text-align: right;\n",
       "    }\n",
       "</style>\n",
       "<table border=\"1\" class=\"dataframe\">\n",
       "  <thead>\n",
       "    <tr style=\"text-align: right;\">\n",
       "      <th></th>\n",
       "      <th>Date</th>\n",
       "    </tr>\n",
       "  </thead>\n",
       "  <tbody>\n",
       "    <tr>\n",
       "      <th>0</th>\n",
       "      <td>1980-01-01</td>\n",
       "    </tr>\n",
       "    <tr>\n",
       "      <th>1</th>\n",
       "      <td>1980-01-02</td>\n",
       "    </tr>\n",
       "    <tr>\n",
       "      <th>2</th>\n",
       "      <td>1980-01-03</td>\n",
       "    </tr>\n",
       "    <tr>\n",
       "      <th>3</th>\n",
       "      <td>1980-01-04</td>\n",
       "    </tr>\n",
       "    <tr>\n",
       "      <th>4</th>\n",
       "      <td>1980-01-05</td>\n",
       "    </tr>\n",
       "    <tr>\n",
       "      <th>...</th>\n",
       "      <td>...</td>\n",
       "    </tr>\n",
       "    <tr>\n",
       "      <th>15336</th>\n",
       "      <td>2021-12-27</td>\n",
       "    </tr>\n",
       "    <tr>\n",
       "      <th>15337</th>\n",
       "      <td>2021-12-28</td>\n",
       "    </tr>\n",
       "    <tr>\n",
       "      <th>15338</th>\n",
       "      <td>2021-12-29</td>\n",
       "    </tr>\n",
       "    <tr>\n",
       "      <th>15339</th>\n",
       "      <td>2021-12-30</td>\n",
       "    </tr>\n",
       "    <tr>\n",
       "      <th>15340</th>\n",
       "      <td>2021-12-31</td>\n",
       "    </tr>\n",
       "  </tbody>\n",
       "</table>\n",
       "<p>15341 rows × 1 columns</p>\n",
       "</div>"
      ],
      "text/plain": [
       "            Date\n",
       "0     1980-01-01\n",
       "1     1980-01-02\n",
       "2     1980-01-03\n",
       "3     1980-01-04\n",
       "4     1980-01-05\n",
       "...          ...\n",
       "15336 2021-12-27\n",
       "15337 2021-12-28\n",
       "15338 2021-12-29\n",
       "15339 2021-12-30\n",
       "15340 2021-12-31\n",
       "\n",
       "[15341 rows x 1 columns]"
      ]
     },
     "execution_count": 118,
     "metadata": {},
     "output_type": "execute_result"
    }
   ],
   "source": [
    "# Default frequency is a daily frequency\n",
    "df_new = pd.DataFrame(pd.date_range(\"1980-01-01\", \"2021-12-31\"), columns=[\"Date\"])\n",
    "df_new"
   ]
  },
  {
   "cell_type": "markdown",
   "id": "94d5adbe",
   "metadata": {
    "id": "QL2Dcrw3fr6k"
   },
   "source": [
    "Now, let's add some data and perform some Pandas timeseries functions"
   ]
  },
  {
   "cell_type": "code",
   "execution_count": 119,
   "id": "6137a23f",
   "metadata": {
    "id": "1u41wRs7oE42"
   },
   "outputs": [
    {
     "data": {
      "text/html": [
       "<div>\n",
       "<style scoped>\n",
       "    .dataframe tbody tr th:only-of-type {\n",
       "        vertical-align: middle;\n",
       "    }\n",
       "\n",
       "    .dataframe tbody tr th {\n",
       "        vertical-align: top;\n",
       "    }\n",
       "\n",
       "    .dataframe thead th {\n",
       "        text-align: right;\n",
       "    }\n",
       "</style>\n",
       "<table border=\"1\" class=\"dataframe\">\n",
       "  <thead>\n",
       "    <tr style=\"text-align: right;\">\n",
       "      <th></th>\n",
       "      <th>Date</th>\n",
       "      <th>Random Values</th>\n",
       "    </tr>\n",
       "  </thead>\n",
       "  <tbody>\n",
       "    <tr>\n",
       "      <th>0</th>\n",
       "      <td>1980-01-01</td>\n",
       "      <td>20.922940</td>\n",
       "    </tr>\n",
       "    <tr>\n",
       "      <th>1</th>\n",
       "      <td>1980-01-02</td>\n",
       "      <td>20.581469</td>\n",
       "    </tr>\n",
       "    <tr>\n",
       "      <th>2</th>\n",
       "      <td>1980-01-03</td>\n",
       "      <td>19.914319</td>\n",
       "    </tr>\n",
       "    <tr>\n",
       "      <th>3</th>\n",
       "      <td>1980-01-04</td>\n",
       "      <td>18.952942</td>\n",
       "    </tr>\n",
       "    <tr>\n",
       "      <th>4</th>\n",
       "      <td>1980-01-05</td>\n",
       "      <td>20.971318</td>\n",
       "    </tr>\n",
       "    <tr>\n",
       "      <th>...</th>\n",
       "      <td>...</td>\n",
       "      <td>...</td>\n",
       "    </tr>\n",
       "    <tr>\n",
       "      <th>15336</th>\n",
       "      <td>2021-12-27</td>\n",
       "      <td>18.220848</td>\n",
       "    </tr>\n",
       "    <tr>\n",
       "      <th>15337</th>\n",
       "      <td>2021-12-28</td>\n",
       "      <td>17.143031</td>\n",
       "    </tr>\n",
       "    <tr>\n",
       "      <th>15338</th>\n",
       "      <td>2021-12-29</td>\n",
       "      <td>19.362684</td>\n",
       "    </tr>\n",
       "    <tr>\n",
       "      <th>15339</th>\n",
       "      <td>2021-12-30</td>\n",
       "      <td>17.756971</td>\n",
       "    </tr>\n",
       "    <tr>\n",
       "      <th>15340</th>\n",
       "      <td>2021-12-31</td>\n",
       "      <td>19.905221</td>\n",
       "    </tr>\n",
       "  </tbody>\n",
       "</table>\n",
       "<p>15341 rows × 2 columns</p>\n",
       "</div>"
      ],
      "text/plain": [
       "            Date  Random Values\n",
       "0     1980-01-01      20.922940\n",
       "1     1980-01-02      20.581469\n",
       "2     1980-01-03      19.914319\n",
       "3     1980-01-04      18.952942\n",
       "4     1980-01-05      20.971318\n",
       "...          ...            ...\n",
       "15336 2021-12-27      18.220848\n",
       "15337 2021-12-28      17.143031\n",
       "15338 2021-12-29      19.362684\n",
       "15339 2021-12-30      17.756971\n",
       "15340 2021-12-31      19.905221\n",
       "\n",
       "[15341 rows x 2 columns]"
      ]
     },
     "execution_count": 119,
     "metadata": {},
     "output_type": "execute_result"
    }
   ],
   "source": [
    "# We add random data to a new column (Random Values) in the new dataframe (df_new)\n",
    "\n",
    "import numpy as np\n",
    "\n",
    "df_new[\"Random Values\"] = np.random.randn(len(df_new.Date)) + 20\n",
    "df_new"
   ]
  },
  {
   "cell_type": "markdown",
   "id": "5626feda",
   "metadata": {
    "id": "HUhSe8gXvsKy"
   },
   "source": [
    "We set the date as index for easy visualization and selection"
   ]
  },
  {
   "cell_type": "code",
   "execution_count": 120,
   "id": "db93d08e",
   "metadata": {
    "id": "csAPCDy7oE42"
   },
   "outputs": [
    {
     "data": {
      "text/html": [
       "<div>\n",
       "<style scoped>\n",
       "    .dataframe tbody tr th:only-of-type {\n",
       "        vertical-align: middle;\n",
       "    }\n",
       "\n",
       "    .dataframe tbody tr th {\n",
       "        vertical-align: top;\n",
       "    }\n",
       "\n",
       "    .dataframe thead th {\n",
       "        text-align: right;\n",
       "    }\n",
       "</style>\n",
       "<table border=\"1\" class=\"dataframe\">\n",
       "  <thead>\n",
       "    <tr style=\"text-align: right;\">\n",
       "      <th></th>\n",
       "      <th>Random Values</th>\n",
       "    </tr>\n",
       "    <tr>\n",
       "      <th>Date</th>\n",
       "      <th></th>\n",
       "    </tr>\n",
       "  </thead>\n",
       "  <tbody>\n",
       "    <tr>\n",
       "      <th>1980-01-01</th>\n",
       "      <td>20.922940</td>\n",
       "    </tr>\n",
       "    <tr>\n",
       "      <th>1980-01-02</th>\n",
       "      <td>20.581469</td>\n",
       "    </tr>\n",
       "    <tr>\n",
       "      <th>1980-01-03</th>\n",
       "      <td>19.914319</td>\n",
       "    </tr>\n",
       "    <tr>\n",
       "      <th>1980-01-04</th>\n",
       "      <td>18.952942</td>\n",
       "    </tr>\n",
       "    <tr>\n",
       "      <th>1980-01-05</th>\n",
       "      <td>20.971318</td>\n",
       "    </tr>\n",
       "    <tr>\n",
       "      <th>...</th>\n",
       "      <td>...</td>\n",
       "    </tr>\n",
       "    <tr>\n",
       "      <th>2021-12-27</th>\n",
       "      <td>18.220848</td>\n",
       "    </tr>\n",
       "    <tr>\n",
       "      <th>2021-12-28</th>\n",
       "      <td>17.143031</td>\n",
       "    </tr>\n",
       "    <tr>\n",
       "      <th>2021-12-29</th>\n",
       "      <td>19.362684</td>\n",
       "    </tr>\n",
       "    <tr>\n",
       "      <th>2021-12-30</th>\n",
       "      <td>17.756971</td>\n",
       "    </tr>\n",
       "    <tr>\n",
       "      <th>2021-12-31</th>\n",
       "      <td>19.905221</td>\n",
       "    </tr>\n",
       "  </tbody>\n",
       "</table>\n",
       "<p>15341 rows × 1 columns</p>\n",
       "</div>"
      ],
      "text/plain": [
       "            Random Values\n",
       "Date                     \n",
       "1980-01-01      20.922940\n",
       "1980-01-02      20.581469\n",
       "1980-01-03      19.914319\n",
       "1980-01-04      18.952942\n",
       "1980-01-05      20.971318\n",
       "...                   ...\n",
       "2021-12-27      18.220848\n",
       "2021-12-28      17.143031\n",
       "2021-12-29      19.362684\n",
       "2021-12-30      17.756971\n",
       "2021-12-31      19.905221\n",
       "\n",
       "[15341 rows x 1 columns]"
      ]
     },
     "execution_count": 120,
     "metadata": {},
     "output_type": "execute_result"
    }
   ],
   "source": [
    "# Set Date as index for easy visualization\n",
    "# Drop pre-existing Date Column after setting as index\n",
    "df_new = df_new.set_index(df_new.Date).drop(\"Date\", axis=1)\n",
    "df_new"
   ]
  },
  {
   "cell_type": "code",
   "execution_count": 121,
   "id": "b18149f2",
   "metadata": {
    "id": "lqNLSYtroE44"
   },
   "outputs": [
    {
     "data": {
      "text/plain": [
       "Int64Index([1980, 1980, 1980, 1980, 1980, 1980, 1980, 1980, 1980, 1980,\n",
       "            ...\n",
       "            2021, 2021, 2021, 2021, 2021, 2021, 2021, 2021, 2021, 2021],\n",
       "           dtype='int64', name='Date', length=15341)"
      ]
     },
     "execution_count": 121,
     "metadata": {},
     "output_type": "execute_result"
    }
   ],
   "source": [
    "df_new.index.year  # This produces the years only of the various dates"
   ]
  },
  {
   "cell_type": "code",
   "execution_count": 122,
   "id": "1b5260f8",
   "metadata": {},
   "outputs": [
    {
     "data": {
      "text/plain": [
       "Int64Index([ 1,  1,  1,  1,  1,  1,  1,  1,  1,  1,\n",
       "            ...\n",
       "            12, 12, 12, 12, 12, 12, 12, 12, 12, 12],\n",
       "           dtype='int64', name='Date', length=15341)"
      ]
     },
     "execution_count": 122,
     "metadata": {},
     "output_type": "execute_result"
    }
   ],
   "source": [
    "df_new.index.month  # This produces the months only of the various dates"
   ]
  },
  {
   "cell_type": "code",
   "execution_count": 123,
   "id": "25ff951e",
   "metadata": {
    "id": "sKeLurZNoE46"
   },
   "outputs": [
    {
     "data": {
      "text/html": [
       "<div>\n",
       "<style scoped>\n",
       "    .dataframe tbody tr th:only-of-type {\n",
       "        vertical-align: middle;\n",
       "    }\n",
       "\n",
       "    .dataframe tbody tr th {\n",
       "        vertical-align: top;\n",
       "    }\n",
       "\n",
       "    .dataframe thead th {\n",
       "        text-align: right;\n",
       "    }\n",
       "</style>\n",
       "<table border=\"1\" class=\"dataframe\">\n",
       "  <thead>\n",
       "    <tr style=\"text-align: right;\">\n",
       "      <th></th>\n",
       "      <th>Random Values</th>\n",
       "    </tr>\n",
       "    <tr>\n",
       "      <th>Date</th>\n",
       "      <th></th>\n",
       "    </tr>\n",
       "  </thead>\n",
       "  <tbody>\n",
       "    <tr>\n",
       "      <th>1997-12-26</th>\n",
       "      <td>18.376532</td>\n",
       "    </tr>\n",
       "    <tr>\n",
       "      <th>1994-09-12</th>\n",
       "      <td>20.013920</td>\n",
       "    </tr>\n",
       "    <tr>\n",
       "      <th>2019-01-22</th>\n",
       "      <td>20.870543</td>\n",
       "    </tr>\n",
       "    <tr>\n",
       "      <th>2007-06-22</th>\n",
       "      <td>18.824346</td>\n",
       "    </tr>\n",
       "    <tr>\n",
       "      <th>2021-10-30</th>\n",
       "      <td>20.416174</td>\n",
       "    </tr>\n",
       "  </tbody>\n",
       "</table>\n",
       "</div>"
      ],
      "text/plain": [
       "            Random Values\n",
       "Date                     \n",
       "1997-12-26      18.376532\n",
       "1994-09-12      20.013920\n",
       "2019-01-22      20.870543\n",
       "2007-06-22      18.824346\n",
       "2021-10-30      20.416174"
      ]
     },
     "execution_count": 123,
     "metadata": {},
     "output_type": "execute_result"
    }
   ],
   "source": [
    "# Randomly show any 5 elements fron the df_new dataframe.\n",
    "df_new.sample(5)"
   ]
  },
  {
   "cell_type": "code",
   "execution_count": 124,
   "id": "f4401f94",
   "metadata": {},
   "outputs": [
    {
     "data": {
      "text/html": [
       "<div>\n",
       "<style scoped>\n",
       "    .dataframe tbody tr th:only-of-type {\n",
       "        vertical-align: middle;\n",
       "    }\n",
       "\n",
       "    .dataframe tbody tr th {\n",
       "        vertical-align: top;\n",
       "    }\n",
       "\n",
       "    .dataframe thead th {\n",
       "        text-align: right;\n",
       "    }\n",
       "</style>\n",
       "<table border=\"1\" class=\"dataframe\">\n",
       "  <thead>\n",
       "    <tr style=\"text-align: right;\">\n",
       "      <th></th>\n",
       "      <th>Random Values</th>\n",
       "    </tr>\n",
       "    <tr>\n",
       "      <th>Date</th>\n",
       "      <th></th>\n",
       "    </tr>\n",
       "  </thead>\n",
       "  <tbody>\n",
       "    <tr>\n",
       "      <th>2005-08-01</th>\n",
       "      <td>18.590580</td>\n",
       "    </tr>\n",
       "    <tr>\n",
       "      <th>1982-09-28</th>\n",
       "      <td>19.759539</td>\n",
       "    </tr>\n",
       "    <tr>\n",
       "      <th>2000-06-19</th>\n",
       "      <td>17.976497</td>\n",
       "    </tr>\n",
       "    <tr>\n",
       "      <th>1991-05-08</th>\n",
       "      <td>20.681023</td>\n",
       "    </tr>\n",
       "    <tr>\n",
       "      <th>2000-04-06</th>\n",
       "      <td>20.812449</td>\n",
       "    </tr>\n",
       "  </tbody>\n",
       "</table>\n",
       "</div>"
      ],
      "text/plain": [
       "            Random Values\n",
       "Date                     \n",
       "2005-08-01      18.590580\n",
       "1982-09-28      19.759539\n",
       "2000-06-19      17.976497\n",
       "1991-05-08      20.681023\n",
       "2000-04-06      20.812449"
      ]
     },
     "execution_count": 124,
     "metadata": {},
     "output_type": "execute_result"
    }
   ],
   "source": [
    "df_new.sample(5, random_state=0)"
   ]
  },
  {
   "cell_type": "markdown",
   "id": "0faef2bb",
   "metadata": {
    "id": "c-JwzRftlZbs"
   },
   "source": [
    "### Slicing A Timeseries\n",
    "\n",
    "Let's attempt to slice the dataframe via the time. We could slice by single or multiple date(s). "
   ]
  },
  {
   "cell_type": "code",
   "execution_count": 125,
   "id": "5ceedfcf",
   "metadata": {
    "id": "9pKKmi4GoE47"
   },
   "outputs": [
    {
     "name": "stderr",
     "output_type": "stream",
     "text": [
      "C:\\Users\\UncleJay\\AppData\\Local\\Temp/ipykernel_55960/2463930426.py:2: FutureWarning: Indexing a DataFrame with a datetimelike index using a single string to slice the rows, like `frame[string]`, is deprecated and will be removed in a future version. Use `frame.loc[string]` instead.\n",
      "  df_new[\"1984\"]  # Slice only 1984 data\n"
     ]
    },
    {
     "data": {
      "text/html": [
       "<div>\n",
       "<style scoped>\n",
       "    .dataframe tbody tr th:only-of-type {\n",
       "        vertical-align: middle;\n",
       "    }\n",
       "\n",
       "    .dataframe tbody tr th {\n",
       "        vertical-align: top;\n",
       "    }\n",
       "\n",
       "    .dataframe thead th {\n",
       "        text-align: right;\n",
       "    }\n",
       "</style>\n",
       "<table border=\"1\" class=\"dataframe\">\n",
       "  <thead>\n",
       "    <tr style=\"text-align: right;\">\n",
       "      <th></th>\n",
       "      <th>Random Values</th>\n",
       "    </tr>\n",
       "    <tr>\n",
       "      <th>Date</th>\n",
       "      <th></th>\n",
       "    </tr>\n",
       "  </thead>\n",
       "  <tbody>\n",
       "    <tr>\n",
       "      <th>1984-01-01</th>\n",
       "      <td>19.892772</td>\n",
       "    </tr>\n",
       "    <tr>\n",
       "      <th>1984-01-02</th>\n",
       "      <td>20.482617</td>\n",
       "    </tr>\n",
       "    <tr>\n",
       "      <th>1984-01-03</th>\n",
       "      <td>20.089345</td>\n",
       "    </tr>\n",
       "    <tr>\n",
       "      <th>1984-01-04</th>\n",
       "      <td>21.667172</td>\n",
       "    </tr>\n",
       "    <tr>\n",
       "      <th>1984-01-05</th>\n",
       "      <td>19.204583</td>\n",
       "    </tr>\n",
       "    <tr>\n",
       "      <th>...</th>\n",
       "      <td>...</td>\n",
       "    </tr>\n",
       "    <tr>\n",
       "      <th>1984-12-27</th>\n",
       "      <td>19.427191</td>\n",
       "    </tr>\n",
       "    <tr>\n",
       "      <th>1984-12-28</th>\n",
       "      <td>20.529951</td>\n",
       "    </tr>\n",
       "    <tr>\n",
       "      <th>1984-12-29</th>\n",
       "      <td>19.020270</td>\n",
       "    </tr>\n",
       "    <tr>\n",
       "      <th>1984-12-30</th>\n",
       "      <td>19.588853</td>\n",
       "    </tr>\n",
       "    <tr>\n",
       "      <th>1984-12-31</th>\n",
       "      <td>19.442868</td>\n",
       "    </tr>\n",
       "  </tbody>\n",
       "</table>\n",
       "<p>366 rows × 1 columns</p>\n",
       "</div>"
      ],
      "text/plain": [
       "            Random Values\n",
       "Date                     \n",
       "1984-01-01      19.892772\n",
       "1984-01-02      20.482617\n",
       "1984-01-03      20.089345\n",
       "1984-01-04      21.667172\n",
       "1984-01-05      19.204583\n",
       "...                   ...\n",
       "1984-12-27      19.427191\n",
       "1984-12-28      20.529951\n",
       "1984-12-29      19.020270\n",
       "1984-12-30      19.588853\n",
       "1984-12-31      19.442868\n",
       "\n",
       "[366 rows x 1 columns]"
      ]
     },
     "execution_count": 125,
     "metadata": {},
     "output_type": "execute_result"
    }
   ],
   "source": [
    "# Timeseries slicing\n",
    "df_new[\"1984\"]  # Slice only 1984 data"
   ]
  },
  {
   "cell_type": "code",
   "execution_count": 126,
   "id": "64113950",
   "metadata": {
    "id": "HlBY4kwcbqCe"
   },
   "outputs": [
    {
     "data": {
      "text/html": [
       "<div>\n",
       "<style scoped>\n",
       "    .dataframe tbody tr th:only-of-type {\n",
       "        vertical-align: middle;\n",
       "    }\n",
       "\n",
       "    .dataframe tbody tr th {\n",
       "        vertical-align: top;\n",
       "    }\n",
       "\n",
       "    .dataframe thead th {\n",
       "        text-align: right;\n",
       "    }\n",
       "</style>\n",
       "<table border=\"1\" class=\"dataframe\">\n",
       "  <thead>\n",
       "    <tr style=\"text-align: right;\">\n",
       "      <th></th>\n",
       "      <th>Random Values</th>\n",
       "    </tr>\n",
       "    <tr>\n",
       "      <th>Date</th>\n",
       "      <th></th>\n",
       "    </tr>\n",
       "  </thead>\n",
       "  <tbody>\n",
       "    <tr>\n",
       "      <th>1984-01-01</th>\n",
       "      <td>19.892772</td>\n",
       "    </tr>\n",
       "    <tr>\n",
       "      <th>1984-01-02</th>\n",
       "      <td>20.482617</td>\n",
       "    </tr>\n",
       "    <tr>\n",
       "      <th>1984-01-03</th>\n",
       "      <td>20.089345</td>\n",
       "    </tr>\n",
       "    <tr>\n",
       "      <th>1984-01-04</th>\n",
       "      <td>21.667172</td>\n",
       "    </tr>\n",
       "    <tr>\n",
       "      <th>1984-01-05</th>\n",
       "      <td>19.204583</td>\n",
       "    </tr>\n",
       "    <tr>\n",
       "      <th>...</th>\n",
       "      <td>...</td>\n",
       "    </tr>\n",
       "    <tr>\n",
       "      <th>1989-12-27</th>\n",
       "      <td>19.772299</td>\n",
       "    </tr>\n",
       "    <tr>\n",
       "      <th>1989-12-28</th>\n",
       "      <td>17.956729</td>\n",
       "    </tr>\n",
       "    <tr>\n",
       "      <th>1989-12-29</th>\n",
       "      <td>20.099187</td>\n",
       "    </tr>\n",
       "    <tr>\n",
       "      <th>1989-12-30</th>\n",
       "      <td>21.124853</td>\n",
       "    </tr>\n",
       "    <tr>\n",
       "      <th>1989-12-31</th>\n",
       "      <td>19.201895</td>\n",
       "    </tr>\n",
       "  </tbody>\n",
       "</table>\n",
       "<p>2192 rows × 1 columns</p>\n",
       "</div>"
      ],
      "text/plain": [
       "            Random Values\n",
       "Date                     \n",
       "1984-01-01      19.892772\n",
       "1984-01-02      20.482617\n",
       "1984-01-03      20.089345\n",
       "1984-01-04      21.667172\n",
       "1984-01-05      19.204583\n",
       "...                   ...\n",
       "1989-12-27      19.772299\n",
       "1989-12-28      17.956729\n",
       "1989-12-29      20.099187\n",
       "1989-12-30      21.124853\n",
       "1989-12-31      19.201895\n",
       "\n",
       "[2192 rows x 1 columns]"
      ]
     },
     "execution_count": 126,
     "metadata": {},
     "output_type": "execute_result"
    }
   ],
   "source": [
    "df_new[\"1984\":\"1989\"]  # Slice data from 1984 to 1989"
   ]
  },
  {
   "cell_type": "markdown",
   "id": "6024dd98",
   "metadata": {
    "id": "yjE6FBQob-k3"
   },
   "source": [
    "### Visualization of the Time Series\n",
    "\n",
    "We make use of Pandas default plotting tool which is built on matplotlib. A few simple examples are provided below"
   ]
  },
  {
   "cell_type": "code",
   "execution_count": 127,
   "id": "4cb8d573",
   "metadata": {
    "id": "JfQqmRiVoE48"
   },
   "outputs": [
    {
     "data": {
      "text/plain": [
       "<AxesSubplot:xlabel='Date'>"
      ]
     },
     "execution_count": 127,
     "metadata": {},
     "output_type": "execute_result"
    },
    {
     "data": {
      "image/png": "[encoded data removed]",
      "text/plain": [
       "<Figure size 432x288 with 1 Axes>"
      ]
     },
     "metadata": {
      "needs_background": "light"
     },
     "output_type": "display_data"
    }
   ],
   "source": [
    "df_new.plot()  # Plotting the entire data series"
   ]
  },
  {
   "cell_type": "code",
   "execution_count": 128,
   "id": "d65acdbb",
   "metadata": {
    "id": "GGNcDVJ6bx-K"
   },
   "outputs": [
    {
     "name": "stderr",
     "output_type": "stream",
     "text": [
      "C:\\Users\\UncleJay\\AppData\\Local\\Temp/ipykernel_55960/2137887842.py:1: FutureWarning: Indexing a DataFrame with a datetimelike index using a single string to slice the rows, like `frame[string]`, is deprecated and will be removed in a future version. Use `frame.loc[string]` instead.\n",
      "  df_new[\"1984\"].plot()  # Plotting a sliced year data\n"
     ]
    },
    {
     "data": {
      "text/plain": [
       "<AxesSubplot:xlabel='Date'>"
      ]
     },
     "execution_count": 128,
     "metadata": {},
     "output_type": "execute_result"
    },
    {
     "data": {
      "image/png": "[encoded data removed]",
      "text/plain": [
       "<Figure size 432x288 with 1 Axes>"
      ]
     },
     "metadata": {
      "needs_background": "light"
     },
     "output_type": "display_data"
    }
   ],
   "source": [
    "df_new[\"1984\"].plot()  # Plotting a sliced year data"
   ]
  },
  {
   "cell_type": "code",
   "execution_count": 129,
   "id": "08e89f42",
   "metadata": {
    "id": "4sSLGBYTbyFm"
   },
   "outputs": [
    {
     "name": "stderr",
     "output_type": "stream",
     "text": [
      "C:\\Users\\UncleJay\\AppData\\Local\\Temp/ipykernel_55960/310241120.py:1: FutureWarning: Indexing a DataFrame with a datetimelike index using a single string to slice the rows, like `frame[string]`, is deprecated and will be removed in a future version. Use `frame.loc[string]` instead.\n",
      "  df_new[\"1984-03\"].plot()  # Plotting a sliced month data\n"
     ]
    },
    {
     "data": {
      "text/plain": [
       "<AxesSubplot:xlabel='Date'>"
      ]
     },
     "execution_count": 129,
     "metadata": {},
     "output_type": "execute_result"
    },
    {
     "data": {
      "image/png": "[encoded data removed]",
      "text/plain": [
       "<Figure size 432x288 with 1 Axes>"
      ]
     },
     "metadata": {
      "needs_background": "light"
     },
     "output_type": "display_data"
    }
   ],
   "source": [
    "df_new[\"1984-03\"].plot()  # Plotting a sliced month data"
   ]
  },
  {
   "cell_type": "code",
   "execution_count": 130,
   "id": "c7fb92c9",
   "metadata": {
    "id": "7CXRSejdbyL2"
   },
   "outputs": [
    {
     "data": {
      "text/plain": [
       "<AxesSubplot:xlabel='Date'>"
      ]
     },
     "execution_count": 130,
     "metadata": {},
     "output_type": "execute_result"
    },
    {
     "data": {
      "image/png": "[encoded data removed]",
      "text/plain": [
       "<Figure size 432x288 with 1 Axes>"
      ]
     },
     "metadata": {
      "needs_background": "light"
     },
     "output_type": "display_data"
    }
   ],
   "source": [
    "df_new[\"1984\":\"1989\"].plot()  # Plotting a sliced multi-year data"
   ]
  },
  {
   "cell_type": "code",
   "execution_count": 131,
   "id": "58fac8fb",
   "metadata": {
    "scrolled": true
   },
   "outputs": [
    {
     "data": {
      "text/plain": [
       "<AxesSubplot:xlabel='Date'>"
      ]
     },
     "execution_count": 131,
     "metadata": {},
     "output_type": "execute_result"
    },
    {
     "data": {
      "image/png": "[encoded data removed]",
      "text/plain": [
       "<Figure size 864x288 with 2 Axes>"
      ]
     },
     "metadata": {
      "needs_background": "light"
     },
     "output_type": "display_data"
    }
   ],
   "source": [
    "# to plot into specific axes the axes to use can be provided with the `ax` argument\n",
    "fig, axes = plt.subplots(ncols=2, figsize=(12, 4))\n",
    "df_new[:\"1989\"].plot(ax=axes[0])\n",
    "df_new[\"1989\":\"1990\"].plot(ax=axes[1])"
   ]
  },
  {
   "cell_type": "markdown",
   "id": "5d96de13",
   "metadata": {},
   "source": [
    "## 11. working with Comma-separated (.csv) files in pandas\n",
    "\n",
    "In this part, we shall briefly address working with csv files using pandas. A detail of working with spreadsheets will be treated in part 2 of this module.\n",
    "\n",
    "In the introduction to numpy, you made use of data from the \"Tamale_CRU_rainfall.csv\" file. Let's utilize this dataset here again, however, with pandas. We start of by reading data from the csv file using the **pd.read_csv()** method."
   ]
  },
  {
   "cell_type": "code",
   "execution_count": 132,
   "id": "6dbd2191",
   "metadata": {},
   "outputs": [],
   "source": [
    "import pandas as pd\n",
    "from pathlib import Path\n",
    "data_path = Path(\"data\")\n",
    "filepath_csv = data_path / \"Tamale_CRU_rainfall.csv\"\n",
    "acsv = pd.read_csv(filepath_csv, sep=',')  #Read data from csv file with separator / delimiter set as comma."
   ]
  },
  {
   "cell_type": "code",
   "execution_count": 133,
   "id": "95ca109d",
   "metadata": {
    "scrolled": true
   },
   "outputs": [
    {
     "data": {
      "text/html": [
       "<div>\n",
       "<style scoped>\n",
       "    .dataframe tbody tr th:only-of-type {\n",
       "        vertical-align: middle;\n",
       "    }\n",
       "\n",
       "    .dataframe tbody tr th {\n",
       "        vertical-align: top;\n",
       "    }\n",
       "\n",
       "    .dataframe thead th {\n",
       "        text-align: right;\n",
       "    }\n",
       "</style>\n",
       "<table border=\"1\" class=\"dataframe\">\n",
       "  <thead>\n",
       "    <tr style=\"text-align: right;\">\n",
       "      <th></th>\n",
       "      <th>Year</th>\n",
       "      <th>Jan</th>\n",
       "      <th>Feb</th>\n",
       "      <th>Mar</th>\n",
       "      <th>Apr</th>\n",
       "      <th>May</th>\n",
       "      <th>Jun</th>\n",
       "      <th>Jul</th>\n",
       "      <th>Aug</th>\n",
       "      <th>Sep</th>\n",
       "      <th>Oct</th>\n",
       "      <th>Nov</th>\n",
       "      <th>Dec</th>\n",
       "      <th>Unnamed: 13</th>\n",
       "    </tr>\n",
       "  </thead>\n",
       "  <tbody>\n",
       "    <tr>\n",
       "      <th>0</th>\n",
       "      <td>1901.0</td>\n",
       "      <td>1.3</td>\n",
       "      <td>12.1</td>\n",
       "      <td>27.4</td>\n",
       "      <td>101.0</td>\n",
       "      <td>134.7</td>\n",
       "      <td>159.0</td>\n",
       "      <td>109.1</td>\n",
       "      <td>217.2</td>\n",
       "      <td>235.7</td>\n",
       "      <td>160.3</td>\n",
       "      <td>17.7</td>\n",
       "      <td>0.7</td>\n",
       "      <td>NaN</td>\n",
       "    </tr>\n",
       "    <tr>\n",
       "      <th>1</th>\n",
       "      <td>1902.0</td>\n",
       "      <td>1.8</td>\n",
       "      <td>6.2</td>\n",
       "      <td>82.2</td>\n",
       "      <td>124.9</td>\n",
       "      <td>189.3</td>\n",
       "      <td>119.6</td>\n",
       "      <td>170.8</td>\n",
       "      <td>205.0</td>\n",
       "      <td>158.9</td>\n",
       "      <td>99.9</td>\n",
       "      <td>12.1</td>\n",
       "      <td>10.3</td>\n",
       "      <td>NaN</td>\n",
       "    </tr>\n",
       "    <tr>\n",
       "      <th>2</th>\n",
       "      <td>1903.0</td>\n",
       "      <td>2.0</td>\n",
       "      <td>2.7</td>\n",
       "      <td>26.5</td>\n",
       "      <td>110.0</td>\n",
       "      <td>156.0</td>\n",
       "      <td>104.5</td>\n",
       "      <td>112.4</td>\n",
       "      <td>202.9</td>\n",
       "      <td>187.2</td>\n",
       "      <td>85.6</td>\n",
       "      <td>23.9</td>\n",
       "      <td>5.8</td>\n",
       "      <td>NaN</td>\n",
       "    </tr>\n",
       "    <tr>\n",
       "      <th>3</th>\n",
       "      <td>1904.0</td>\n",
       "      <td>5.1</td>\n",
       "      <td>5.2</td>\n",
       "      <td>47.9</td>\n",
       "      <td>79.6</td>\n",
       "      <td>146.0</td>\n",
       "      <td>121.2</td>\n",
       "      <td>122.8</td>\n",
       "      <td>119.2</td>\n",
       "      <td>166.4</td>\n",
       "      <td>99.9</td>\n",
       "      <td>14.6</td>\n",
       "      <td>8.8</td>\n",
       "      <td>NaN</td>\n",
       "    </tr>\n",
       "    <tr>\n",
       "      <th>4</th>\n",
       "      <td>1905.0</td>\n",
       "      <td>3.6</td>\n",
       "      <td>5.5</td>\n",
       "      <td>36.9</td>\n",
       "      <td>74.9</td>\n",
       "      <td>139.3</td>\n",
       "      <td>134.9</td>\n",
       "      <td>188.1</td>\n",
       "      <td>212.8</td>\n",
       "      <td>198.3</td>\n",
       "      <td>110.4</td>\n",
       "      <td>12.5</td>\n",
       "      <td>16.5</td>\n",
       "      <td>NaN</td>\n",
       "    </tr>\n",
       "  </tbody>\n",
       "</table>\n",
       "</div>"
      ],
      "text/plain": [
       "     Year  Jan   Feb   Mar    Apr    May    Jun    Jul    Aug    Sep    Oct  \\\n",
       "0  1901.0  1.3  12.1  27.4  101.0  134.7  159.0  109.1  217.2  235.7  160.3   \n",
       "1  1902.0  1.8   6.2  82.2  124.9  189.3  119.6  170.8  205.0  158.9   99.9   \n",
       "2  1903.0  2.0   2.7  26.5  110.0  156.0  104.5  112.4  202.9  187.2   85.6   \n",
       "3  1904.0  5.1   5.2  47.9   79.6  146.0  121.2  122.8  119.2  166.4   99.9   \n",
       "4  1905.0  3.6   5.5  36.9   74.9  139.3  134.9  188.1  212.8  198.3  110.4   \n",
       "\n",
       "    Nov   Dec  Unnamed: 13  \n",
       "0  17.7   0.7          NaN  \n",
       "1  12.1  10.3          NaN  \n",
       "2  23.9   5.8          NaN  \n",
       "3  14.6   8.8          NaN  \n",
       "4  12.5  16.5          NaN  "
      ]
     },
     "execution_count": 133,
     "metadata": {},
     "output_type": "execute_result"
    }
   ],
   "source": [
    "acvs = acsv.rename(columns={'PRE': 'Year'}, inplace=True) #Rename column 1 from 'PRE' to 'Year'\n",
    "acsv.head()"
   ]
  },
  {
   "cell_type": "markdown",
   "id": "7a2ddb5d",
   "metadata": {},
   "source": [
    "**All the earlier items we have done, can be implemented on this new dataset.\n",
    "Let's simply (i) set the Year as index, (ii) delete from the columns and then (iii) visualize the yearly totals and monthly climatologies.**"
   ]
  },
  {
   "cell_type": "code",
   "execution_count": 134,
   "id": "0800f1cc",
   "metadata": {},
   "outputs": [],
   "source": [
    "acsv.index = acsv.Year        #Set Years as Index\n",
    "acsv = acsv.drop('Year', axis=1)  #Drop Year Column "
   ]
  },
  {
   "cell_type": "code",
   "execution_count": 135,
   "id": "23abbef6",
   "metadata": {},
   "outputs": [
    {
     "data": {
      "text/plain": [
       "<AxesSubplot:xlabel='Year', ylabel='Annual Rainfall Total'>"
      ]
     },
     "execution_count": 135,
     "metadata": {},
     "output_type": "execute_result"
    },
    {
     "data": {
      "image/png": "[encoded data removed]",
      "text/plain": [
       "<Figure size 432x288 with 1 Axes>"
      ]
     },
     "metadata": {
      "needs_background": "light"
     },
     "output_type": "display_data"
    }
   ],
   "source": [
    "#Annual/Yearly Totals\n",
    "acsv.sum(axis=1).plot(ylabel='Annual Rainfall Total')       \n"
   ]
  },
  {
   "cell_type": "code",
   "execution_count": 136,
   "id": "3e7fcb6d",
   "metadata": {},
   "outputs": [
    {
     "data": {
      "text/plain": [
       "<AxesSubplot:ylabel='Monthly Rainfall Climatology'>"
      ]
     },
     "execution_count": 136,
     "metadata": {},
     "output_type": "execute_result"
    },
    {
     "data": {
      "image/png": "[encoded data removed]",
      "text/plain": [
       "<Figure size 432x288 with 1 Axes>"
      ]
     },
     "metadata": {
      "needs_background": "light"
     },
     "output_type": "display_data"
    }
   ],
   "source": [
    "#Monthly Rainfall Climatology\n",
    "acsv.mean(axis=0).plot(ylabel='Monthly Rainfall Climatology')       "
   ]
  },
  {
   "cell_type": "markdown",
   "id": "5eb6e175",
   "metadata": {
    "id": "yx6usVDoQ0Dm"
   },
   "source": [
    "# Exercise 1\n",
    "\n",
    "1. Create a dataframe and populate with a multi-column data of temperature and pressure.\n",
    "\n",
    "2. Build a lambda function or a regular python function that computes the Potential Temperature based on the equation $\\theta = T(1000/p)^{0.286}$, where $T$ is temperature in Kelvin, $p$ is pressure in hPa and $\\theta$ is the potential temperature to be computed.\n",
    "\n",
    "3. Write the Potential temperature output as a new series within the created dataframe.\n",
    "\n",
    "4. Print out the first 20 rows of the new dataframe."
   ]
  },
  {
   "cell_type": "markdown",
   "id": "2ef1d0d0",
   "metadata": {},
   "source": [
    "Exercise 2\n",
    "------------------------\n",
    "Pandas read_csv() method can also be used with txt files. This exercise will help you navigate around that. The goal is to produce similar temperature anomaly plot as you did while using numpy, however, for a selected/sliced period.\n",
    "> 1. With pandas read_csv method, load the nh_temperature.txt file. Set header to None within the read_csv() parenthesis, since the data has no header. Also set the sep to ' ', since columns are separated by spaces and not comma's.<br>\n",
    "\n",
    "> 2. Rename the columns to ['Year','Jan','Feb','Mar','Apr','May','Jun','Jul','Aug','Sep','Oct','Nov','Dec'] using .columns() method'\n",
    "\n",
    "> 3. set the Year as index and drop from existing tabular data.<br>\n",
    "\n",
    "> 4. Slice data for 1860 to 2010.<br>\n",
    "\n",
    "> 5. Plot the Annual mean temperature anomaly."
   ]
  },
  {
   "cell_type": "code",
   "execution_count": null,
   "id": "a229bad8",
   "metadata": {},
   "outputs": [],
   "source": []
  },
  {
   "cell_type": "markdown",
   "id": "aae8ba8e",
   "metadata": {
    "id": "9gyYqXxn3Fgj"
   },
   "source": [
    "# pandas with Excel files and seaborn\n",
    "\n",
    "*notebook by Jeffrey N. A. Aryee*\n",
    "\n",
    "In this session, you will be working with data contained in a spreadsheet. The file, named `Test_RR_TnTx_data.xlsx` contains three (3) separate sheets of Rainfall, Minimum Temperature and Maximum Temperature from the Ghana Meteorological Agency (GMet). The data is an *in situ* observation with a short term temporal span intended for the Python education. Kindly note that the acquired data must serve only the educational purpose intended.\n",
    "\n",
    "We'll also be seeing how to use `seaborn` to produce useful plots for studying correlations and relationships in the observations. And we'll be using the `pymannkendall` package which implements the Mann-Kendall method for finding trends in the observations.\n",
    "\n",
    "\n",
    "***Let's start by importing relevant packages.***"
   ]
  },
  {
   "cell_type": "code",
   "execution_count": 137,
   "id": "a9a6240e",
   "metadata": {
    "id": "j4l1G20As4P4"
   },
   "outputs": [],
   "source": [
    "import seaborn as sb  # Useful for artistic and more scientific data visualization\n",
    "import pymannkendall as mk  # Useful Python package for identifying Mann-Kendall trends in a dataset.\n",
    "\n",
    "from pathlib import Path"
   ]
  },
  {
   "cell_type": "code",
   "execution_count": 140,
   "id": "5a5cf89f",
   "metadata": {},
   "outputs": [],
   "source": [
    "data_path = Path(\"data\")"
   ]
  },
  {
   "cell_type": "markdown",
   "id": "000f7a55",
   "metadata": {
    "id": "f1OT4VGi83h2"
   },
   "source": [
    "## 12. Loading data from `.xlsx` Excel spreadsheet file\n",
    "\n",
    "We'll now read in the rainfall and temperature data from different sheets in a single `.xslx` Excel spreadsheet file. This is done with the `pd.read_excel` function."
   ]
  },
  {
   "cell_type": "markdown",
   "id": "79fa6879",
   "metadata": {},
   "source": [
    "Note: the `xlrd` package (which `pandas` used to use for reading `.xslx`-files) [recently removed support for `.xslx`-files](https://stackoverflow.com/a/65266270/271776)). Fortunately `pandas` can use `openpyxl` instead, but unless you pandas version `>=1.2.0` you will have to tell `pandas` to use `openpyxl` using the `engine='openpyxl'` argument when opening a file (as we do below)."
   ]
  },
  {
   "cell_type": "markdown",
   "id": "d6832cfb",
   "metadata": {},
   "source": [
    "Sheet **RR** contains Daily Rainfall Totals, sheet **Tn** contains Daily Minimum Temperature and **Tx** contains the Daily Maximum Temperature data."
   ]
  },
  {
   "cell_type": "code",
   "execution_count": 141,
   "id": "0e016c08",
   "metadata": {
    "id": "iG_yA2u6s4P6"
   },
   "outputs": [],
   "source": [
    "filepath_spreadsheet = data_path / \"Test_RR_TnTx_data.xlsx\"\n",
    "# Rainfall\n",
    "df_RR = pd.read_excel(filepath_spreadsheet, sheet_name=\"RR\", engine=\"openpyxl\")\n",
    "# Minimum Temperature\n",
    "df_TN = pd.read_excel(filepath_spreadsheet, sheet_name=\"Tn\", engine=\"openpyxl\")\n",
    "# Maximum Temperature\n",
    "df_TX = pd.read_excel(filepath_spreadsheet, sheet_name=\"Tx\", engine=\"openpyxl\")"
   ]
  },
  {
   "cell_type": "markdown",
   "id": "d7772fee",
   "metadata": {},
   "source": [
    "In each sheet, the data is stored as:\n",
    "\n",
    "- **Column A :** the Station Name (for 3 stations, namely: Tamale, Kumasi and Tema).\n",
    "- **Column B :** abbreviation of parameter of interest (eg. RR for rainfall)\n",
    "- **Column C :** Year of observation\n",
    "- **Column D :** Month of observation\n",
    "- **Columns E to AI :** Daily Data (Day 1 to maximum days in the month. Eg. Columns E to AI on the second rows contains data for 1st to 31st January 2010)\n",
    "\n",
    "The first row contains the headers of each column and `pandas` uses this to set the column names"
   ]
  },
  {
   "cell_type": "markdown",
   "id": "68d94b21",
   "metadata": {},
   "source": [
    "Let's have a look at the first few rows of the loaded rainfall data"
   ]
  },
  {
   "cell_type": "code",
   "execution_count": 142,
   "id": "9c727ff5",
   "metadata": {
    "id": "BCUjKYORs4P7"
   },
   "outputs": [
    {
     "data": {
      "text/html": [
       "<div>\n",
       "<style scoped>\n",
       "    .dataframe tbody tr th:only-of-type {\n",
       "        vertical-align: middle;\n",
       "    }\n",
       "\n",
       "    .dataframe tbody tr th {\n",
       "        vertical-align: top;\n",
       "    }\n",
       "\n",
       "    .dataframe thead th {\n",
       "        text-align: right;\n",
       "    }\n",
       "</style>\n",
       "<table border=\"1\" class=\"dataframe\">\n",
       "  <thead>\n",
       "    <tr style=\"text-align: right;\">\n",
       "      <th></th>\n",
       "      <th>Name</th>\n",
       "      <th>Eg El Abbreviation</th>\n",
       "      <th>Year</th>\n",
       "      <th>Month</th>\n",
       "      <th>Val01</th>\n",
       "      <th>Val02</th>\n",
       "      <th>Val03</th>\n",
       "      <th>Val04</th>\n",
       "      <th>Val05</th>\n",
       "      <th>Val06</th>\n",
       "      <th>...</th>\n",
       "      <th>Val22</th>\n",
       "      <th>Val23</th>\n",
       "      <th>Val24</th>\n",
       "      <th>Val25</th>\n",
       "      <th>Val26</th>\n",
       "      <th>Val27</th>\n",
       "      <th>Val28</th>\n",
       "      <th>Val29</th>\n",
       "      <th>Val30</th>\n",
       "      <th>Val31</th>\n",
       "    </tr>\n",
       "  </thead>\n",
       "  <tbody>\n",
       "    <tr>\n",
       "      <th>0</th>\n",
       "      <td>Tamale</td>\n",
       "      <td>RR</td>\n",
       "      <td>2010</td>\n",
       "      <td>1</td>\n",
       "      <td>0.0</td>\n",
       "      <td>0.0</td>\n",
       "      <td>0.0</td>\n",
       "      <td>0.0</td>\n",
       "      <td>0.0</td>\n",
       "      <td>0.0</td>\n",
       "      <td>...</td>\n",
       "      <td>0.0</td>\n",
       "      <td>0.0</td>\n",
       "      <td>0.0</td>\n",
       "      <td>0.0</td>\n",
       "      <td>0.0</td>\n",
       "      <td>0.0</td>\n",
       "      <td>0.0</td>\n",
       "      <td>0.0</td>\n",
       "      <td>0.0</td>\n",
       "      <td>0.0</td>\n",
       "    </tr>\n",
       "    <tr>\n",
       "      <th>1</th>\n",
       "      <td>Tamale</td>\n",
       "      <td>RR</td>\n",
       "      <td>2010</td>\n",
       "      <td>2</td>\n",
       "      <td>0.0</td>\n",
       "      <td>0.0</td>\n",
       "      <td>0.0</td>\n",
       "      <td>0.0</td>\n",
       "      <td>0.0</td>\n",
       "      <td>0.0</td>\n",
       "      <td>...</td>\n",
       "      <td>0.0</td>\n",
       "      <td>0.0</td>\n",
       "      <td>0.0</td>\n",
       "      <td>0.0</td>\n",
       "      <td>0.0</td>\n",
       "      <td>0.0</td>\n",
       "      <td>0.0</td>\n",
       "      <td>NaN</td>\n",
       "      <td>NaN</td>\n",
       "      <td>NaN</td>\n",
       "    </tr>\n",
       "    <tr>\n",
       "      <th>2</th>\n",
       "      <td>Tamale</td>\n",
       "      <td>RR</td>\n",
       "      <td>2010</td>\n",
       "      <td>3</td>\n",
       "      <td>0.0</td>\n",
       "      <td>0.0</td>\n",
       "      <td>0.0</td>\n",
       "      <td>0.0</td>\n",
       "      <td>0.0</td>\n",
       "      <td>0.0</td>\n",
       "      <td>...</td>\n",
       "      <td>0.0</td>\n",
       "      <td>0.0</td>\n",
       "      <td>0.0</td>\n",
       "      <td>0.0</td>\n",
       "      <td>0.0</td>\n",
       "      <td>0.0</td>\n",
       "      <td>0.0</td>\n",
       "      <td>0.0</td>\n",
       "      <td>0.0</td>\n",
       "      <td>0.0</td>\n",
       "    </tr>\n",
       "    <tr>\n",
       "      <th>3</th>\n",
       "      <td>Tamale</td>\n",
       "      <td>RR</td>\n",
       "      <td>2010</td>\n",
       "      <td>4</td>\n",
       "      <td>0.0</td>\n",
       "      <td>0.0</td>\n",
       "      <td>0.0</td>\n",
       "      <td>0.0</td>\n",
       "      <td>0.9</td>\n",
       "      <td>0.0</td>\n",
       "      <td>...</td>\n",
       "      <td>89.1</td>\n",
       "      <td>0.0</td>\n",
       "      <td>0.0</td>\n",
       "      <td>0.0</td>\n",
       "      <td>73.3</td>\n",
       "      <td>1.5</td>\n",
       "      <td>0.0</td>\n",
       "      <td>0.0</td>\n",
       "      <td>0.0</td>\n",
       "      <td>NaN</td>\n",
       "    </tr>\n",
       "    <tr>\n",
       "      <th>4</th>\n",
       "      <td>Tamale</td>\n",
       "      <td>RR</td>\n",
       "      <td>2010</td>\n",
       "      <td>5</td>\n",
       "      <td>0.0</td>\n",
       "      <td>0.0</td>\n",
       "      <td>0.0</td>\n",
       "      <td>0.0</td>\n",
       "      <td>1.0</td>\n",
       "      <td>0.0</td>\n",
       "      <td>...</td>\n",
       "      <td>0.0</td>\n",
       "      <td>0.5</td>\n",
       "      <td>0.0</td>\n",
       "      <td>0.0</td>\n",
       "      <td>0.0</td>\n",
       "      <td>0.0</td>\n",
       "      <td>0.0</td>\n",
       "      <td>4.5</td>\n",
       "      <td>0.0</td>\n",
       "      <td>0.6</td>\n",
       "    </tr>\n",
       "  </tbody>\n",
       "</table>\n",
       "<p>5 rows × 35 columns</p>\n",
       "</div>"
      ],
      "text/plain": [
       "     Name Eg El Abbreviation  Year  Month  Val01  Val02  Val03  Val04  Val05  \\\n",
       "0  Tamale                 RR  2010      1    0.0    0.0    0.0    0.0    0.0   \n",
       "1  Tamale                 RR  2010      2    0.0    0.0    0.0    0.0    0.0   \n",
       "2  Tamale                 RR  2010      3    0.0    0.0    0.0    0.0    0.0   \n",
       "3  Tamale                 RR  2010      4    0.0    0.0    0.0    0.0    0.9   \n",
       "4  Tamale                 RR  2010      5    0.0    0.0    0.0    0.0    1.0   \n",
       "\n",
       "   Val06  ...  Val22  Val23  Val24  Val25  Val26  Val27  Val28  Val29  Val30  \\\n",
       "0    0.0  ...    0.0    0.0    0.0    0.0    0.0    0.0    0.0    0.0    0.0   \n",
       "1    0.0  ...    0.0    0.0    0.0    0.0    0.0    0.0    0.0    NaN    NaN   \n",
       "2    0.0  ...    0.0    0.0    0.0    0.0    0.0    0.0    0.0    0.0    0.0   \n",
       "3    0.0  ...   89.1    0.0    0.0    0.0   73.3    1.5    0.0    0.0    0.0   \n",
       "4    0.0  ...    0.0    0.5    0.0    0.0    0.0    0.0    0.0    4.5    0.0   \n",
       "\n",
       "   Val31  \n",
       "0    0.0  \n",
       "1    NaN  \n",
       "2    0.0  \n",
       "3    NaN  \n",
       "4    0.6  \n",
       "\n",
       "[5 rows x 35 columns]"
      ]
     },
     "execution_count": 142,
     "metadata": {},
     "output_type": "execute_result"
    }
   ],
   "source": [
    "df_RR.head()"
   ]
  },
  {
   "cell_type": "markdown",
   "id": "4b057477",
   "metadata": {},
   "source": [
    "## 13. Reshaping spreadsheet data\n",
    "\n",
    "We want to turn this tabular data from this \"wide\"-format, where each row contains more than one value to one where there is only one value per row. I.e. we want to reshape this table from one where each row contains each data for a each individual day in a given month and year, to one where one row only contains the rain for a single year, month and day.\n",
    "\n",
    "For this operation (which is the opposite to creating a \"pivot\" on the data) we can use pandas's [DataFrame.melt](https://pandas.pydata.org/pandas-docs/stable/reference/api/pandas.DataFrame.melt.html) method. In it we provide which columns contain the \"id\" of a data-value (i.e. which columns are label for the data) and the rest are then assumed to be columns containing data (which columns to use for data can explicitly be given with the `value_vars` variable):"
   ]
  },
  {
   "cell_type": "code",
   "execution_count": 143,
   "id": "3bd2bdf5",
   "metadata": {},
   "outputs": [
    {
     "data": {
      "text/html": [
       "<div>\n",
       "<style scoped>\n",
       "    .dataframe tbody tr th:only-of-type {\n",
       "        vertical-align: middle;\n",
       "    }\n",
       "\n",
       "    .dataframe tbody tr th {\n",
       "        vertical-align: top;\n",
       "    }\n",
       "\n",
       "    .dataframe thead th {\n",
       "        text-align: right;\n",
       "    }\n",
       "</style>\n",
       "<table border=\"1\" class=\"dataframe\">\n",
       "  <thead>\n",
       "    <tr style=\"text-align: right;\">\n",
       "      <th></th>\n",
       "      <th>Name</th>\n",
       "      <th>Eg El Abbreviation</th>\n",
       "      <th>Year</th>\n",
       "      <th>Month</th>\n",
       "      <th>variable</th>\n",
       "      <th>value</th>\n",
       "    </tr>\n",
       "  </thead>\n",
       "  <tbody>\n",
       "    <tr>\n",
       "      <th>0</th>\n",
       "      <td>Tamale</td>\n",
       "      <td>RR</td>\n",
       "      <td>2010</td>\n",
       "      <td>1</td>\n",
       "      <td>Val01</td>\n",
       "      <td>0.0</td>\n",
       "    </tr>\n",
       "    <tr>\n",
       "      <th>1</th>\n",
       "      <td>Tamale</td>\n",
       "      <td>RR</td>\n",
       "      <td>2010</td>\n",
       "      <td>2</td>\n",
       "      <td>Val01</td>\n",
       "      <td>0.0</td>\n",
       "    </tr>\n",
       "    <tr>\n",
       "      <th>2</th>\n",
       "      <td>Tamale</td>\n",
       "      <td>RR</td>\n",
       "      <td>2010</td>\n",
       "      <td>3</td>\n",
       "      <td>Val01</td>\n",
       "      <td>0.0</td>\n",
       "    </tr>\n",
       "    <tr>\n",
       "      <th>3</th>\n",
       "      <td>Tamale</td>\n",
       "      <td>RR</td>\n",
       "      <td>2010</td>\n",
       "      <td>4</td>\n",
       "      <td>Val01</td>\n",
       "      <td>0.0</td>\n",
       "    </tr>\n",
       "    <tr>\n",
       "      <th>4</th>\n",
       "      <td>Tamale</td>\n",
       "      <td>RR</td>\n",
       "      <td>2010</td>\n",
       "      <td>5</td>\n",
       "      <td>Val01</td>\n",
       "      <td>0.0</td>\n",
       "    </tr>\n",
       "    <tr>\n",
       "      <th>...</th>\n",
       "      <td>...</td>\n",
       "      <td>...</td>\n",
       "      <td>...</td>\n",
       "      <td>...</td>\n",
       "      <td>...</td>\n",
       "      <td>...</td>\n",
       "    </tr>\n",
       "    <tr>\n",
       "      <th>4459</th>\n",
       "      <td>Tema</td>\n",
       "      <td>RR</td>\n",
       "      <td>2013</td>\n",
       "      <td>8</td>\n",
       "      <td>Val31</td>\n",
       "      <td>0.0</td>\n",
       "    </tr>\n",
       "    <tr>\n",
       "      <th>4460</th>\n",
       "      <td>Tema</td>\n",
       "      <td>RR</td>\n",
       "      <td>2013</td>\n",
       "      <td>9</td>\n",
       "      <td>Val31</td>\n",
       "      <td>NaN</td>\n",
       "    </tr>\n",
       "    <tr>\n",
       "      <th>4461</th>\n",
       "      <td>Tema</td>\n",
       "      <td>RR</td>\n",
       "      <td>2013</td>\n",
       "      <td>10</td>\n",
       "      <td>Val31</td>\n",
       "      <td>0.0</td>\n",
       "    </tr>\n",
       "    <tr>\n",
       "      <th>4462</th>\n",
       "      <td>Tema</td>\n",
       "      <td>RR</td>\n",
       "      <td>2013</td>\n",
       "      <td>11</td>\n",
       "      <td>Val31</td>\n",
       "      <td>NaN</td>\n",
       "    </tr>\n",
       "    <tr>\n",
       "      <th>4463</th>\n",
       "      <td>Tema</td>\n",
       "      <td>RR</td>\n",
       "      <td>2013</td>\n",
       "      <td>12</td>\n",
       "      <td>Val31</td>\n",
       "      <td>0.0</td>\n",
       "    </tr>\n",
       "  </tbody>\n",
       "</table>\n",
       "<p>4464 rows × 6 columns</p>\n",
       "</div>"
      ],
      "text/plain": [
       "        Name Eg El Abbreviation  Year  Month variable  value\n",
       "0     Tamale                 RR  2010      1    Val01    0.0\n",
       "1     Tamale                 RR  2010      2    Val01    0.0\n",
       "2     Tamale                 RR  2010      3    Val01    0.0\n",
       "3     Tamale                 RR  2010      4    Val01    0.0\n",
       "4     Tamale                 RR  2010      5    Val01    0.0\n",
       "...      ...                ...   ...    ...      ...    ...\n",
       "4459    Tema                 RR  2013      8    Val31    0.0\n",
       "4460    Tema                 RR  2013      9    Val31    NaN\n",
       "4461    Tema                 RR  2013     10    Val31    0.0\n",
       "4462    Tema                 RR  2013     11    Val31    NaN\n",
       "4463    Tema                 RR  2013     12    Val31    0.0\n",
       "\n",
       "[4464 rows x 6 columns]"
      ]
     },
     "execution_count": 143,
     "metadata": {},
     "output_type": "execute_result"
    }
   ],
   "source": [
    "df_RR.melt(\n",
    "    id_vars=[\n",
    "        \"Name\",\n",
    "        \"Eg El Abbreviation\",\n",
    "        \"Year\",\n",
    "        \"Month\",\n",
    "    ],\n",
    ")"
   ]
  },
  {
   "cell_type": "markdown",
   "id": "b79b3fa5",
   "metadata": {},
   "source": [
    "This is almost here, though we would prefer to have the actual day of the month rather than `Val01`, `Val02` etc. To achieve this we just need to rename the columns before we apply the `.melt` operation. We can also tell pandas what we want the column that contains these labels to be called, we'll make that `Day`"
   ]
  },
  {
   "cell_type": "code",
   "execution_count": 144,
   "id": "1cc6f2f8",
   "metadata": {},
   "outputs": [
    {
     "data": {
      "text/plain": [
       "{'Val01': 1,\n",
       " 'Val02': 2,\n",
       " 'Val03': 3,\n",
       " 'Val04': 4,\n",
       " 'Val05': 5,\n",
       " 'Val06': 6,\n",
       " 'Val07': 7,\n",
       " 'Val08': 8,\n",
       " 'Val09': 9,\n",
       " 'Val10': 10,\n",
       " 'Val11': 11,\n",
       " 'Val12': 12,\n",
       " 'Val13': 13,\n",
       " 'Val14': 14,\n",
       " 'Val15': 15,\n",
       " 'Val16': 16,\n",
       " 'Val17': 17,\n",
       " 'Val18': 18,\n",
       " 'Val19': 19,\n",
       " 'Val20': 20,\n",
       " 'Val21': 21,\n",
       " 'Val22': 22,\n",
       " 'Val23': 23,\n",
       " 'Val24': 24,\n",
       " 'Val25': 25,\n",
       " 'Val26': 26,\n",
       " 'Val27': 27,\n",
       " 'Val28': 28,\n",
       " 'Val29': 29,\n",
       " 'Val30': 30,\n",
       " 'Val31': 31}"
      ]
     },
     "execution_count": 144,
     "metadata": {},
     "output_type": "execute_result"
    }
   ],
   "source": [
    "fields_to_rename = {f\"Val{n:02d}\": n for n in range(1, 32)}\n",
    "fields_to_rename"
   ]
  },
  {
   "cell_type": "code",
   "execution_count": 145,
   "id": "db63344d",
   "metadata": {},
   "outputs": [
    {
     "data": {
      "text/html": [
       "<div>\n",
       "<style scoped>\n",
       "    .dataframe tbody tr th:only-of-type {\n",
       "        vertical-align: middle;\n",
       "    }\n",
       "\n",
       "    .dataframe tbody tr th {\n",
       "        vertical-align: top;\n",
       "    }\n",
       "\n",
       "    .dataframe thead th {\n",
       "        text-align: right;\n",
       "    }\n",
       "</style>\n",
       "<table border=\"1\" class=\"dataframe\">\n",
       "  <thead>\n",
       "    <tr style=\"text-align: right;\">\n",
       "      <th></th>\n",
       "      <th>Name</th>\n",
       "      <th>Eg El Abbreviation</th>\n",
       "      <th>Year</th>\n",
       "      <th>Month</th>\n",
       "      <th>1</th>\n",
       "      <th>2</th>\n",
       "      <th>3</th>\n",
       "      <th>4</th>\n",
       "      <th>5</th>\n",
       "      <th>6</th>\n",
       "      <th>...</th>\n",
       "      <th>22</th>\n",
       "      <th>23</th>\n",
       "      <th>24</th>\n",
       "      <th>25</th>\n",
       "      <th>26</th>\n",
       "      <th>27</th>\n",
       "      <th>28</th>\n",
       "      <th>29</th>\n",
       "      <th>30</th>\n",
       "      <th>31</th>\n",
       "    </tr>\n",
       "  </thead>\n",
       "  <tbody>\n",
       "    <tr>\n",
       "      <th>0</th>\n",
       "      <td>Tamale</td>\n",
       "      <td>RR</td>\n",
       "      <td>2010</td>\n",
       "      <td>1</td>\n",
       "      <td>0.0</td>\n",
       "      <td>0.0</td>\n",
       "      <td>0.0</td>\n",
       "      <td>0.0</td>\n",
       "      <td>0.0</td>\n",
       "      <td>0.0</td>\n",
       "      <td>...</td>\n",
       "      <td>0.0</td>\n",
       "      <td>0.0</td>\n",
       "      <td>0.0</td>\n",
       "      <td>0.0</td>\n",
       "      <td>0.0</td>\n",
       "      <td>0.0</td>\n",
       "      <td>0.0</td>\n",
       "      <td>0.0</td>\n",
       "      <td>0.0</td>\n",
       "      <td>0.0</td>\n",
       "    </tr>\n",
       "    <tr>\n",
       "      <th>1</th>\n",
       "      <td>Tamale</td>\n",
       "      <td>RR</td>\n",
       "      <td>2010</td>\n",
       "      <td>2</td>\n",
       "      <td>0.0</td>\n",
       "      <td>0.0</td>\n",
       "      <td>0.0</td>\n",
       "      <td>0.0</td>\n",
       "      <td>0.0</td>\n",
       "      <td>0.0</td>\n",
       "      <td>...</td>\n",
       "      <td>0.0</td>\n",
       "      <td>0.0</td>\n",
       "      <td>0.0</td>\n",
       "      <td>0.0</td>\n",
       "      <td>0.0</td>\n",
       "      <td>0.0</td>\n",
       "      <td>0.0</td>\n",
       "      <td>NaN</td>\n",
       "      <td>NaN</td>\n",
       "      <td>NaN</td>\n",
       "    </tr>\n",
       "    <tr>\n",
       "      <th>2</th>\n",
       "      <td>Tamale</td>\n",
       "      <td>RR</td>\n",
       "      <td>2010</td>\n",
       "      <td>3</td>\n",
       "      <td>0.0</td>\n",
       "      <td>0.0</td>\n",
       "      <td>0.0</td>\n",
       "      <td>0.0</td>\n",
       "      <td>0.0</td>\n",
       "      <td>0.0</td>\n",
       "      <td>...</td>\n",
       "      <td>0.0</td>\n",
       "      <td>0.0</td>\n",
       "      <td>0.0</td>\n",
       "      <td>0.0</td>\n",
       "      <td>0.0</td>\n",
       "      <td>0.0</td>\n",
       "      <td>0.0</td>\n",
       "      <td>0.0</td>\n",
       "      <td>0.0</td>\n",
       "      <td>0.0</td>\n",
       "    </tr>\n",
       "    <tr>\n",
       "      <th>3</th>\n",
       "      <td>Tamale</td>\n",
       "      <td>RR</td>\n",
       "      <td>2010</td>\n",
       "      <td>4</td>\n",
       "      <td>0.0</td>\n",
       "      <td>0.0</td>\n",
       "      <td>0.0</td>\n",
       "      <td>0.0</td>\n",
       "      <td>0.9</td>\n",
       "      <td>0.0</td>\n",
       "      <td>...</td>\n",
       "      <td>89.1</td>\n",
       "      <td>0.0</td>\n",
       "      <td>0.0</td>\n",
       "      <td>0.0</td>\n",
       "      <td>73.3</td>\n",
       "      <td>1.5</td>\n",
       "      <td>0.0</td>\n",
       "      <td>0.0</td>\n",
       "      <td>0.0</td>\n",
       "      <td>NaN</td>\n",
       "    </tr>\n",
       "    <tr>\n",
       "      <th>4</th>\n",
       "      <td>Tamale</td>\n",
       "      <td>RR</td>\n",
       "      <td>2010</td>\n",
       "      <td>5</td>\n",
       "      <td>0.0</td>\n",
       "      <td>0.0</td>\n",
       "      <td>0.0</td>\n",
       "      <td>0.0</td>\n",
       "      <td>1.0</td>\n",
       "      <td>0.0</td>\n",
       "      <td>...</td>\n",
       "      <td>0.0</td>\n",
       "      <td>0.5</td>\n",
       "      <td>0.0</td>\n",
       "      <td>0.0</td>\n",
       "      <td>0.0</td>\n",
       "      <td>0.0</td>\n",
       "      <td>0.0</td>\n",
       "      <td>4.5</td>\n",
       "      <td>0.0</td>\n",
       "      <td>0.6</td>\n",
       "    </tr>\n",
       "    <tr>\n",
       "      <th>...</th>\n",
       "      <td>...</td>\n",
       "      <td>...</td>\n",
       "      <td>...</td>\n",
       "      <td>...</td>\n",
       "      <td>...</td>\n",
       "      <td>...</td>\n",
       "      <td>...</td>\n",
       "      <td>...</td>\n",
       "      <td>...</td>\n",
       "      <td>...</td>\n",
       "      <td>...</td>\n",
       "      <td>...</td>\n",
       "      <td>...</td>\n",
       "      <td>...</td>\n",
       "      <td>...</td>\n",
       "      <td>...</td>\n",
       "      <td>...</td>\n",
       "      <td>...</td>\n",
       "      <td>...</td>\n",
       "      <td>...</td>\n",
       "      <td>...</td>\n",
       "    </tr>\n",
       "    <tr>\n",
       "      <th>139</th>\n",
       "      <td>Tema</td>\n",
       "      <td>RR</td>\n",
       "      <td>2013</td>\n",
       "      <td>8</td>\n",
       "      <td>0.0</td>\n",
       "      <td>0.0</td>\n",
       "      <td>0.0</td>\n",
       "      <td>0.0</td>\n",
       "      <td>0.0</td>\n",
       "      <td>0.3</td>\n",
       "      <td>...</td>\n",
       "      <td>0.0</td>\n",
       "      <td>0.0</td>\n",
       "      <td>0.0</td>\n",
       "      <td>0.0</td>\n",
       "      <td>0.0</td>\n",
       "      <td>0.0</td>\n",
       "      <td>0.0</td>\n",
       "      <td>0.0</td>\n",
       "      <td>0.0</td>\n",
       "      <td>0.0</td>\n",
       "    </tr>\n",
       "    <tr>\n",
       "      <th>140</th>\n",
       "      <td>Tema</td>\n",
       "      <td>RR</td>\n",
       "      <td>2013</td>\n",
       "      <td>9</td>\n",
       "      <td>0.1</td>\n",
       "      <td>0.0</td>\n",
       "      <td>0.0</td>\n",
       "      <td>0.0</td>\n",
       "      <td>6.5</td>\n",
       "      <td>0.0</td>\n",
       "      <td>...</td>\n",
       "      <td>0.0</td>\n",
       "      <td>7.3</td>\n",
       "      <td>3.0</td>\n",
       "      <td>0.0</td>\n",
       "      <td>0.0</td>\n",
       "      <td>0.0</td>\n",
       "      <td>0.0</td>\n",
       "      <td>0.0</td>\n",
       "      <td>0.0</td>\n",
       "      <td>NaN</td>\n",
       "    </tr>\n",
       "    <tr>\n",
       "      <th>141</th>\n",
       "      <td>Tema</td>\n",
       "      <td>RR</td>\n",
       "      <td>2013</td>\n",
       "      <td>10</td>\n",
       "      <td>0.0</td>\n",
       "      <td>0.0</td>\n",
       "      <td>0.5</td>\n",
       "      <td>0.0</td>\n",
       "      <td>0.0</td>\n",
       "      <td>0.0</td>\n",
       "      <td>...</td>\n",
       "      <td>0.0</td>\n",
       "      <td>0.0</td>\n",
       "      <td>0.0</td>\n",
       "      <td>0.0</td>\n",
       "      <td>0.0</td>\n",
       "      <td>0.0</td>\n",
       "      <td>0.0</td>\n",
       "      <td>0.0</td>\n",
       "      <td>0.0</td>\n",
       "      <td>0.0</td>\n",
       "    </tr>\n",
       "    <tr>\n",
       "      <th>142</th>\n",
       "      <td>Tema</td>\n",
       "      <td>RR</td>\n",
       "      <td>2013</td>\n",
       "      <td>11</td>\n",
       "      <td>0.0</td>\n",
       "      <td>0.0</td>\n",
       "      <td>0.0</td>\n",
       "      <td>0.0</td>\n",
       "      <td>0.0</td>\n",
       "      <td>0.0</td>\n",
       "      <td>...</td>\n",
       "      <td>0.0</td>\n",
       "      <td>5.8</td>\n",
       "      <td>0.0</td>\n",
       "      <td>4.9</td>\n",
       "      <td>0.0</td>\n",
       "      <td>0.0</td>\n",
       "      <td>0.0</td>\n",
       "      <td>0.0</td>\n",
       "      <td>9.9</td>\n",
       "      <td>NaN</td>\n",
       "    </tr>\n",
       "    <tr>\n",
       "      <th>143</th>\n",
       "      <td>Tema</td>\n",
       "      <td>RR</td>\n",
       "      <td>2013</td>\n",
       "      <td>12</td>\n",
       "      <td>0.0</td>\n",
       "      <td>0.0</td>\n",
       "      <td>0.4</td>\n",
       "      <td>10.2</td>\n",
       "      <td>0.0</td>\n",
       "      <td>0.0</td>\n",
       "      <td>...</td>\n",
       "      <td>0.0</td>\n",
       "      <td>0.0</td>\n",
       "      <td>0.0</td>\n",
       "      <td>0.0</td>\n",
       "      <td>0.0</td>\n",
       "      <td>0.0</td>\n",
       "      <td>0.0</td>\n",
       "      <td>0.0</td>\n",
       "      <td>24.8</td>\n",
       "      <td>0.0</td>\n",
       "    </tr>\n",
       "  </tbody>\n",
       "</table>\n",
       "<p>144 rows × 35 columns</p>\n",
       "</div>"
      ],
      "text/plain": [
       "       Name Eg El Abbreviation  Year  Month    1    2    3     4    5    6  \\\n",
       "0    Tamale                 RR  2010      1  0.0  0.0  0.0   0.0  0.0  0.0   \n",
       "1    Tamale                 RR  2010      2  0.0  0.0  0.0   0.0  0.0  0.0   \n",
       "2    Tamale                 RR  2010      3  0.0  0.0  0.0   0.0  0.0  0.0   \n",
       "3    Tamale                 RR  2010      4  0.0  0.0  0.0   0.0  0.9  0.0   \n",
       "4    Tamale                 RR  2010      5  0.0  0.0  0.0   0.0  1.0  0.0   \n",
       "..      ...                ...   ...    ...  ...  ...  ...   ...  ...  ...   \n",
       "139    Tema                 RR  2013      8  0.0  0.0  0.0   0.0  0.0  0.3   \n",
       "140    Tema                 RR  2013      9  0.1  0.0  0.0   0.0  6.5  0.0   \n",
       "141    Tema                 RR  2013     10  0.0  0.0  0.5   0.0  0.0  0.0   \n",
       "142    Tema                 RR  2013     11  0.0  0.0  0.0   0.0  0.0  0.0   \n",
       "143    Tema                 RR  2013     12  0.0  0.0  0.4  10.2  0.0  0.0   \n",
       "\n",
       "     ...    22   23   24   25    26   27   28   29    30   31  \n",
       "0    ...   0.0  0.0  0.0  0.0   0.0  0.0  0.0  0.0   0.0  0.0  \n",
       "1    ...   0.0  0.0  0.0  0.0   0.0  0.0  0.0  NaN   NaN  NaN  \n",
       "2    ...   0.0  0.0  0.0  0.0   0.0  0.0  0.0  0.0   0.0  0.0  \n",
       "3    ...  89.1  0.0  0.0  0.0  73.3  1.5  0.0  0.0   0.0  NaN  \n",
       "4    ...   0.0  0.5  0.0  0.0   0.0  0.0  0.0  4.5   0.0  0.6  \n",
       "..   ...   ...  ...  ...  ...   ...  ...  ...  ...   ...  ...  \n",
       "139  ...   0.0  0.0  0.0  0.0   0.0  0.0  0.0  0.0   0.0  0.0  \n",
       "140  ...   0.0  7.3  3.0  0.0   0.0  0.0  0.0  0.0   0.0  NaN  \n",
       "141  ...   0.0  0.0  0.0  0.0   0.0  0.0  0.0  0.0   0.0  0.0  \n",
       "142  ...   0.0  5.8  0.0  4.9   0.0  0.0  0.0  0.0   9.9  NaN  \n",
       "143  ...   0.0  0.0  0.0  0.0   0.0  0.0  0.0  0.0  24.8  0.0  \n",
       "\n",
       "[144 rows x 35 columns]"
      ]
     },
     "execution_count": 145,
     "metadata": {},
     "output_type": "execute_result"
    }
   ],
   "source": [
    "df_RR.rename(columns=fields_to_rename, inplace=True)\n",
    "df_RR"
   ]
  },
  {
   "cell_type": "markdown",
   "id": "1202a56c",
   "metadata": {},
   "source": [
    "We now call `.melt` again, and specify what we want the column which contains the day-numbers to be called.\n",
    "\n",
    "We'll also use the `.dropna()` function to get rid of any rows where the value is NaN (which for example will be on days where the month doens't have 31 days)"
   ]
  },
  {
   "cell_type": "code",
   "execution_count": 146,
   "id": "fcec6e1b",
   "metadata": {},
   "outputs": [
    {
     "data": {
      "text/html": [
       "<div>\n",
       "<style scoped>\n",
       "    .dataframe tbody tr th:only-of-type {\n",
       "        vertical-align: middle;\n",
       "    }\n",
       "\n",
       "    .dataframe tbody tr th {\n",
       "        vertical-align: top;\n",
       "    }\n",
       "\n",
       "    .dataframe thead th {\n",
       "        text-align: right;\n",
       "    }\n",
       "</style>\n",
       "<table border=\"1\" class=\"dataframe\">\n",
       "  <thead>\n",
       "    <tr style=\"text-align: right;\">\n",
       "      <th></th>\n",
       "      <th>Name</th>\n",
       "      <th>Eg El Abbreviation</th>\n",
       "      <th>Year</th>\n",
       "      <th>Month</th>\n",
       "      <th>Day</th>\n",
       "      <th>value</th>\n",
       "    </tr>\n",
       "  </thead>\n",
       "  <tbody>\n",
       "    <tr>\n",
       "      <th>0</th>\n",
       "      <td>Tamale</td>\n",
       "      <td>RR</td>\n",
       "      <td>2010</td>\n",
       "      <td>1</td>\n",
       "      <td>1</td>\n",
       "      <td>0.0</td>\n",
       "    </tr>\n",
       "    <tr>\n",
       "      <th>1</th>\n",
       "      <td>Tamale</td>\n",
       "      <td>RR</td>\n",
       "      <td>2010</td>\n",
       "      <td>2</td>\n",
       "      <td>1</td>\n",
       "      <td>0.0</td>\n",
       "    </tr>\n",
       "    <tr>\n",
       "      <th>2</th>\n",
       "      <td>Tamale</td>\n",
       "      <td>RR</td>\n",
       "      <td>2010</td>\n",
       "      <td>3</td>\n",
       "      <td>1</td>\n",
       "      <td>0.0</td>\n",
       "    </tr>\n",
       "    <tr>\n",
       "      <th>3</th>\n",
       "      <td>Tamale</td>\n",
       "      <td>RR</td>\n",
       "      <td>2010</td>\n",
       "      <td>4</td>\n",
       "      <td>1</td>\n",
       "      <td>0.0</td>\n",
       "    </tr>\n",
       "    <tr>\n",
       "      <th>4</th>\n",
       "      <td>Tamale</td>\n",
       "      <td>RR</td>\n",
       "      <td>2010</td>\n",
       "      <td>5</td>\n",
       "      <td>1</td>\n",
       "      <td>0.0</td>\n",
       "    </tr>\n",
       "    <tr>\n",
       "      <th>...</th>\n",
       "      <td>...</td>\n",
       "      <td>...</td>\n",
       "      <td>...</td>\n",
       "      <td>...</td>\n",
       "      <td>...</td>\n",
       "      <td>...</td>\n",
       "    </tr>\n",
       "    <tr>\n",
       "      <th>4456</th>\n",
       "      <td>Tema</td>\n",
       "      <td>RR</td>\n",
       "      <td>2013</td>\n",
       "      <td>5</td>\n",
       "      <td>31</td>\n",
       "      <td>0.0</td>\n",
       "    </tr>\n",
       "    <tr>\n",
       "      <th>4458</th>\n",
       "      <td>Tema</td>\n",
       "      <td>RR</td>\n",
       "      <td>2013</td>\n",
       "      <td>7</td>\n",
       "      <td>31</td>\n",
       "      <td>0.0</td>\n",
       "    </tr>\n",
       "    <tr>\n",
       "      <th>4459</th>\n",
       "      <td>Tema</td>\n",
       "      <td>RR</td>\n",
       "      <td>2013</td>\n",
       "      <td>8</td>\n",
       "      <td>31</td>\n",
       "      <td>0.0</td>\n",
       "    </tr>\n",
       "    <tr>\n",
       "      <th>4461</th>\n",
       "      <td>Tema</td>\n",
       "      <td>RR</td>\n",
       "      <td>2013</td>\n",
       "      <td>10</td>\n",
       "      <td>31</td>\n",
       "      <td>0.0</td>\n",
       "    </tr>\n",
       "    <tr>\n",
       "      <th>4463</th>\n",
       "      <td>Tema</td>\n",
       "      <td>RR</td>\n",
       "      <td>2013</td>\n",
       "      <td>12</td>\n",
       "      <td>31</td>\n",
       "      <td>0.0</td>\n",
       "    </tr>\n",
       "  </tbody>\n",
       "</table>\n",
       "<p>4383 rows × 6 columns</p>\n",
       "</div>"
      ],
      "text/plain": [
       "        Name Eg El Abbreviation  Year  Month Day  value\n",
       "0     Tamale                 RR  2010      1   1    0.0\n",
       "1     Tamale                 RR  2010      2   1    0.0\n",
       "2     Tamale                 RR  2010      3   1    0.0\n",
       "3     Tamale                 RR  2010      4   1    0.0\n",
       "4     Tamale                 RR  2010      5   1    0.0\n",
       "...      ...                ...   ...    ...  ..    ...\n",
       "4456    Tema                 RR  2013      5  31    0.0\n",
       "4458    Tema                 RR  2013      7  31    0.0\n",
       "4459    Tema                 RR  2013      8  31    0.0\n",
       "4461    Tema                 RR  2013     10  31    0.0\n",
       "4463    Tema                 RR  2013     12  31    0.0\n",
       "\n",
       "[4383 rows x 6 columns]"
      ]
     },
     "execution_count": 146,
     "metadata": {},
     "output_type": "execute_result"
    }
   ],
   "source": [
    "df_RR_flat = df_RR.melt(\n",
    "    id_vars=[\n",
    "        \"Name\",\n",
    "        \"Eg El Abbreviation\",\n",
    "        \"Year\",\n",
    "        \"Month\",\n",
    "    ],\n",
    "    var_name=\"Day\",\n",
    ").dropna()\n",
    "df_RR_flat"
   ]
  },
  {
   "cell_type": "markdown",
   "id": "6e61a788",
   "metadata": {},
   "source": [
    "Additionally, we'd like to have the full date defined in a single column instead of having the components of the date split into three different columns. To achieve this we can use the [pd.to_datetime](https://pandas.pydata.org/pandas-docs/stable/reference/api/pandas.to_datetime.html) function (you should click and have a look at its documentation). This function is so clever that if you pass it a DataFrame which contains columns with names `year`, `month`, `day`, `hour` etc it will automatically work out how to combine these and produce a single `pd.DataSeries` with datetimes that we can add as a new column to our exising dataframe."
   ]
  },
  {
   "cell_type": "code",
   "execution_count": 147,
   "id": "5751d2e3",
   "metadata": {},
   "outputs": [
    {
     "data": {
      "text/plain": [
       "0      2010-01-01\n",
       "1      2010-02-01\n",
       "2      2010-03-01\n",
       "3      2010-04-01\n",
       "4      2010-05-01\n",
       "          ...    \n",
       "4456   2013-05-31\n",
       "4458   2013-07-31\n",
       "4459   2013-08-31\n",
       "4461   2013-10-31\n",
       "4463   2013-12-31\n",
       "Length: 4383, dtype: datetime64[ns]"
      ]
     },
     "execution_count": 147,
     "metadata": {},
     "output_type": "execute_result"
    }
   ],
   "source": [
    "pd.to_datetime(df_RR_flat[[\"Year\", \"Month\", \"Day\"]])"
   ]
  },
  {
   "cell_type": "code",
   "execution_count": 148,
   "id": "96e50f79",
   "metadata": {},
   "outputs": [
    {
     "data": {
      "text/html": [
       "<div>\n",
       "<style scoped>\n",
       "    .dataframe tbody tr th:only-of-type {\n",
       "        vertical-align: middle;\n",
       "    }\n",
       "\n",
       "    .dataframe tbody tr th {\n",
       "        vertical-align: top;\n",
       "    }\n",
       "\n",
       "    .dataframe thead th {\n",
       "        text-align: right;\n",
       "    }\n",
       "</style>\n",
       "<table border=\"1\" class=\"dataframe\">\n",
       "  <thead>\n",
       "    <tr style=\"text-align: right;\">\n",
       "      <th></th>\n",
       "      <th>Name</th>\n",
       "      <th>Eg El Abbreviation</th>\n",
       "      <th>Year</th>\n",
       "      <th>Month</th>\n",
       "      <th>Day</th>\n",
       "      <th>value</th>\n",
       "      <th>date</th>\n",
       "    </tr>\n",
       "  </thead>\n",
       "  <tbody>\n",
       "    <tr>\n",
       "      <th>0</th>\n",
       "      <td>Tamale</td>\n",
       "      <td>RR</td>\n",
       "      <td>2010</td>\n",
       "      <td>1</td>\n",
       "      <td>1</td>\n",
       "      <td>0.0</td>\n",
       "      <td>2010-01-01</td>\n",
       "    </tr>\n",
       "    <tr>\n",
       "      <th>1</th>\n",
       "      <td>Tamale</td>\n",
       "      <td>RR</td>\n",
       "      <td>2010</td>\n",
       "      <td>2</td>\n",
       "      <td>1</td>\n",
       "      <td>0.0</td>\n",
       "      <td>2010-02-01</td>\n",
       "    </tr>\n",
       "    <tr>\n",
       "      <th>2</th>\n",
       "      <td>Tamale</td>\n",
       "      <td>RR</td>\n",
       "      <td>2010</td>\n",
       "      <td>3</td>\n",
       "      <td>1</td>\n",
       "      <td>0.0</td>\n",
       "      <td>2010-03-01</td>\n",
       "    </tr>\n",
       "    <tr>\n",
       "      <th>3</th>\n",
       "      <td>Tamale</td>\n",
       "      <td>RR</td>\n",
       "      <td>2010</td>\n",
       "      <td>4</td>\n",
       "      <td>1</td>\n",
       "      <td>0.0</td>\n",
       "      <td>2010-04-01</td>\n",
       "    </tr>\n",
       "    <tr>\n",
       "      <th>4</th>\n",
       "      <td>Tamale</td>\n",
       "      <td>RR</td>\n",
       "      <td>2010</td>\n",
       "      <td>5</td>\n",
       "      <td>1</td>\n",
       "      <td>0.0</td>\n",
       "      <td>2010-05-01</td>\n",
       "    </tr>\n",
       "    <tr>\n",
       "      <th>...</th>\n",
       "      <td>...</td>\n",
       "      <td>...</td>\n",
       "      <td>...</td>\n",
       "      <td>...</td>\n",
       "      <td>...</td>\n",
       "      <td>...</td>\n",
       "      <td>...</td>\n",
       "    </tr>\n",
       "    <tr>\n",
       "      <th>4456</th>\n",
       "      <td>Tema</td>\n",
       "      <td>RR</td>\n",
       "      <td>2013</td>\n",
       "      <td>5</td>\n",
       "      <td>31</td>\n",
       "      <td>0.0</td>\n",
       "      <td>2013-05-31</td>\n",
       "    </tr>\n",
       "    <tr>\n",
       "      <th>4458</th>\n",
       "      <td>Tema</td>\n",
       "      <td>RR</td>\n",
       "      <td>2013</td>\n",
       "      <td>7</td>\n",
       "      <td>31</td>\n",
       "      <td>0.0</td>\n",
       "      <td>2013-07-31</td>\n",
       "    </tr>\n",
       "    <tr>\n",
       "      <th>4459</th>\n",
       "      <td>Tema</td>\n",
       "      <td>RR</td>\n",
       "      <td>2013</td>\n",
       "      <td>8</td>\n",
       "      <td>31</td>\n",
       "      <td>0.0</td>\n",
       "      <td>2013-08-31</td>\n",
       "    </tr>\n",
       "    <tr>\n",
       "      <th>4461</th>\n",
       "      <td>Tema</td>\n",
       "      <td>RR</td>\n",
       "      <td>2013</td>\n",
       "      <td>10</td>\n",
       "      <td>31</td>\n",
       "      <td>0.0</td>\n",
       "      <td>2013-10-31</td>\n",
       "    </tr>\n",
       "    <tr>\n",
       "      <th>4463</th>\n",
       "      <td>Tema</td>\n",
       "      <td>RR</td>\n",
       "      <td>2013</td>\n",
       "      <td>12</td>\n",
       "      <td>31</td>\n",
       "      <td>0.0</td>\n",
       "      <td>2013-12-31</td>\n",
       "    </tr>\n",
       "  </tbody>\n",
       "</table>\n",
       "<p>4383 rows × 7 columns</p>\n",
       "</div>"
      ],
      "text/plain": [
       "        Name Eg El Abbreviation  Year  Month Day  value       date\n",
       "0     Tamale                 RR  2010      1   1    0.0 2010-01-01\n",
       "1     Tamale                 RR  2010      2   1    0.0 2010-02-01\n",
       "2     Tamale                 RR  2010      3   1    0.0 2010-03-01\n",
       "3     Tamale                 RR  2010      4   1    0.0 2010-04-01\n",
       "4     Tamale                 RR  2010      5   1    0.0 2010-05-01\n",
       "...      ...                ...   ...    ...  ..    ...        ...\n",
       "4456    Tema                 RR  2013      5  31    0.0 2013-05-31\n",
       "4458    Tema                 RR  2013      7  31    0.0 2013-07-31\n",
       "4459    Tema                 RR  2013      8  31    0.0 2013-08-31\n",
       "4461    Tema                 RR  2013     10  31    0.0 2013-10-31\n",
       "4463    Tema                 RR  2013     12  31    0.0 2013-12-31\n",
       "\n",
       "[4383 rows x 7 columns]"
      ]
     },
     "execution_count": 148,
     "metadata": {},
     "output_type": "execute_result"
    }
   ],
   "source": [
    "df_RR_flat[\"date\"] = pd.to_datetime(df_RR_flat[[\"Year\", \"Month\", \"Day\"]])\n",
    "df_RR_flat"
   ]
  },
  {
   "cell_type": "markdown",
   "id": "3d962dcf",
   "metadata": {},
   "source": [
    "The last thing we want to do is get rid of the columns we don't need anymore (`Eg El Abbrevation`, `Year`, `Month` and `Day`), make the new `date` column the index and finally split the stations into separate columns so that we can get the data just for the Tamale station by selecting its column."
   ]
  },
  {
   "cell_type": "code",
   "execution_count": 149,
   "id": "4271b801",
   "metadata": {},
   "outputs": [
    {
     "data": {
      "text/html": [
       "<div>\n",
       "<style scoped>\n",
       "    .dataframe tbody tr th:only-of-type {\n",
       "        vertical-align: middle;\n",
       "    }\n",
       "\n",
       "    .dataframe tbody tr th {\n",
       "        vertical-align: top;\n",
       "    }\n",
       "\n",
       "    .dataframe thead th {\n",
       "        text-align: right;\n",
       "    }\n",
       "</style>\n",
       "<table border=\"1\" class=\"dataframe\">\n",
       "  <thead>\n",
       "    <tr style=\"text-align: right;\">\n",
       "      <th></th>\n",
       "      <th>Name</th>\n",
       "      <th>value</th>\n",
       "    </tr>\n",
       "    <tr>\n",
       "      <th>date</th>\n",
       "      <th></th>\n",
       "      <th></th>\n",
       "    </tr>\n",
       "  </thead>\n",
       "  <tbody>\n",
       "    <tr>\n",
       "      <th>2010-01-01</th>\n",
       "      <td>Tamale</td>\n",
       "      <td>0.0</td>\n",
       "    </tr>\n",
       "    <tr>\n",
       "      <th>2010-02-01</th>\n",
       "      <td>Tamale</td>\n",
       "      <td>0.0</td>\n",
       "    </tr>\n",
       "    <tr>\n",
       "      <th>2010-03-01</th>\n",
       "      <td>Tamale</td>\n",
       "      <td>0.0</td>\n",
       "    </tr>\n",
       "    <tr>\n",
       "      <th>2010-04-01</th>\n",
       "      <td>Tamale</td>\n",
       "      <td>0.0</td>\n",
       "    </tr>\n",
       "    <tr>\n",
       "      <th>2010-05-01</th>\n",
       "      <td>Tamale</td>\n",
       "      <td>0.0</td>\n",
       "    </tr>\n",
       "    <tr>\n",
       "      <th>...</th>\n",
       "      <td>...</td>\n",
       "      <td>...</td>\n",
       "    </tr>\n",
       "    <tr>\n",
       "      <th>2013-05-31</th>\n",
       "      <td>Tema</td>\n",
       "      <td>0.0</td>\n",
       "    </tr>\n",
       "    <tr>\n",
       "      <th>2013-07-31</th>\n",
       "      <td>Tema</td>\n",
       "      <td>0.0</td>\n",
       "    </tr>\n",
       "    <tr>\n",
       "      <th>2013-08-31</th>\n",
       "      <td>Tema</td>\n",
       "      <td>0.0</td>\n",
       "    </tr>\n",
       "    <tr>\n",
       "      <th>2013-10-31</th>\n",
       "      <td>Tema</td>\n",
       "      <td>0.0</td>\n",
       "    </tr>\n",
       "    <tr>\n",
       "      <th>2013-12-31</th>\n",
       "      <td>Tema</td>\n",
       "      <td>0.0</td>\n",
       "    </tr>\n",
       "  </tbody>\n",
       "</table>\n",
       "<p>4383 rows × 2 columns</p>\n",
       "</div>"
      ],
      "text/plain": [
       "              Name  value\n",
       "date                     \n",
       "2010-01-01  Tamale    0.0\n",
       "2010-02-01  Tamale    0.0\n",
       "2010-03-01  Tamale    0.0\n",
       "2010-04-01  Tamale    0.0\n",
       "2010-05-01  Tamale    0.0\n",
       "...            ...    ...\n",
       "2013-05-31    Tema    0.0\n",
       "2013-07-31    Tema    0.0\n",
       "2013-08-31    Tema    0.0\n",
       "2013-10-31    Tema    0.0\n",
       "2013-12-31    Tema    0.0\n",
       "\n",
       "[4383 rows x 2 columns]"
      ]
     },
     "execution_count": 149,
     "metadata": {},
     "output_type": "execute_result"
    }
   ],
   "source": [
    "# pick out the columns we want to keep and set the \"date\" column as the index\n",
    "df_RR_flat[[\"Name\", \"value\", \"date\"]].set_index(\"date\")"
   ]
  },
  {
   "cell_type": "markdown",
   "id": "27713532",
   "metadata": {},
   "source": [
    "Turning the dataframe back from this \"long\"-format with one entry-per-row to one with a column for each station, is the opposite of the `.melt` operation we did earlier. To do this kind of operation in pandas we can use the [DataFrame.pivot](https://pandas.pydata.org/pandas-docs/stable/reference/api/pandas.DataFrame.pivot.html#pandas.DataFrame.pivot) function; we simply say we want to pivot on the `Name` column:"
   ]
  },
  {
   "cell_type": "code",
   "execution_count": 150,
   "id": "94a8ea0c",
   "metadata": {},
   "outputs": [
    {
     "data": {
      "text/html": [
       "<div>\n",
       "<style scoped>\n",
       "    .dataframe tbody tr th:only-of-type {\n",
       "        vertical-align: middle;\n",
       "    }\n",
       "\n",
       "    .dataframe tbody tr th {\n",
       "        vertical-align: top;\n",
       "    }\n",
       "\n",
       "    .dataframe thead tr th {\n",
       "        text-align: left;\n",
       "    }\n",
       "\n",
       "    .dataframe thead tr:last-of-type th {\n",
       "        text-align: right;\n",
       "    }\n",
       "</style>\n",
       "<table border=\"1\" class=\"dataframe\">\n",
       "  <thead>\n",
       "    <tr>\n",
       "      <th></th>\n",
       "      <th colspan=\"3\" halign=\"left\">value</th>\n",
       "    </tr>\n",
       "    <tr>\n",
       "      <th>Name</th>\n",
       "      <th>Kumasi</th>\n",
       "      <th>Tamale</th>\n",
       "      <th>Tema</th>\n",
       "    </tr>\n",
       "    <tr>\n",
       "      <th>date</th>\n",
       "      <th></th>\n",
       "      <th></th>\n",
       "      <th></th>\n",
       "    </tr>\n",
       "  </thead>\n",
       "  <tbody>\n",
       "    <tr>\n",
       "      <th>2010-01-01</th>\n",
       "      <td>0.0</td>\n",
       "      <td>0.0</td>\n",
       "      <td>0.0</td>\n",
       "    </tr>\n",
       "    <tr>\n",
       "      <th>2010-01-02</th>\n",
       "      <td>0.0</td>\n",
       "      <td>0.0</td>\n",
       "      <td>0.0</td>\n",
       "    </tr>\n",
       "    <tr>\n",
       "      <th>2010-01-03</th>\n",
       "      <td>0.0</td>\n",
       "      <td>0.0</td>\n",
       "      <td>0.0</td>\n",
       "    </tr>\n",
       "    <tr>\n",
       "      <th>2010-01-04</th>\n",
       "      <td>0.0</td>\n",
       "      <td>0.0</td>\n",
       "      <td>0.0</td>\n",
       "    </tr>\n",
       "    <tr>\n",
       "      <th>2010-01-05</th>\n",
       "      <td>0.0</td>\n",
       "      <td>0.0</td>\n",
       "      <td>0.0</td>\n",
       "    </tr>\n",
       "    <tr>\n",
       "      <th>...</th>\n",
       "      <td>...</td>\n",
       "      <td>...</td>\n",
       "      <td>...</td>\n",
       "    </tr>\n",
       "    <tr>\n",
       "      <th>2013-12-27</th>\n",
       "      <td>0.0</td>\n",
       "      <td>0.0</td>\n",
       "      <td>0.0</td>\n",
       "    </tr>\n",
       "    <tr>\n",
       "      <th>2013-12-28</th>\n",
       "      <td>0.0</td>\n",
       "      <td>0.0</td>\n",
       "      <td>0.0</td>\n",
       "    </tr>\n",
       "    <tr>\n",
       "      <th>2013-12-29</th>\n",
       "      <td>0.0</td>\n",
       "      <td>0.0</td>\n",
       "      <td>0.0</td>\n",
       "    </tr>\n",
       "    <tr>\n",
       "      <th>2013-12-30</th>\n",
       "      <td>0.0</td>\n",
       "      <td>0.0</td>\n",
       "      <td>24.8</td>\n",
       "    </tr>\n",
       "    <tr>\n",
       "      <th>2013-12-31</th>\n",
       "      <td>15.1</td>\n",
       "      <td>0.0</td>\n",
       "      <td>0.0</td>\n",
       "    </tr>\n",
       "  </tbody>\n",
       "</table>\n",
       "<p>1461 rows × 3 columns</p>\n",
       "</div>"
      ],
      "text/plain": [
       "            value             \n",
       "Name       Kumasi Tamale  Tema\n",
       "date                          \n",
       "2010-01-01    0.0    0.0   0.0\n",
       "2010-01-02    0.0    0.0   0.0\n",
       "2010-01-03    0.0    0.0   0.0\n",
       "2010-01-04    0.0    0.0   0.0\n",
       "2010-01-05    0.0    0.0   0.0\n",
       "...           ...    ...   ...\n",
       "2013-12-27    0.0    0.0   0.0\n",
       "2013-12-28    0.0    0.0   0.0\n",
       "2013-12-29    0.0    0.0   0.0\n",
       "2013-12-30    0.0    0.0  24.8\n",
       "2013-12-31   15.1    0.0   0.0\n",
       "\n",
       "[1461 rows x 3 columns]"
      ]
     },
     "execution_count": 150,
     "metadata": {},
     "output_type": "execute_result"
    }
   ],
   "source": [
    "df_RR_flat[[\"Name\", \"value\", \"date\"]].set_index(\"date\").pivot(columns=\"Name\")"
   ]
  },
  {
   "cell_type": "markdown",
   "id": "02d9fa03",
   "metadata": {},
   "source": [
    "You will see that the `value`-label is hovering above the name of the stations. That is because the numbers in the `value` column now have formed an axes in our data. We can simply pick out that axes just like we pick out columns, and we have the final result we wanted:"
   ]
  },
  {
   "cell_type": "code",
   "execution_count": 151,
   "id": "a6b2f340",
   "metadata": {},
   "outputs": [
    {
     "data": {
      "text/html": [
       "<div>\n",
       "<style scoped>\n",
       "    .dataframe tbody tr th:only-of-type {\n",
       "        vertical-align: middle;\n",
       "    }\n",
       "\n",
       "    .dataframe tbody tr th {\n",
       "        vertical-align: top;\n",
       "    }\n",
       "\n",
       "    .dataframe thead th {\n",
       "        text-align: right;\n",
       "    }\n",
       "</style>\n",
       "<table border=\"1\" class=\"dataframe\">\n",
       "  <thead>\n",
       "    <tr style=\"text-align: right;\">\n",
       "      <th>Name</th>\n",
       "      <th>Kumasi</th>\n",
       "      <th>Tamale</th>\n",
       "      <th>Tema</th>\n",
       "    </tr>\n",
       "    <tr>\n",
       "      <th>date</th>\n",
       "      <th></th>\n",
       "      <th></th>\n",
       "      <th></th>\n",
       "    </tr>\n",
       "  </thead>\n",
       "  <tbody>\n",
       "    <tr>\n",
       "      <th>2010-01-01</th>\n",
       "      <td>0.0</td>\n",
       "      <td>0.0</td>\n",
       "      <td>0.0</td>\n",
       "    </tr>\n",
       "    <tr>\n",
       "      <th>2010-01-02</th>\n",
       "      <td>0.0</td>\n",
       "      <td>0.0</td>\n",
       "      <td>0.0</td>\n",
       "    </tr>\n",
       "    <tr>\n",
       "      <th>2010-01-03</th>\n",
       "      <td>0.0</td>\n",
       "      <td>0.0</td>\n",
       "      <td>0.0</td>\n",
       "    </tr>\n",
       "    <tr>\n",
       "      <th>2010-01-04</th>\n",
       "      <td>0.0</td>\n",
       "      <td>0.0</td>\n",
       "      <td>0.0</td>\n",
       "    </tr>\n",
       "    <tr>\n",
       "      <th>2010-01-05</th>\n",
       "      <td>0.0</td>\n",
       "      <td>0.0</td>\n",
       "      <td>0.0</td>\n",
       "    </tr>\n",
       "    <tr>\n",
       "      <th>...</th>\n",
       "      <td>...</td>\n",
       "      <td>...</td>\n",
       "      <td>...</td>\n",
       "    </tr>\n",
       "    <tr>\n",
       "      <th>2013-12-27</th>\n",
       "      <td>0.0</td>\n",
       "      <td>0.0</td>\n",
       "      <td>0.0</td>\n",
       "    </tr>\n",
       "    <tr>\n",
       "      <th>2013-12-28</th>\n",
       "      <td>0.0</td>\n",
       "      <td>0.0</td>\n",
       "      <td>0.0</td>\n",
       "    </tr>\n",
       "    <tr>\n",
       "      <th>2013-12-29</th>\n",
       "      <td>0.0</td>\n",
       "      <td>0.0</td>\n",
       "      <td>0.0</td>\n",
       "    </tr>\n",
       "    <tr>\n",
       "      <th>2013-12-30</th>\n",
       "      <td>0.0</td>\n",
       "      <td>0.0</td>\n",
       "      <td>24.8</td>\n",
       "    </tr>\n",
       "    <tr>\n",
       "      <th>2013-12-31</th>\n",
       "      <td>15.1</td>\n",
       "      <td>0.0</td>\n",
       "      <td>0.0</td>\n",
       "    </tr>\n",
       "  </tbody>\n",
       "</table>\n",
       "<p>1461 rows × 3 columns</p>\n",
       "</div>"
      ],
      "text/plain": [
       "Name        Kumasi  Tamale  Tema\n",
       "date                            \n",
       "2010-01-01     0.0     0.0   0.0\n",
       "2010-01-02     0.0     0.0   0.0\n",
       "2010-01-03     0.0     0.0   0.0\n",
       "2010-01-04     0.0     0.0   0.0\n",
       "2010-01-05     0.0     0.0   0.0\n",
       "...            ...     ...   ...\n",
       "2013-12-27     0.0     0.0   0.0\n",
       "2013-12-28     0.0     0.0   0.0\n",
       "2013-12-29     0.0     0.0   0.0\n",
       "2013-12-30     0.0     0.0  24.8\n",
       "2013-12-31    15.1     0.0   0.0\n",
       "\n",
       "[1461 rows x 3 columns]"
      ]
     },
     "execution_count": 151,
     "metadata": {},
     "output_type": "execute_result"
    }
   ],
   "source": [
    "df_RR_flat[[\"Name\", \"value\", \"date\"]].set_index(\"date\").pivot(columns=\"Name\")[\"value\"]"
   ]
  },
  {
   "cell_type": "markdown",
   "id": "8b698318",
   "metadata": {},
   "source": [
    "Let's wrap all this functionality we just wrote into a single function that we can apply on the data-frame we originally loaded. This will make it really clear (when we come back another day say) what steps we went through, and makes it easy to apply the operations to each sheet (rain amount, minimum temperature and maximum temperature). Because every pandas operation on a `DataFrame` returns a new `DataFrame` we can use what is often called [method-chaining](https://towardsdatascience.com/using-pandas-method-chaining-to-improve-code-readability-d8517c5626ac) to make the code a lot easier to read:"
   ]
  },
  {
   "cell_type": "code",
   "execution_count": 152,
   "id": "ad5822bd",
   "metadata": {},
   "outputs": [
    {
     "data": {
      "text/html": [
       "<div>\n",
       "<style scoped>\n",
       "    .dataframe tbody tr th:only-of-type {\n",
       "        vertical-align: middle;\n",
       "    }\n",
       "\n",
       "    .dataframe tbody tr th {\n",
       "        vertical-align: top;\n",
       "    }\n",
       "\n",
       "    .dataframe thead th {\n",
       "        text-align: right;\n",
       "    }\n",
       "</style>\n",
       "<table border=\"1\" class=\"dataframe\">\n",
       "  <thead>\n",
       "    <tr style=\"text-align: right;\">\n",
       "      <th>Name</th>\n",
       "      <th>Kumasi</th>\n",
       "      <th>Tamale</th>\n",
       "      <th>Tema</th>\n",
       "    </tr>\n",
       "    <tr>\n",
       "      <th>date</th>\n",
       "      <th></th>\n",
       "      <th></th>\n",
       "      <th></th>\n",
       "    </tr>\n",
       "  </thead>\n",
       "  <tbody>\n",
       "    <tr>\n",
       "      <th>2010-01-01</th>\n",
       "      <td>0.0</td>\n",
       "      <td>0.0</td>\n",
       "      <td>0.0</td>\n",
       "    </tr>\n",
       "    <tr>\n",
       "      <th>2010-01-02</th>\n",
       "      <td>0.0</td>\n",
       "      <td>0.0</td>\n",
       "      <td>0.0</td>\n",
       "    </tr>\n",
       "    <tr>\n",
       "      <th>2010-01-03</th>\n",
       "      <td>0.0</td>\n",
       "      <td>0.0</td>\n",
       "      <td>0.0</td>\n",
       "    </tr>\n",
       "    <tr>\n",
       "      <th>2010-01-04</th>\n",
       "      <td>0.0</td>\n",
       "      <td>0.0</td>\n",
       "      <td>0.0</td>\n",
       "    </tr>\n",
       "    <tr>\n",
       "      <th>2010-01-05</th>\n",
       "      <td>0.0</td>\n",
       "      <td>0.0</td>\n",
       "      <td>0.0</td>\n",
       "    </tr>\n",
       "    <tr>\n",
       "      <th>...</th>\n",
       "      <td>...</td>\n",
       "      <td>...</td>\n",
       "      <td>...</td>\n",
       "    </tr>\n",
       "    <tr>\n",
       "      <th>2013-12-27</th>\n",
       "      <td>0.0</td>\n",
       "      <td>0.0</td>\n",
       "      <td>0.0</td>\n",
       "    </tr>\n",
       "    <tr>\n",
       "      <th>2013-12-28</th>\n",
       "      <td>0.0</td>\n",
       "      <td>0.0</td>\n",
       "      <td>0.0</td>\n",
       "    </tr>\n",
       "    <tr>\n",
       "      <th>2013-12-29</th>\n",
       "      <td>0.0</td>\n",
       "      <td>0.0</td>\n",
       "      <td>0.0</td>\n",
       "    </tr>\n",
       "    <tr>\n",
       "      <th>2013-12-30</th>\n",
       "      <td>0.0</td>\n",
       "      <td>0.0</td>\n",
       "      <td>24.8</td>\n",
       "    </tr>\n",
       "    <tr>\n",
       "      <th>2013-12-31</th>\n",
       "      <td>15.1</td>\n",
       "      <td>0.0</td>\n",
       "      <td>0.0</td>\n",
       "    </tr>\n",
       "  </tbody>\n",
       "</table>\n",
       "<p>1461 rows × 3 columns</p>\n",
       "</div>"
      ],
      "text/plain": [
       "Name        Kumasi  Tamale  Tema\n",
       "date                            \n",
       "2010-01-01     0.0     0.0   0.0\n",
       "2010-01-02     0.0     0.0   0.0\n",
       "2010-01-03     0.0     0.0   0.0\n",
       "2010-01-04     0.0     0.0   0.0\n",
       "2010-01-05     0.0     0.0   0.0\n",
       "...            ...     ...   ...\n",
       "2013-12-27     0.0     0.0   0.0\n",
       "2013-12-28     0.0     0.0   0.0\n",
       "2013-12-29     0.0     0.0   0.0\n",
       "2013-12-30     0.0     0.0  24.8\n",
       "2013-12-31    15.1     0.0   0.0\n",
       "\n",
       "[1461 rows x 3 columns]"
      ]
     },
     "execution_count": 152,
     "metadata": {},
     "output_type": "execute_result"
    }
   ],
   "source": [
    "def reshape_from_monthrows_to_daily(df):\n",
    "    \"\"\"\n",
    "    Take a station-data DataFrame (loaded from a Excel spredsheet)\n",
    "    with values per day in a given months a columns and month, year and station by row\n",
    "    and reshape into data per date with stations given as columns\n",
    "    \"\"\"\n",
    "    fields_to_rename = {f\"Val{n:02d}\": n for n in range(1, 32)}\n",
    "\n",
    "    df_flat = (\n",
    "        df.rename(columns=fields_to_rename, inplace=False)\n",
    "        .melt(\n",
    "            id_vars=[\n",
    "                \"Name\",\n",
    "                \"Eg El Abbreviation\",\n",
    "                \"Year\",\n",
    "                \"Month\",\n",
    "            ],\n",
    "            var_name=\"Day\",\n",
    "        )\n",
    "        .dropna()\n",
    "    )\n",
    "\n",
    "    # add the date column, we've added `errors=\"coerse\"` here because the max temperature data appears\n",
    "    # to include an invalid dates, for these rows the \"date\" will be set as NaT (nan-time)\n",
    "    df_flat[\"date\"] = pd.to_datetime(df_flat[[\"Year\", \"Month\", \"Day\"]], errors=\"coerce\")\n",
    "\n",
    "    # drop all NaT rows, the `~` means not, i.e. keep only values where the date is not NaT\n",
    "    df_flat = df_flat[~pd.isnull(df_flat[\"date\"])]\n",
    "\n",
    "    return (\n",
    "        df_flat[[\"Name\", \"value\", \"date\"]]\n",
    "        .set_index(\"date\")\n",
    "        .pivot(columns=\"Name\")[\"value\"]\n",
    "    )\n",
    "\n",
    "\n",
    "reshape_from_monthrows_to_daily(df_RR)"
   ]
  },
  {
   "cell_type": "code",
   "execution_count": 153,
   "id": "232479c7",
   "metadata": {},
   "outputs": [
    {
     "data": {
      "text/html": [
       "<div>\n",
       "<style scoped>\n",
       "    .dataframe tbody tr th:only-of-type {\n",
       "        vertical-align: middle;\n",
       "    }\n",
       "\n",
       "    .dataframe tbody tr th {\n",
       "        vertical-align: top;\n",
       "    }\n",
       "\n",
       "    .dataframe thead th {\n",
       "        text-align: right;\n",
       "    }\n",
       "</style>\n",
       "<table border=\"1\" class=\"dataframe\">\n",
       "  <thead>\n",
       "    <tr style=\"text-align: right;\">\n",
       "      <th>Name</th>\n",
       "      <th>Kumasi</th>\n",
       "      <th>Tamale</th>\n",
       "      <th>Tema</th>\n",
       "    </tr>\n",
       "    <tr>\n",
       "      <th>date</th>\n",
       "      <th></th>\n",
       "      <th></th>\n",
       "      <th></th>\n",
       "    </tr>\n",
       "  </thead>\n",
       "  <tbody>\n",
       "    <tr>\n",
       "      <th>2010-01-01</th>\n",
       "      <td>22.7</td>\n",
       "      <td>20.500000</td>\n",
       "      <td>26.1</td>\n",
       "    </tr>\n",
       "    <tr>\n",
       "      <th>2010-01-02</th>\n",
       "      <td>22.5</td>\n",
       "      <td>18.300000</td>\n",
       "      <td>26.0</td>\n",
       "    </tr>\n",
       "    <tr>\n",
       "      <th>2010-01-03</th>\n",
       "      <td>23.2</td>\n",
       "      <td>16.700000</td>\n",
       "      <td>25.9</td>\n",
       "    </tr>\n",
       "    <tr>\n",
       "      <th>2010-01-04</th>\n",
       "      <td>23.4</td>\n",
       "      <td>16.000000</td>\n",
       "      <td>27.0</td>\n",
       "    </tr>\n",
       "    <tr>\n",
       "      <th>2010-01-05</th>\n",
       "      <td>22.5</td>\n",
       "      <td>14.200000</td>\n",
       "      <td>26.5</td>\n",
       "    </tr>\n",
       "    <tr>\n",
       "      <th>...</th>\n",
       "      <td>...</td>\n",
       "      <td>...</td>\n",
       "      <td>...</td>\n",
       "    </tr>\n",
       "    <tr>\n",
       "      <th>2013-12-27</th>\n",
       "      <td>22.2</td>\n",
       "      <td>17.400000</td>\n",
       "      <td>25.2</td>\n",
       "    </tr>\n",
       "    <tr>\n",
       "      <th>2013-12-28</th>\n",
       "      <td>22.5</td>\n",
       "      <td>16.733333</td>\n",
       "      <td>26.2</td>\n",
       "    </tr>\n",
       "    <tr>\n",
       "      <th>2013-12-29</th>\n",
       "      <td>24.0</td>\n",
       "      <td>16.466667</td>\n",
       "      <td>26.5</td>\n",
       "    </tr>\n",
       "    <tr>\n",
       "      <th>2013-12-30</th>\n",
       "      <td>23.3</td>\n",
       "      <td>16.766667</td>\n",
       "      <td>25.4</td>\n",
       "    </tr>\n",
       "    <tr>\n",
       "      <th>2013-12-31</th>\n",
       "      <td>22.4</td>\n",
       "      <td>16.333333</td>\n",
       "      <td>23.0</td>\n",
       "    </tr>\n",
       "  </tbody>\n",
       "</table>\n",
       "<p>1461 rows × 3 columns</p>\n",
       "</div>"
      ],
      "text/plain": [
       "Name        Kumasi     Tamale  Tema\n",
       "date                               \n",
       "2010-01-01    22.7  20.500000  26.1\n",
       "2010-01-02    22.5  18.300000  26.0\n",
       "2010-01-03    23.2  16.700000  25.9\n",
       "2010-01-04    23.4  16.000000  27.0\n",
       "2010-01-05    22.5  14.200000  26.5\n",
       "...            ...        ...   ...\n",
       "2013-12-27    22.2  17.400000  25.2\n",
       "2013-12-28    22.5  16.733333  26.2\n",
       "2013-12-29    24.0  16.466667  26.5\n",
       "2013-12-30    23.3  16.766667  25.4\n",
       "2013-12-31    22.4  16.333333  23.0\n",
       "\n",
       "[1461 rows x 3 columns]"
      ]
     },
     "execution_count": 153,
     "metadata": {},
     "output_type": "execute_result"
    }
   ],
   "source": [
    "# this can also be applied to the temperature data\n",
    "reshape_from_monthrows_to_daily(df_TN)"
   ]
  },
  {
   "cell_type": "code",
   "execution_count": 154,
   "id": "331935a8",
   "metadata": {},
   "outputs": [
    {
     "data": {
      "text/html": [
       "<div>\n",
       "<style scoped>\n",
       "    .dataframe tbody tr th:only-of-type {\n",
       "        vertical-align: middle;\n",
       "    }\n",
       "\n",
       "    .dataframe tbody tr th {\n",
       "        vertical-align: top;\n",
       "    }\n",
       "\n",
       "    .dataframe thead th {\n",
       "        text-align: right;\n",
       "    }\n",
       "</style>\n",
       "<table border=\"1\" class=\"dataframe\">\n",
       "  <thead>\n",
       "    <tr style=\"text-align: right;\">\n",
       "      <th></th>\n",
       "      <th>Name</th>\n",
       "      <th>Eg El Abbreviation</th>\n",
       "      <th>Year</th>\n",
       "      <th>Month</th>\n",
       "      <th>Val01</th>\n",
       "      <th>Val02</th>\n",
       "      <th>Val03</th>\n",
       "      <th>Val04</th>\n",
       "      <th>Val05</th>\n",
       "      <th>Val06</th>\n",
       "      <th>...</th>\n",
       "      <th>Val22</th>\n",
       "      <th>Val23</th>\n",
       "      <th>Val24</th>\n",
       "      <th>Val25</th>\n",
       "      <th>Val26</th>\n",
       "      <th>Val27</th>\n",
       "      <th>Val28</th>\n",
       "      <th>Val29</th>\n",
       "      <th>Val30</th>\n",
       "      <th>Val31</th>\n",
       "    </tr>\n",
       "  </thead>\n",
       "  <tbody>\n",
       "    <tr>\n",
       "      <th>0</th>\n",
       "      <td>Tamale</td>\n",
       "      <td>Tx</td>\n",
       "      <td>2010</td>\n",
       "      <td>1</td>\n",
       "      <td>36.0</td>\n",
       "      <td>35.8</td>\n",
       "      <td>36.9</td>\n",
       "      <td>36.6</td>\n",
       "      <td>37.1</td>\n",
       "      <td>37.5</td>\n",
       "      <td>...</td>\n",
       "      <td>37.4</td>\n",
       "      <td>37.6</td>\n",
       "      <td>37.7</td>\n",
       "      <td>38.8</td>\n",
       "      <td>38.7</td>\n",
       "      <td>39.2</td>\n",
       "      <td>38.5</td>\n",
       "      <td>39.5</td>\n",
       "      <td>40.5</td>\n",
       "      <td>40.5</td>\n",
       "    </tr>\n",
       "    <tr>\n",
       "      <th>1</th>\n",
       "      <td>Tamale</td>\n",
       "      <td>Tx</td>\n",
       "      <td>2010</td>\n",
       "      <td>2</td>\n",
       "      <td>38.4</td>\n",
       "      <td>39.8</td>\n",
       "      <td>39.6</td>\n",
       "      <td>39.0</td>\n",
       "      <td>38.4</td>\n",
       "      <td>38.0</td>\n",
       "      <td>...</td>\n",
       "      <td>38.7</td>\n",
       "      <td>40.1</td>\n",
       "      <td>40.6</td>\n",
       "      <td>40.2</td>\n",
       "      <td>39.0</td>\n",
       "      <td>39.7</td>\n",
       "      <td>40.5</td>\n",
       "      <td>NaN</td>\n",
       "      <td>NaN</td>\n",
       "      <td>NaN</td>\n",
       "    </tr>\n",
       "    <tr>\n",
       "      <th>2</th>\n",
       "      <td>Tamale</td>\n",
       "      <td>Tx</td>\n",
       "      <td>2010</td>\n",
       "      <td>3</td>\n",
       "      <td>39.2</td>\n",
       "      <td>39.5</td>\n",
       "      <td>40.6</td>\n",
       "      <td>40.2</td>\n",
       "      <td>39.6</td>\n",
       "      <td>39.2</td>\n",
       "      <td>...</td>\n",
       "      <td>36.4</td>\n",
       "      <td>37.5</td>\n",
       "      <td>37.7</td>\n",
       "      <td>38.0</td>\n",
       "      <td>40.0</td>\n",
       "      <td>40.5</td>\n",
       "      <td>39.5</td>\n",
       "      <td>40.0</td>\n",
       "      <td>39.6</td>\n",
       "      <td>39.5</td>\n",
       "    </tr>\n",
       "    <tr>\n",
       "      <th>3</th>\n",
       "      <td>Tamale</td>\n",
       "      <td>Tx</td>\n",
       "      <td>2010</td>\n",
       "      <td>4</td>\n",
       "      <td>40.6</td>\n",
       "      <td>40.0</td>\n",
       "      <td>39.5</td>\n",
       "      <td>39.5</td>\n",
       "      <td>39.6</td>\n",
       "      <td>34.5</td>\n",
       "      <td>...</td>\n",
       "      <td>39.4</td>\n",
       "      <td>33.5</td>\n",
       "      <td>34.5</td>\n",
       "      <td>34.5</td>\n",
       "      <td>34.4</td>\n",
       "      <td>28.8</td>\n",
       "      <td>33.7</td>\n",
       "      <td>35.5</td>\n",
       "      <td>34.0</td>\n",
       "      <td>NaN</td>\n",
       "    </tr>\n",
       "    <tr>\n",
       "      <th>4</th>\n",
       "      <td>Tamale</td>\n",
       "      <td>Tx</td>\n",
       "      <td>2010</td>\n",
       "      <td>5</td>\n",
       "      <td>35.4</td>\n",
       "      <td>34.1</td>\n",
       "      <td>35.0</td>\n",
       "      <td>35.1</td>\n",
       "      <td>34.8</td>\n",
       "      <td>33.8</td>\n",
       "      <td>...</td>\n",
       "      <td>35.6</td>\n",
       "      <td>36.6</td>\n",
       "      <td>34.2</td>\n",
       "      <td>37.0</td>\n",
       "      <td>34.5</td>\n",
       "      <td>36.6</td>\n",
       "      <td>37.0</td>\n",
       "      <td>35.5</td>\n",
       "      <td>33.8</td>\n",
       "      <td>36.0</td>\n",
       "    </tr>\n",
       "    <tr>\n",
       "      <th>...</th>\n",
       "      <td>...</td>\n",
       "      <td>...</td>\n",
       "      <td>...</td>\n",
       "      <td>...</td>\n",
       "      <td>...</td>\n",
       "      <td>...</td>\n",
       "      <td>...</td>\n",
       "      <td>...</td>\n",
       "      <td>...</td>\n",
       "      <td>...</td>\n",
       "      <td>...</td>\n",
       "      <td>...</td>\n",
       "      <td>...</td>\n",
       "      <td>...</td>\n",
       "      <td>...</td>\n",
       "      <td>...</td>\n",
       "      <td>...</td>\n",
       "      <td>...</td>\n",
       "      <td>...</td>\n",
       "      <td>...</td>\n",
       "      <td>...</td>\n",
       "    </tr>\n",
       "    <tr>\n",
       "      <th>139</th>\n",
       "      <td>Tema</td>\n",
       "      <td>Tx</td>\n",
       "      <td>2013</td>\n",
       "      <td>8</td>\n",
       "      <td>27.0</td>\n",
       "      <td>26.6</td>\n",
       "      <td>26.5</td>\n",
       "      <td>27.8</td>\n",
       "      <td>28.5</td>\n",
       "      <td>27.0</td>\n",
       "      <td>...</td>\n",
       "      <td>27.6</td>\n",
       "      <td>28.4</td>\n",
       "      <td>27.8</td>\n",
       "      <td>28.0</td>\n",
       "      <td>28.1</td>\n",
       "      <td>28.4</td>\n",
       "      <td>28.7</td>\n",
       "      <td>28.8</td>\n",
       "      <td>28.1</td>\n",
       "      <td>27.7</td>\n",
       "    </tr>\n",
       "    <tr>\n",
       "      <th>140</th>\n",
       "      <td>Tema</td>\n",
       "      <td>Tx</td>\n",
       "      <td>2013</td>\n",
       "      <td>9</td>\n",
       "      <td>28.4</td>\n",
       "      <td>27.8</td>\n",
       "      <td>28.1</td>\n",
       "      <td>29.0</td>\n",
       "      <td>29.0</td>\n",
       "      <td>27.5</td>\n",
       "      <td>...</td>\n",
       "      <td>29.5</td>\n",
       "      <td>28.1</td>\n",
       "      <td>26.6</td>\n",
       "      <td>28.0</td>\n",
       "      <td>28.2</td>\n",
       "      <td>28.2</td>\n",
       "      <td>28.2</td>\n",
       "      <td>28.6</td>\n",
       "      <td>29.2</td>\n",
       "      <td>NaN</td>\n",
       "    </tr>\n",
       "    <tr>\n",
       "      <th>141</th>\n",
       "      <td>Tema</td>\n",
       "      <td>Tx</td>\n",
       "      <td>2013</td>\n",
       "      <td>10</td>\n",
       "      <td>30.0</td>\n",
       "      <td>29.0</td>\n",
       "      <td>29.9</td>\n",
       "      <td>32.0</td>\n",
       "      <td>30.0</td>\n",
       "      <td>29.6</td>\n",
       "      <td>...</td>\n",
       "      <td>30.2</td>\n",
       "      <td>30.8</td>\n",
       "      <td>31.2</td>\n",
       "      <td>31.0</td>\n",
       "      <td>31.0</td>\n",
       "      <td>30.6</td>\n",
       "      <td>31.5</td>\n",
       "      <td>31.0</td>\n",
       "      <td>30.8</td>\n",
       "      <td>31.5</td>\n",
       "    </tr>\n",
       "    <tr>\n",
       "      <th>142</th>\n",
       "      <td>Tema</td>\n",
       "      <td>Tx</td>\n",
       "      <td>2013</td>\n",
       "      <td>11</td>\n",
       "      <td>31.7</td>\n",
       "      <td>31.2</td>\n",
       "      <td>31.0</td>\n",
       "      <td>31.3</td>\n",
       "      <td>31.0</td>\n",
       "      <td>31.0</td>\n",
       "      <td>...</td>\n",
       "      <td>31.1</td>\n",
       "      <td>31.5</td>\n",
       "      <td>29.1</td>\n",
       "      <td>30.5</td>\n",
       "      <td>31.1</td>\n",
       "      <td>31.2</td>\n",
       "      <td>31.5</td>\n",
       "      <td>32.0</td>\n",
       "      <td>32.0</td>\n",
       "      <td>NaN</td>\n",
       "    </tr>\n",
       "    <tr>\n",
       "      <th>143</th>\n",
       "      <td>Tema</td>\n",
       "      <td>Tx</td>\n",
       "      <td>2013</td>\n",
       "      <td>12</td>\n",
       "      <td>30.6</td>\n",
       "      <td>31.0</td>\n",
       "      <td>31.5</td>\n",
       "      <td>31.2</td>\n",
       "      <td>30.5</td>\n",
       "      <td>31.5</td>\n",
       "      <td>...</td>\n",
       "      <td>31.0</td>\n",
       "      <td>31.5</td>\n",
       "      <td>32.3</td>\n",
       "      <td>30.6</td>\n",
       "      <td>31.0</td>\n",
       "      <td>32.0</td>\n",
       "      <td>31.7</td>\n",
       "      <td>31.8</td>\n",
       "      <td>32.5</td>\n",
       "      <td>31.0</td>\n",
       "    </tr>\n",
       "  </tbody>\n",
       "</table>\n",
       "<p>144 rows × 35 columns</p>\n",
       "</div>"
      ],
      "text/plain": [
       "       Name Eg El Abbreviation  Year  Month  Val01  Val02  Val03  Val04  \\\n",
       "0    Tamale                 Tx  2010      1   36.0   35.8   36.9   36.6   \n",
       "1    Tamale                 Tx  2010      2   38.4   39.8   39.6   39.0   \n",
       "2    Tamale                 Tx  2010      3   39.2   39.5   40.6   40.2   \n",
       "3    Tamale                 Tx  2010      4   40.6   40.0   39.5   39.5   \n",
       "4    Tamale                 Tx  2010      5   35.4   34.1   35.0   35.1   \n",
       "..      ...                ...   ...    ...    ...    ...    ...    ...   \n",
       "139    Tema                 Tx  2013      8   27.0   26.6   26.5   27.8   \n",
       "140    Tema                 Tx  2013      9   28.4   27.8   28.1   29.0   \n",
       "141    Tema                 Tx  2013     10   30.0   29.0   29.9   32.0   \n",
       "142    Tema                 Tx  2013     11   31.7   31.2   31.0   31.3   \n",
       "143    Tema                 Tx  2013     12   30.6   31.0   31.5   31.2   \n",
       "\n",
       "     Val05  Val06  ...  Val22  Val23  Val24  Val25  Val26  Val27  Val28  \\\n",
       "0     37.1   37.5  ...   37.4   37.6   37.7   38.8   38.7   39.2   38.5   \n",
       "1     38.4   38.0  ...   38.7   40.1   40.6   40.2   39.0   39.7   40.5   \n",
       "2     39.6   39.2  ...   36.4   37.5   37.7   38.0   40.0   40.5   39.5   \n",
       "3     39.6   34.5  ...   39.4   33.5   34.5   34.5   34.4   28.8   33.7   \n",
       "4     34.8   33.8  ...   35.6   36.6   34.2   37.0   34.5   36.6   37.0   \n",
       "..     ...    ...  ...    ...    ...    ...    ...    ...    ...    ...   \n",
       "139   28.5   27.0  ...   27.6   28.4   27.8   28.0   28.1   28.4   28.7   \n",
       "140   29.0   27.5  ...   29.5   28.1   26.6   28.0   28.2   28.2   28.2   \n",
       "141   30.0   29.6  ...   30.2   30.8   31.2   31.0   31.0   30.6   31.5   \n",
       "142   31.0   31.0  ...   31.1   31.5   29.1   30.5   31.1   31.2   31.5   \n",
       "143   30.5   31.5  ...   31.0   31.5   32.3   30.6   31.0   32.0   31.7   \n",
       "\n",
       "     Val29  Val30  Val31  \n",
       "0     39.5   40.5   40.5  \n",
       "1      NaN    NaN    NaN  \n",
       "2     40.0   39.6   39.5  \n",
       "3     35.5   34.0    NaN  \n",
       "4     35.5   33.8   36.0  \n",
       "..     ...    ...    ...  \n",
       "139   28.8   28.1   27.7  \n",
       "140   28.6   29.2    NaN  \n",
       "141   31.0   30.8   31.5  \n",
       "142   32.0   32.0    NaN  \n",
       "143   31.8   32.5   31.0  \n",
       "\n",
       "[144 rows x 35 columns]"
      ]
     },
     "execution_count": 154,
     "metadata": {},
     "output_type": "execute_result"
    }
   ],
   "source": [
    "df_TX"
   ]
  },
  {
   "cell_type": "code",
   "execution_count": 155,
   "id": "90999336",
   "metadata": {},
   "outputs": [],
   "source": [
    "df_RR_by_station = reshape_from_monthrows_to_daily(df_RR)\n",
    "df_TN_by_station = reshape_from_monthrows_to_daily(df_TN)\n",
    "df_TX_by_station = reshape_from_monthrows_to_daily(df_TX)"
   ]
  },
  {
   "cell_type": "markdown",
   "id": "03ccb6f2",
   "metadata": {
    "id": "LlfB0Hm1s4QA"
   },
   "source": [
    "The process we've just gone through is often called \"data wrangling\":\n",
    "\n",
    "**What is Data Wrangling?**\n",
    "\n",
    "Data wrangling is the process of cleaning, structuring and enriching raw data into a desired format for better decision making in less time. Data wrangling is increasingly ubiquitous. In simpler terms, data wrangling (sometimes referred to as data munging) entails transforming and mapping data from one \"raw\" data form into another format with the intent of making it more appropriate and valuable for a variety of downstream purposes such as analytics. \n",
    "Data has become more diverse and unstructured, demanding increased time spent culling, cleaning, and organizing data ahead of broader analysis. <br>\n",
    "\n",
    "**Reference:** <br>\n",
    "> https://www.trifacta.com/data-wrangling/ <br>\n",
    "> https://en.wikipedia.org/wiki/Data_wrangling <br><br><br>\n",
    "\n",
    "\n",
    "\n",
    "With this premise established, we will wrangle the rainfall/temperature data, and this will be addressed as such.\n",
    "\n",
    "> Vertically stacking the data using a DateTime index <br>\n",
    "> Basic manipulation and dealing with missing values <br>\n",
    "> Resampling to a different frequency\n",
    "---------------------------------------------------------------------------------------------------------------------------------"
   ]
  },
  {
   "cell_type": "markdown",
   "id": "16a2db58",
   "metadata": {
    "id": "jk1dB70NDENm"
   },
   "source": [
    "## 14. Visualization with `seaborn`\n",
    "\n",
    "Seaborn is a Python data visualization library based on matplotlib **(https://seaborn.pydata.org/)**. It provides a high-level interface for drawing attractive and informative statistical graphics. `seaborn` can be installed with `pip` and `conda` as other python packages."
   ]
  },
  {
   "cell_type": "markdown",
   "id": "26ea24fd",
   "metadata": {
    "id": "kjCAFrZCEFyr"
   },
   "source": [
    "### KDE Plot\n",
    "\n",
    "Let's start off with data distribution plots using Seaborn's Kernel Density Estimates (KDE), which is a method for estimating the underlying distribution that data is sampled from by smoothing the sampled using a Gaussian kernel. KDE represents the data using a continuous probability density curve in one or more dimensions. There are other ways of estimating the distribution. <br>\n",
    "\n",
    "Seaborn allows us to visualize the distribution of these observations, analagous to a histogram. "
   ]
  },
  {
   "cell_type": "code",
   "execution_count": 156,
   "id": "114345aa",
   "metadata": {
    "id": "J_N2Zuqhs4QK",
    "outputId": "97043760-4c6b-490b-d9ac-c2756716e2ab"
   },
   "outputs": [
    {
     "data": {
      "text/plain": [
       "Text(0.5, 0, 'Rainfall (mm)')"
      ]
     },
     "execution_count": 156,
     "metadata": {},
     "output_type": "execute_result"
    },
    {
     "data": {
      "image/png": "[encoded data removed]",
      "text/plain": [
       "<Figure size 432x288 with 1 Axes>"
      ]
     },
     "metadata": {
      "needs_background": "light"
     },
     "output_type": "display_data"
    }
   ],
   "source": [
    "#### Sample Seaborn Visualizations\n",
    "sb.kdeplot(\n",
    "    df_RR_by_station[\"Kumasi\"].astype(float), legend=True, shade=True\n",
    ")  # Distribution plot\n",
    "sb.kdeplot(\n",
    "    df_RR_by_station[\"Tema\"].astype(float), legend=True, shade=True\n",
    ")  # Distribution plot\n",
    "\n",
    "plt.legend(title=\"Stations\", loc=\"upper right\", labels=[\"Kumasi\", \"Tema\"])\n",
    "plt.xlabel(\"Rainfall (mm)\")"
   ]
  },
  {
   "cell_type": "markdown",
   "id": "033d629b",
   "metadata": {
    "id": "fZSGTktIEmSv"
   },
   "source": [
    "### Scatter Plot\n",
    "\n",
    "Scatter plots represent values for two different numeric variables. Scatter plots are used to observe relationships between the two variables.\n",
    "\n",
    "> Let's attempt to see if there's a synergy in the rainfall events in any two locations (eg. Kumasi and Tema)"
   ]
  },
  {
   "cell_type": "code",
   "execution_count": 157,
   "id": "dfcb5a63",
   "metadata": {
    "id": "zGjmOAu1s4QK",
    "outputId": "4b7676cf-a272-4fdd-80d3-b4ed86bf7cb6"
   },
   "outputs": [
    {
     "data": {
      "text/plain": [
       "Text(0.5, 1.0, 'Rainfall in Kumasi against Tema')"
      ]
     },
     "execution_count": 157,
     "metadata": {},
     "output_type": "execute_result"
    },
    {
     "data": {
      "image/png": "[encoded data removed]",
      "text/plain": [
       "<Figure size 432x288 with 1 Axes>"
      ]
     },
     "metadata": {
      "needs_background": "light"
     },
     "output_type": "display_data"
    }
   ],
   "source": [
    "sb.scatterplot(y=\"Kumasi\", x=\"Tema\", data=df_RR_by_station)\n",
    "plt.title(\"Rainfall in Kumasi against Tema\")"
   ]
  },
  {
   "cell_type": "markdown",
   "id": "a41e3171",
   "metadata": {
    "id": "_mBgyWk4Evh4"
   },
   "source": [
    "### Joint Plot\n",
    "\n",
    "Seaborn's jointplot draws a plot of two variables with bivariate and univariate graphs. The bivariate plot (bottom left) produces a clustered diagram, which is useful in cluster analysis.\n",
    "\n",
    "> Histograms rather produced an error when this command was originally issued. This may not be same in your case. However, as control, the dataset was formatted to floats by using the astype() method and passing the function float as an argument. "
   ]
  },
  {
   "cell_type": "code",
   "execution_count": 158,
   "id": "29e82388",
   "metadata": {
    "id": "XVvB4Di645BU"
   },
   "outputs": [
    {
     "data": {
      "text/plain": [
       "(0.0, 40.0)"
      ]
     },
     "execution_count": 158,
     "metadata": {},
     "output_type": "execute_result"
    },
    {
     "data": {
      "image/png": "[encoded data removed]",
      "text/plain": [
       "<Figure size 432x432 with 3 Axes>"
      ]
     },
     "metadata": {
      "needs_background": "light"
     },
     "output_type": "display_data"
    }
   ],
   "source": [
    "sb.jointplot(x=\"Tema\", y=\"Kumasi\", data=df_RR_by_station, kind=\"hex\")\n",
    "plt.suptitle(\"Rainfall in Kumasi vs Tema \\n\\n\\n\")\n",
    "plt.xlim(0, 40)\n",
    "plt.ylim(0, 40)"
   ]
  },
  {
   "cell_type": "markdown",
   "id": "1161e330",
   "metadata": {
    "id": "RYRB_0fH4-Jh"
   },
   "source": [
    "## 15. Grouping Data with Groupby() function\n",
    "\n",
    "Let's replicate the jointplot using monthly rainfall totals. Here, we will utilise the pandas groupby() function, in tandem with the Pandas Grouper class.\n",
    "\n",
    "The Pandas groupby() method allows for creating categories or groupings, for groupwise approximations, function applications, etc.\n",
    "\n",
    "```python\n",
    "df.groupby(pd.Grouper(freq='Y')).aggregate(np.sum).plot()  # Annual Total\n",
    "df.groupby(pd.Grouper(freq='M')).aggregate(np.sum).plot()  # Monthly Total\n",
    "```\n",
    "\n",
    "Alternatively, we can use the resample method (shown below): <br>\n",
    "\n",
    "```python\n",
    "df.resample('M').sum()   # Monthly Total\n",
    "df.resample('Y').sum()   # Annual Total\n",
    "```\n",
    "\n",
    "You notice that we utilise the `pd.Grouper` class. A `Grouper` allows you to specify a groupby instruction for an object. This specification will select a column via the key parameter, or if the level and/or axis parameters are given, a level of the index of the target object. If axis and/or level are passed as keywords to both Grouper and groupby, the values passed to Grouper take precedence. In the example above, we pass the frequency as a datetime format (eg. \"Y\" for year, \"M\" for month, \"MS\" for start of month, etc.). This allows for grouping the dataframe into either yearly (first example) or monthly (second example) categories.\n",
    "\n",
    "Thereafter, we employ the aggregate function, while passing as argument, the numpy summation function (`np.sum`). This produces the summation of each monthly or yearly grouping.\n",
    "\n",
    "Now, let's replicate the jointplot using monthly rainfall totals."
   ]
  },
  {
   "cell_type": "code",
   "execution_count": 159,
   "id": "c558b20a",
   "metadata": {
    "id": "sHUs_Usgs4QL",
    "outputId": "f0ef389c-a1de-49f2-ac40-df1b4c0d3e1b"
   },
   "outputs": [
    {
     "data": {
      "text/plain": [
       "Text(0.5, 0.98, 'Rainfall in Kumasi against Tema \\n\\n\\n')"
      ]
     },
     "execution_count": 159,
     "metadata": {},
     "output_type": "execute_result"
    },
    {
     "data": {
      "image/png": "[encoded data removed]",
      "text/plain": [
       "<Figure size 432x432 with 3 Axes>"
      ]
     },
     "metadata": {
      "needs_background": "light"
     },
     "output_type": "display_data"
    }
   ],
   "source": [
    "sb.jointplot(\n",
    "    x=\"Tema\",\n",
    "    y=\"Kumasi\",\n",
    "    data=df_RR_by_station.groupby(pd.Grouper(freq=\"M\")).sum(),\n",
    "    kind=\"hex\",\n",
    ")\n",
    "plt.suptitle(\"Rainfall in Kumasi against Tema \\n\\n\\n\")"
   ]
  },
  {
   "cell_type": "markdown",
   "id": "4abeee3c",
   "metadata": {
    "id": "8u0r2VriE5FL"
   },
   "source": [
    "Pair Plot\n",
    "----------------------------\n",
    "A simple way of identifying relations between each numerical series of a dataframe."
   ]
  },
  {
   "cell_type": "code",
   "execution_count": 160,
   "id": "a13556f9",
   "metadata": {
    "id": "N2_2KZ_-s4QL",
    "outputId": "e9a566f4-c79f-479e-b7b1-95d85282fbb0"
   },
   "outputs": [
    {
     "data": {
      "text/plain": [
       "<seaborn.axisgrid.PairGrid at 0x231cbfbad30>"
      ]
     },
     "execution_count": 160,
     "metadata": {},
     "output_type": "execute_result"
    },
    {
     "data": {
      "image/png": "[encoded data removed]",
      "text/plain": [
       "<Figure size 540x540 with 12 Axes>"
      ]
     },
     "metadata": {
      "needs_background": "light"
     },
     "output_type": "display_data"
    }
   ],
   "source": [
    "sb.pairplot(df_RR_by_station.groupby(pd.Grouper(freq=\"M\")).sum(), diag_kind=\"hist\")"
   ]
  },
  {
   "cell_type": "markdown",
   "id": "972ef79b",
   "metadata": {
    "id": "OuYgsh4wFGON"
   },
   "source": [
    "## 16. Working with timeseries data\n",
    "\n",
    "By providing `subplots=True` to `DataFrame.plot(...)` each column will be put into its own subplot. The call will return the axes that the data was plotted into and we can then iterate over these to set the attributes of the plot that we would like:"
   ]
  },
  {
   "cell_type": "code",
   "execution_count": 161,
   "id": "3cc54481",
   "metadata": {
    "id": "YFJCayX1s4QM",
    "outputId": "88ed3a29-84b1-4de0-9779-fd2100f6b123"
   },
   "outputs": [
    {
     "data": {
      "image/png": "[encoded data removed]",
      "text/plain": [
       "<Figure size 864x576 with 3 Axes>"
      ]
     },
     "metadata": {
      "needs_background": "light"
     },
     "output_type": "display_data"
    }
   ],
   "source": [
    "axes = df_RR_by_station.plot(linestyle=\"-\", figsize=(12, 8), subplots=True)\n",
    "for ax in axes:\n",
    "    ax.set_ylabel(\"Rainfall (mm)\")\n",
    "    ax.set_ylim(0, 150)"
   ]
  },
  {
   "cell_type": "code",
   "execution_count": 162,
   "id": "e64cd05d",
   "metadata": {
    "id": "gC5aU2nes4QO",
    "outputId": "fa14d017-5ddf-41b4-efe8-17f9d8f35610"
   },
   "outputs": [
    {
     "data": {
      "image/png": "[encoded data removed]",
      "text/plain": [
       "<Figure size 864x576 with 3 Axes>"
      ]
     },
     "metadata": {
      "needs_background": "light"
     },
     "output_type": "display_data"
    }
   ],
   "source": [
    "# We can repeat this for the daily minimum temperature data.\n",
    "axes = df_TN_by_station.plot(linestyle=\"-\", figsize=(12, 8), subplots=True)\n",
    "for ax in axes:\n",
    "    ax.set_ylabel(r\"Temp. ($^o$ C)\")"
   ]
  },
  {
   "cell_type": "markdown",
   "id": "0b8e8f36",
   "metadata": {
    "id": "WKNDmwEkFShq"
   },
   "source": [
    "### grouped time-series\n",
    "\n",
    "We can also use the group-by operations to get resampled timeseries. \n",
    "\n",
    "```python\n",
    "df.groupby(pd.Grouper(freq='Y')).aggregate(np.sum).plot()  # Annual Total\n",
    "df.groupby(pd.Grouper(freq='M')).aggregate(np.sum).plot()  # Monthly Total\n",
    "```"
   ]
  },
  {
   "cell_type": "code",
   "execution_count": 163,
   "id": "d12b76ca",
   "metadata": {
    "id": "o7qIorZns4QM",
    "outputId": "5bdff13b-ad87-4929-91f1-11cd4ff3cd70"
   },
   "outputs": [
    {
     "data": {
      "text/plain": [
       "<AxesSubplot:xlabel='date'>"
      ]
     },
     "execution_count": 163,
     "metadata": {},
     "output_type": "execute_result"
    },
    {
     "data": {
      "image/png": "[encoded data removed]",
      "text/plain": [
       "<Figure size 432x288 with 1 Axes>"
      ]
     },
     "metadata": {
      "needs_background": "light"
     },
     "output_type": "display_data"
    },
    {
     "data": {
      "image/png": "[encoded data removed]",
      "text/plain": [
       "<Figure size 432x288 with 1 Axes>"
      ]
     },
     "metadata": {
      "needs_background": "light"
     },
     "output_type": "display_data"
    }
   ],
   "source": [
    "#### Moving Averages\n",
    "df_Month_Data = df_RR_by_station.groupby(pd.Grouper(freq=\"M\")).aggregate(np.sum)\n",
    "df_Month_Data.plot()\n",
    "df_Month_Data.rolling(2).mean().plot()"
   ]
  },
  {
   "cell_type": "code",
   "execution_count": 164,
   "id": "20fe1dd0",
   "metadata": {
    "id": "wgm_NkZfs4QN"
   },
   "outputs": [
    {
     "data": {
      "text/plain": [
       "Text(0.5, 1.0, 'Events above the Percentile')"
      ]
     },
     "execution_count": 164,
     "metadata": {},
     "output_type": "execute_result"
    },
    {
     "data": {
      "image/png": "[encoded data removed]",
      "text/plain": [
       "<Figure size 432x288 with 1 Axes>"
      ]
     },
     "metadata": {
      "needs_background": "light"
     },
     "output_type": "display_data"
    }
   ],
   "source": [
    "perc=df_RR_by_station['Kumasi'].quantile(.95)   #This produces the 95th percentile value.\n",
    "diff=(df_RR_by_station['Kumasi']-perc)\n",
    "Events_95 = diff.where(diff>0).count()\n",
    "percentage=round((Events_95/diff.count())*100, 3) #Compute the percentage of extreme events in a defined station\n",
    "diff.plot(label='n = '+str(Events_95)+'\\nPercent = '+str(percentage)+'%')\n",
    "plt.axhline(y=0, color='r')\n",
    "plt.legend()\n",
    "plt.title('Events above the Percentile')\n",
    "\n"
   ]
  },
  {
   "cell_type": "markdown",
   "id": "37052691",
   "metadata": {
    "id": "dqZ6Yq7kG0Oj"
   },
   "source": [
    "## 17. Trend Assessmet using PyMannKendall\n",
    "\n",
    "Pymannkendall (**https://pypi.org/project/pymannkendall/**) allows for trend assessment in a dataset/observation. The package details out numerous sub-packages that are useful for various forms of trend assessment. For simplicity, we will focus on the Mann-Kendall original test. Nonetheless, feel free to try out its numerous trend assessment types after the class. [publication](https://www.researchgate.net/publication/334688255_pyMannKendall_a_python_package_for_non_parametric_Mann_Kendall_family_of_trend_tests)"
   ]
  },
  {
   "cell_type": "code",
   "execution_count": 165,
   "id": "aca5631e",
   "metadata": {
    "id": "V1EyFvOps4QO",
    "outputId": "9ba8734e-eba4-4c31-e141-0028fdc639fd"
   },
   "outputs": [],
   "source": [
    "import pymannkendall as mk\n",
    "\n",
    "mk.original_test?"
   ]
  },
  {
   "cell_type": "code",
   "execution_count": 166,
   "id": "be07cff0",
   "metadata": {
    "id": "Wskpnh-cs4QP"
   },
   "outputs": [
    {
     "data": {
      "text/plain": [
       "Mann_Kendall_Test(trend='no trend', h=False, p=0.8654923860158847, z=-0.16938682484329096, Tau=-0.0024978200331917527, s=-2664.0, var_s=247162784.0, slope=0.0, intercept=0.0)"
      ]
     },
     "execution_count": 166,
     "metadata": {},
     "output_type": "execute_result"
    }
   ],
   "source": [
    "# Trends In Data With PyMannKendall\n",
    "mk.original_test(df_RR_by_station[\"Kumasi\"].astype(float))"
   ]
  },
  {
   "cell_type": "markdown",
   "id": "d57f535c",
   "metadata": {
    "id": "Nu1Xdh-7E7Ei"
   },
   "source": [
    "The output from the above cell provides <br>\n",
    "\n",
    "**Output:**\n",
    ">    trend: tells the trend (increasing, decreasing or no trend)<br>\n",
    ">    h: True (if trend is present) or False (if trend is absence)<br>\n",
    ">    p: p-value of the significance test (eg. P<0.05 implies data is significant at 95% confidence level)  <br>\n",
    ">    z: normalized test statistics <br>\n",
    ">    Tau: Kendall Tau <br>\n",
    ">    s: Mann-Kendal's score <br>\n",
    ">    var_s: Variance S <br>\n",
    ">    slope: sen's slope <br>"
   ]
  },
  {
   "cell_type": "markdown",
   "id": "460fbe7f",
   "metadata": {
    "id": "it52QbB6D0D4"
   },
   "source": [
    "Next, we attempt to produce the slopes for each given station's monthly rainfall totals"
   ]
  },
  {
   "cell_type": "code",
   "execution_count": 167,
   "id": "be0c2ba7",
   "metadata": {
    "id": "4xc_89JJs4QP"
   },
   "outputs": [
    {
     "name": "stdout",
     "output_type": "stream",
     "text": [
      "Kumasi 0.38977272727272727\n",
      "Tamale 0.0\n",
      "Tema -0.7999999999999994\n"
     ]
    }
   ],
   "source": [
    "stations = df_RR_by_station.columns\n",
    "\n",
    "for station in stations:\n",
    "    print(\n",
    "        station,\n",
    "        mk.original_test(\n",
    "            df_RR_by_station[station]\n",
    "            .groupby(pd.Grouper(freq=\"M\"))\n",
    "            .sum()\n",
    "            .dropna()\n",
    "            .astype(float)\n",
    "        ).slope,\n",
    "    )"
   ]
  },
  {
   "cell_type": "code",
   "execution_count": 168,
   "id": "b44c56db",
   "metadata": {},
   "outputs": [
    {
     "data": {
      "text/html": [
       "<div>\n",
       "<style scoped>\n",
       "    .dataframe tbody tr th:only-of-type {\n",
       "        vertical-align: middle;\n",
       "    }\n",
       "\n",
       "    .dataframe tbody tr th {\n",
       "        vertical-align: top;\n",
       "    }\n",
       "\n",
       "    .dataframe thead th {\n",
       "        text-align: right;\n",
       "    }\n",
       "</style>\n",
       "<table border=\"1\" class=\"dataframe\">\n",
       "  <thead>\n",
       "    <tr style=\"text-align: right;\">\n",
       "      <th>Name</th>\n",
       "      <th>Kumasi</th>\n",
       "      <th>Tamale</th>\n",
       "      <th>Tema</th>\n",
       "    </tr>\n",
       "    <tr>\n",
       "      <th>date</th>\n",
       "      <th></th>\n",
       "      <th></th>\n",
       "      <th></th>\n",
       "    </tr>\n",
       "  </thead>\n",
       "  <tbody>\n",
       "    <tr>\n",
       "      <th>2010-01-01</th>\n",
       "      <td>31.8</td>\n",
       "      <td>36.000000</td>\n",
       "      <td>30.7</td>\n",
       "    </tr>\n",
       "    <tr>\n",
       "      <th>2010-01-02</th>\n",
       "      <td>33.5</td>\n",
       "      <td>35.800000</td>\n",
       "      <td>30.8</td>\n",
       "    </tr>\n",
       "    <tr>\n",
       "      <th>2010-01-03</th>\n",
       "      <td>33.1</td>\n",
       "      <td>36.900000</td>\n",
       "      <td>31.0</td>\n",
       "    </tr>\n",
       "    <tr>\n",
       "      <th>2010-01-04</th>\n",
       "      <td>33.0</td>\n",
       "      <td>36.600000</td>\n",
       "      <td>31.0</td>\n",
       "    </tr>\n",
       "    <tr>\n",
       "      <th>2010-01-05</th>\n",
       "      <td>31.0</td>\n",
       "      <td>37.100000</td>\n",
       "      <td>32.0</td>\n",
       "    </tr>\n",
       "    <tr>\n",
       "      <th>...</th>\n",
       "      <td>...</td>\n",
       "      <td>...</td>\n",
       "      <td>...</td>\n",
       "    </tr>\n",
       "    <tr>\n",
       "      <th>2013-12-27</th>\n",
       "      <td>31.2</td>\n",
       "      <td>36.819444</td>\n",
       "      <td>32.0</td>\n",
       "    </tr>\n",
       "    <tr>\n",
       "      <th>2013-12-28</th>\n",
       "      <td>33.1</td>\n",
       "      <td>36.700000</td>\n",
       "      <td>31.7</td>\n",
       "    </tr>\n",
       "    <tr>\n",
       "      <th>2013-12-29</th>\n",
       "      <td>30.0</td>\n",
       "      <td>37.080556</td>\n",
       "      <td>31.8</td>\n",
       "    </tr>\n",
       "    <tr>\n",
       "      <th>2013-12-30</th>\n",
       "      <td>32.4</td>\n",
       "      <td>35.872222</td>\n",
       "      <td>32.5</td>\n",
       "    </tr>\n",
       "    <tr>\n",
       "      <th>2013-12-31</th>\n",
       "      <td>32.0</td>\n",
       "      <td>35.766667</td>\n",
       "      <td>31.0</td>\n",
       "    </tr>\n",
       "  </tbody>\n",
       "</table>\n",
       "<p>1461 rows × 3 columns</p>\n",
       "</div>"
      ],
      "text/plain": [
       "Name        Kumasi     Tamale  Tema\n",
       "date                               \n",
       "2010-01-01    31.8  36.000000  30.7\n",
       "2010-01-02    33.5  35.800000  30.8\n",
       "2010-01-03    33.1  36.900000  31.0\n",
       "2010-01-04    33.0  36.600000  31.0\n",
       "2010-01-05    31.0  37.100000  32.0\n",
       "...            ...        ...   ...\n",
       "2013-12-27    31.2  36.819444  32.0\n",
       "2013-12-28    33.1  36.700000  31.7\n",
       "2013-12-29    30.0  37.080556  31.8\n",
       "2013-12-30    32.4  35.872222  32.5\n",
       "2013-12-31    32.0  35.766667  31.0\n",
       "\n",
       "[1461 rows x 3 columns]"
      ]
     },
     "execution_count": 168,
     "metadata": {},
     "output_type": "execute_result"
    }
   ],
   "source": [
    "df_TX_by_station"
   ]
  },
  {
   "cell_type": "markdown",
   "id": "513037a1",
   "metadata": {
    "id": "r5PAnlRTs4QS"
   },
   "source": [
    "## Exercise 1\n",
    "\n",
    "\n",
    "Produce standardized anomaly plots (formula below) of Daily Mean Temperature for the different stations and visualize it. The Standardized Anomaly $z$ is defined as $z_i = \\frac{T_i - <T>}{\\sigma_T}$, where $<T>$ is the mean of temperature and $\\sigma_T$ is the standard deviation of temperature.\n",
    "- Hint: First, build a function of standardized anomaly (You can use the default function build in python or better still, make use of lambda functions.) Second, pass Tavg through the function, and plot out."
   ]
  },
  {
   "cell_type": "code",
   "execution_count": null,
   "id": "2127f4b4",
   "metadata": {},
   "outputs": [],
   "source": []
  },
  {
   "cell_type": "markdown",
   "id": "5d9946d2",
   "metadata": {
    "id": "YaysB5rGs4QQ"
   },
   "source": [
    "## Exercise 2\n",
    "\n",
    "For the stacked data: <br><br>\n",
    "    1. Compute Monthly and Annual Mean Temperature <br>\n",
    "    2. Identify the trends and magnitude of slope in the computed means in (1).<br>\n",
    "    3. Using seaborn jointplot, let's produce a cluster plot of temperature and rainfall in any of the other locations. <br>"
   ]
  },
  {
   "cell_type": "code",
   "execution_count": null,
   "id": "c5ef0c00",
   "metadata": {},
   "outputs": [],
   "source": []
  }
 ],
 "metadata": {
  "kernelspec": {
   "display_name": "Python 3 (ipykernel)",
   "language": "python",
   "name": "python3"
  },
  "language_info": {
   "codemirror_mode": {
    "name": "ipython",
    "version": 3
   },
   "file_extension": ".py",
   "mimetype": "text/x-python",
   "name": "python",
   "nbconvert_exporter": "python",
   "pygments_lexer": "ipython3",
   "version": "3.8.12"
  }
 },
 "nbformat": 4,
 "nbformat_minor": 5
}
