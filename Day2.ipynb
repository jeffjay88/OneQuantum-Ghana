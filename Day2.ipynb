{
 "cells": [
  {
   "cell_type": "markdown",
   "id": "55eaae54",
   "metadata": {},
   "source": [
    "Day 2\n",
    "--\n",
    "\n",
    "*notebook by Jeffrey N. A. Aryee (PhD)*\n",
    "\n",
    "<h3>Study Objectives</h3>\n",
    "At the end of this lesson, participants should be able to: <br />\n",
    "<ul>\n",
    "    <li>Differentiate iteration forms and apply useful iterations, where necessary </li>\n",
    "    <li>Control iterations </li>\n",
    "    <li>Build and utilize self-defined functions</li>\n",
    "</ul>\n",
    "\n",
    "<h3>Let's Get Started!!! :)</h3>\n",
    "\n",
    "\n",
    "\n",
    "\n",
    "\n"
   ]
  },
  {
   "cell_type": "markdown",
   "id": "159a83f7",
   "metadata": {},
   "source": [
    "# Iterations / Loops\n",
    "Humans hate too much repetition. Therefore, repetitious tasks should be performed by computers. All programming languages support repetitions. The general class of programming constructs that allow the definition of repetitions are called \"iterations.” A term which is even more common for such tasks is “loops.” In general, statements are executed sequentially. Programming languages provide various control structures that allow for more complicated execution paths. A loop statement allows us to execute a statement or group of statements multiple times.\n",
    "\n",
    "Types of loops :\n",
    " 1. While Loop\n",
    " 2. For Loop\n",
    " 3. Nested Loop\n",
    "\n",
    "# While Loop\n",
    "A statement or group of statement in a while loop execute if the condition of the loop is True and stops if the condition no longer True. The condition is tested before the loop body executes.\n",
    "<br />\n",
    "<h4 style=\"color:#00f\"><big> While loop syntax </big></h4>\n",
    "while expression_is_True: <br />\n",
    "    &nbsp; &nbsp; &nbsp; &nbsp; statement(s) <br />\n",
    "    &nbsp; &nbsp; &nbsp; &nbsp; iterator\n",
    "<br />"
   ]
  },
  {
   "cell_type": "code",
   "execution_count": 2,
   "id": "ea38192f",
   "metadata": {
    "scrolled": true
   },
   "outputs": [
    {
     "name": "stdout",
     "output_type": "stream",
     "text": [
      "1\n",
      "2\n",
      "3\n",
      "4\n",
      "5\n"
     ]
    }
   ],
   "source": [
    "x = 1\n",
    "while x < 6:\n",
    "    print(x)\n",
    "    x = x + 1"
   ]
  },
  {
   "cell_type": "code",
   "execution_count": 3,
   "id": "bedd5eb6",
   "metadata": {},
   "outputs": [
    {
     "name": "stdout",
     "output_type": "stream",
     "text": [
      "1\n",
      "2\n",
      "3\n",
      "4\n",
      "5\n"
     ]
    }
   ],
   "source": [
    "x = 1\n",
    "while x < 6:\n",
    "    print(x)\n",
    "    x += 1"
   ]
  },
  {
   "cell_type": "code",
   "execution_count": 4,
   "id": "32e5e1ea",
   "metadata": {
    "scrolled": true
   },
   "outputs": [
    {
     "name": "stdout",
     "output_type": "stream",
     "text": [
      "x is  1\n",
      "x is  2\n",
      "x is  3\n",
      "x is  4\n",
      "x is  5\n",
      "x is  6\n",
      "x is  7\n",
      "x is no longer < 8\n"
     ]
    }
   ],
   "source": [
    "x = 1 \n",
    "while x < 8:\n",
    "    print(\"x is \",x)\n",
    "    x += 1\n",
    "else:\n",
    "    print(\"x is no longer < 8\")"
   ]
  },
  {
   "cell_type": "markdown",
   "id": "00b22e72",
   "metadata": {},
   "source": [
    "`Trial Exercise 2.1: `<br />\n",
    "Using while loop, find the equvalence of the degree Celcius values for $ C $, where $10 < C < 70 $ in Fahrenheit_degrees $F$. For each $C$, print its corresponding value in $F$ too.\n",
    "\n",
    "<p> C should have an interval of 5 </p>\n",
    "\n",
    "$$ F= \\frac{9C}{5}+ 32$$\n"
   ]
  },
  {
   "cell_type": "code",
   "execution_count": 5,
   "id": "e16af3ff",
   "metadata": {},
   "outputs": [
    {
     "name": "stdout",
     "output_type": "stream",
     "text": [
      "10 50.0\n",
      "15 59.0\n",
      "20 68.0\n",
      "25 77.0\n",
      "30 86.0\n",
      "35 95.0\n",
      "40 104.0\n",
      "45 113.0\n",
      "50 122.0\n",
      "55 131.0\n",
      "60 140.0\n",
      "65 149.0\n"
     ]
    }
   ],
   "source": [
    "T = 10   #Initial Temperature in Fahrenheit\n",
    "while T<70:\n",
    "    F = ((9*T)/5) + 32\n",
    "    print(T, F)\n",
    "    T+=5"
   ]
  },
  {
   "cell_type": "markdown",
   "id": "ca522bad",
   "metadata": {},
   "source": [
    "`Trial Example 2.2:`<br />\n",
    "Using the while loop, with a combination of conditions, print out all prime numbers lesser than a given number."
   ]
  },
  {
   "cell_type": "code",
   "execution_count": 6,
   "id": "ba667e82",
   "metadata": {},
   "outputs": [
    {
     "name": "stdout",
     "output_type": "stream",
     "text": [
      "Enter a whole number: 23\n",
      "Prime Numbers Between 1 and 23\n",
      "2\n",
      "3\n",
      "5\n",
      "7\n",
      "11\n",
      "13\n",
      "17\n",
      "19\n",
      "23\n"
     ]
    }
   ],
   "source": [
    "value = int(input('Enter a whole number: '))\n",
    "\n",
    "n = 2\n",
    "print('Prime Numbers Between 1 and '+str(value))\n",
    "while n <= value:\n",
    "    m = 2\n",
    "    count = 0\n",
    "    while m <= n//2:\n",
    "        if n%m == 0:\n",
    "            count+=1\n",
    "        m+=1\n",
    "    print(n) if count==0 else ''\n",
    "    n+=1"
   ]
  },
  {
   "cell_type": "markdown",
   "id": "10e0f9ae",
   "metadata": {},
   "source": [
    "# For Loop\n",
    "The Nature of For Loops. When data are collected in a list, we often want to perform the same operations on each element in the list. We then need to walk through all list elements. Computer languages have a special construct for doing this conveniently, and this construct is in Python and many other languages called a for loop.\n",
    "<p>The for-loop allows to iterate over a sequence (this could be a string or a list, for example). Here\n",
    "is an example:</p>"
   ]
  },
  {
   "cell_type": "code",
   "execution_count": 7,
   "id": "eb12b5d6",
   "metadata": {
    "scrolled": true
   },
   "outputs": [
    {
     "name": "stdout",
     "output_type": "stream",
     "text": [
      "P\n",
      "Y\n",
      "T\n",
      "H\n",
      "O\n",
      "N\n",
      " \n",
      "P\n",
      "R\n",
      "O\n",
      "G\n",
      "R\n",
      "A\n",
      "M\n",
      "M\n",
      "I\n",
      "N\n",
      "G\n"
     ]
    }
   ],
   "source": [
    "# Example with a string\n",
    "Language = \"PYTHON PROGRAMMING\"\n",
    "for l in Language:\n",
    "    print(l)"
   ]
  },
  {
   "cell_type": "code",
   "execution_count": 8,
   "id": "4201a6d5",
   "metadata": {
    "scrolled": true
   },
   "outputs": [
    {
     "name": "stdout",
     "output_type": "stream",
     "text": [
      "Dog\n",
      "Goat\n",
      "Cat\n",
      "Fish\n"
     ]
    }
   ],
   "source": [
    "# Example with list of strings\n",
    "Animals = [\"Dog\",\"Goat\",\"Cat\",\"Fish\"]\n",
    "for a in Animals:\n",
    "    print(a)"
   ]
  },
  {
   "cell_type": "code",
   "execution_count": 9,
   "id": "2014972f",
   "metadata": {},
   "outputs": [
    {
     "name": "stdout",
     "output_type": "stream",
     "text": [
      "1\n",
      "3\n",
      "5\n",
      "7\n",
      "9\n",
      "11\n",
      "13\n",
      "15\n",
      "17\n",
      "19\n"
     ]
    }
   ],
   "source": [
    "# Using for loop with ranges\n",
    "for x in range(1,20,2):\n",
    "    print(x)"
   ]
  },
  {
   "cell_type": "code",
   "execution_count": 10,
   "id": "b42334b0",
   "metadata": {},
   "outputs": [
    {
     "name": "stdout",
     "output_type": "stream",
     "text": [
      "0\n",
      "1\n",
      "2\n",
      "3\n",
      "4\n"
     ]
    }
   ],
   "source": [
    "for x in range( 5 ):\n",
    "    print( x )"
   ]
  },
  {
   "cell_type": "markdown",
   "id": "f3bf9b07",
   "metadata": {},
   "source": [
    "`Trial Example 2.3:` <br />\n",
    "Try using the for loop for exercise 2.1 above"
   ]
  },
  {
   "cell_type": "code",
   "execution_count": null,
   "id": "604d8fb2",
   "metadata": {
    "scrolled": true
   },
   "outputs": [],
   "source": []
  },
  {
   "cell_type": "markdown",
   "id": "bf604e57",
   "metadata": {},
   "source": [
    "# Nested For Loop\n"
   ]
  },
  {
   "cell_type": "markdown",
   "id": "ba49a5a9",
   "metadata": {},
   "source": [
    "We previously looked at loops in general thus the 'for' and the 'while' loop. However, sometimes you need to put nest a loop to be able to achieve what you want. As simple as it name, nesting a loop means simply having a loop (let's call it outer loop) that has inside its commands nother loop (let's call it inner loop). For example, the code appearing below shows two nested loops, an outer for loop over the values of i and an inner for loop over the values of j to multiply inside the inner loop all nine elements of a 3x3 matrix A by a factor f that changes according to the outer loop iteration"
   ]
  },
  {
   "cell_type": "code",
   "execution_count": 11,
   "id": "fe8a96ef",
   "metadata": {},
   "outputs": [
    {
     "name": "stdout",
     "output_type": "stream",
     "text": [
      "5 * 1 = 5\n",
      "5 * 2 = 10\n",
      "5 * 3 = 15\n",
      "5 * 4 = 20\n",
      "5 * 5 = 25\n",
      "5 * 6 = 30\n",
      "5 * 7 = 35\n",
      "5 * 8 = 40\n",
      "5 * 9 = 45\n",
      "5 * 10 = 50\n"
     ]
    }
   ],
   "source": [
    "# Example\n",
    "\n",
    "A = [1,2,3,4,5,6,7,8,9,10]\n",
    "B = [5]\n",
    "for a in A:\n",
    "    for b in B:\n",
    "        y= a * b\n",
    "        print(b,'*',a,'=',y)"
   ]
  },
  {
   "cell_type": "code",
   "execution_count": 12,
   "id": "c41bb62e",
   "metadata": {},
   "outputs": [
    {
     "ename": "IndentationError",
     "evalue": "unexpected indent (Temp/ipykernel_67772/2841744050.py, line 8)",
     "output_type": "error",
     "traceback": [
      "\u001b[1;36m  File \u001b[1;32m\"C:\\Users\\UncleJay\\AppData\\Local\\Temp/ipykernel_67772/2841744050.py\"\u001b[1;36m, line \u001b[1;32m8\u001b[0m\n\u001b[1;33m    print(n,'+',m,'+',o,'=',u)\u001b[0m\n\u001b[1;37m    ^\u001b[0m\n\u001b[1;31mIndentationError\u001b[0m\u001b[1;31m:\u001b[0m unexpected indent\n"
     ]
    }
   ],
   "source": [
    "N = [2,4]\n",
    "M = [3,5]\n",
    "O = [1,2]\n",
    "\n",
    "for n in N:\n",
    "    for m in M:\n",
    "        u = n + m + o\n",
    "            print(n,'+',m,'+',o,'=',u)"
   ]
  },
  {
   "cell_type": "markdown",
   "id": "900020e9",
   "metadata": {},
   "source": [
    "# Loop Control Statement\n",
    "<p> In python language, loop statements provides you the capacity to over and again run a statement or group of statements.  In any case, once in a while you might need to exit the loop completely or skip certain statement in the loop. Control Statement here, help to change or control the progression of loop execution dependent on the some particular condition</p>\n",
    "<p> There are three extra statements that help you control the flow in a loop. They are: </p>\n",
    "<ul>\n",
    "    <li>Break</li>\n",
    "    <li>Continue</li>\n",
    "    <li>Pass</li>\n",
    "    <li>Else</li>\n",
    "    \n",
    "\n",
    "</ul>\n",
    "<p1>They work with both while and for loops.</p1>\n",
    "\n",
    " "
   ]
  },
  {
   "cell_type": "markdown",
   "id": "e14e1dbc",
   "metadata": {},
   "source": [
    "<h1>BREAK</h1>\n",
    "The break statement terminates the loop containing it. Control of the program flows to the statement immediately after the body of the loop. If break statement is inside a nested loop (loop inside another loop), break will terminate the innermost loop\n",
    " "
   ]
  },
  {
   "cell_type": "code",
   "execution_count": 13,
   "id": "d5dac0a6",
   "metadata": {},
   "outputs": [
    {
     "name": "stdout",
     "output_type": "stream",
     "text": [
      "Anthonia 'I have found her'\n"
     ]
    }
   ],
   "source": [
    "names = ['John','Gideon','Elvis', 'Grace', 'Anthonia','Rosemary']\n",
    "\n",
    "for name in names:\n",
    "    if name == 'Anthonia':\n",
    "        print(name,\"'I have found her'\")\n",
    "        break\n",
    "    #print(name)"
   ]
  },
  {
   "cell_type": "markdown",
   "id": "df3b2cd5",
   "metadata": {},
   "source": [
    "`Trial Example 2.4:`<br />\n",
    "Using the while loop, with a combination of conditions, print out all prime numbers lesser than a given number."
   ]
  },
  {
   "cell_type": "code",
   "execution_count": 14,
   "id": "9125651d",
   "metadata": {},
   "outputs": [
    {
     "name": "stdout",
     "output_type": "stream",
     "text": [
      "Enter a whole number: 23\n",
      "Prime Numbers Between 1 and 23\n",
      "2\n",
      "3\n",
      "5\n",
      "7\n",
      "11\n",
      "13\n",
      "17\n",
      "19\n",
      "23\n"
     ]
    }
   ],
   "source": [
    "value = int(input('Enter a whole number: '))\n",
    "\n",
    "n = 2\n",
    "print('Prime Numbers Between 1 and '+str(value))\n",
    "while n <= value:\n",
    "    m = 2\n",
    "    count = 0\n",
    "    while m <= n//2:\n",
    "        if n%m == 0:\n",
    "            count+=1\n",
    "            break\n",
    "        m+=1\n",
    "    print(n) if count==0 else ''\n",
    "    n+=1"
   ]
  },
  {
   "cell_type": "markdown",
   "id": "86b45f88",
   "metadata": {},
   "source": [
    "<h1>Continue</h1>\n",
    "Just like with an if statement, you can add an else statement to the end of a while or\n",
    "for loop. The code block for the else is executed whenever the loop ends, i.e., when the\n",
    "boolean expression for the while loop evaluates to False, or when the last item of the\n",
    "collection of the for loop is processed. Here is an example for a while loop:"
   ]
  },
  {
   "cell_type": "code",
   "execution_count": 15,
   "id": "fd9df91d",
   "metadata": {},
   "outputs": [
    {
     "name": "stdout",
     "output_type": "stream",
     "text": [
      "Number is 1\n",
      "Number is 2\n",
      "Number is 3\n",
      "Number is 4\n",
      "5 is skipped\n",
      "Number is 6\n",
      "Number is 7\n",
      "Number is 8\n",
      "Number is 9\n",
      "Number is 10\n",
      "Out of loop\n"
     ]
    }
   ],
   "source": [
    "ctr = 0\n",
    "\n",
    "for ctr in range(10):\n",
    "    ctr = ctr + 1\n",
    "    \n",
    "    if ctr == 5:\n",
    "        print(\"5 is skipped\")\n",
    "       \n",
    "        continue    # continue here\n",
    "        print (\"This won't be printed too.\")\n",
    "    print('Number is ' + str(ctr))\n",
    "print('Out of loop')"
   ]
  },
  {
   "cell_type": "markdown",
   "id": "edf540d9",
   "metadata": {},
   "source": [
    "<h1> Pass</h1>\n",
    "<p>The pass statement does not perform any action, It serves as a placeholder in Python. It can be used when a statement is required syntactically but the program requires no action . Python has a requirement that code blocks after if, except, def, class cannot be empty either than that the interpreter will produce 'IndentationError' if the above mention code blocks are left empty.</p>"
   ]
  },
  {
   "cell_type": "code",
   "execution_count": 16,
   "id": "29d002d1",
   "metadata": {},
   "outputs": [],
   "source": [
    "# Example 1\n",
    "x='Kweku'\n",
    "if x==\"Ama\":\n",
    "    pass\n",
    "\n",
    "#example 2\n",
    "\n",
    "def myname(name):\n",
    "    pass"
   ]
  },
  {
   "cell_type": "code",
   "execution_count": 17,
   "id": "bc149bba",
   "metadata": {},
   "outputs": [
    {
     "name": "stdout",
     "output_type": "stream",
     "text": [
      "number is: 2\n",
      "number is: 4\n",
      "number is: 6\n",
      "number is: 10\n"
     ]
    }
   ],
   "source": [
    "#Example two\n",
    "\n",
    "numbers = [ 1, 2, 4, 3, 6, 5, 7, 10, 9 ]\n",
    "#loop through the numbers\n",
    "for number in numbers:\n",
    "    #check if the number is odd numbers\n",
    "    if number % 2 != 0:\n",
    "        #if even, then pass ( No operation )\n",
    "        pass\n",
    "    else:\n",
    "        #print the prime numbers\n",
    "        print ('number is:', number)"
   ]
  },
  {
   "cell_type": "markdown",
   "id": "1f56e2ca",
   "metadata": {},
   "source": [
    "<h1>ELSE</h1>\n",
    "Just like with an if statement, you can add an else statement to the end of a while or\n",
    "for loop. The code block for the else is executed whenever the loop ends, i.e., when the\n",
    "boolean expression for the while loop evaluates to False, or when the last item of the\n",
    "collection of the for loop is processed. Here is an example for a while loop:\n",
    " "
   ]
  },
  {
   "cell_type": "code",
   "execution_count": 19,
   "id": "b701c396",
   "metadata": {
    "scrolled": true
   },
   "outputs": [
    {
     "name": "stdout",
     "output_type": "stream",
     "text": [
      "what would you like to have?: salad\n",
      "vitamin\n",
      "what would you like to have?: rice\n",
      "we don't have rice\n",
      "what would you like to have?: none\n"
     ]
    }
   ],
   "source": [
    "# This example involve a list of food, an iput is received and then loop through the menu to find in food is there\n",
    "\n",
    "menu = {'salad': 'vitamin', 'potato': 'carbohydrate', 'chicken': 'protein', 'yogurt': 'mineral'}\n",
    "while True:   \n",
    "    menu_choice = input(\"what would you like to have?: \")   \n",
    "    if menu_choice == 'none':\n",
    "        break   \n",
    "    if menu_choice in menu:\n",
    "        food = menu.get(menu_choice)\n",
    "        print(food) \n",
    "    else: \n",
    "        print (\"we don't have \" + menu_choice)"
   ]
  },
  {
   "cell_type": "markdown",
   "id": "70e8d17c",
   "metadata": {},
   "source": [
    "`Trial Example:`<br />\n",
    "Re-try the above code with the stopping criteria being when a user fails to input a selection at all."
   ]
  },
  {
   "cell_type": "markdown",
   "id": "491ca196",
   "metadata": {},
   "source": [
    "<h1 style=\"color:#f00\">FUNCTIONS in Python</h1>\n",
    "<p1>Functions, as used in any programming language, helps to simplify recursive, repetitive tasks. The goal of functions is to reduce the lines of code, and also to limit re-doing of same task over and over again.\n",
    "The word \"function\" has different meanings in mathematics and programming. In programming it refers to a named sequence of operations that perform a computation. Functions allow us to group a number of statements into a logical block. We communicate with a function through a clearly defined interface, providing certain parameters to the function, and receiving some information back.</p1>\n",
    "<p2> Importance of Functions include:</p2>\n",
    "<ul>\n",
    "    <li>Reduces the size of your code.</li>\n",
    "    <li>Saves typing and makes it easier to change the program later.</li>\n",
    "    <li>Makes the code clearer and readable.</li>\n",
    "    <li>Makes codes more manageable.</li>\n",
    "\n",
    "</ul>\n",
    "\n",
    "<h2> Syntax</h2>\n",
    "<p>\n",
    "In Python 3, functions are defined of identified by the <a>def</a> statement. On the first line, the first item is to specify def (for defining functions), followed by the function_name(). The parenthesis are necessary since every functions relies on arguments, hence the parenthesis holds all dependent arguments. See the Python 3 function syntax below </p>\n",
    "\n",
    "\n",
    "\n",
    "*def   function_name* (arg1, arg2 ...,argn): <br>\n",
    "\n",
    "        statements\n",
    "        return\n",
    "        \n",
    "<p3> The variables *arg1*,*arg2*,*argn* are the parameters needed for the execution of the function's *statements*</p3>\n",
    "\n",
    "\n",
    "<p>\n",
    "To pass output from the function into the console, main_program, etc., it's advisable to use the return statement, which is acceptable way for function outputs.\n",
    "</p>\n",
    "   \n",
    "<br />\n",
    "To invoke the function, you call the function_name on the actual input values, and each input value must denote a defined dummy argument. \n",
    "<br />\n",
    "<br />\n",
    "    \n",
    "<p>\n",
    "    Example\n",
    "</p>"
   ]
  },
  {
   "cell_type": "code",
   "execution_count": 20,
   "id": "8190c131",
   "metadata": {},
   "outputs": [
    {
     "data": {
      "text/plain": [
       "'Hello, you are welcome to PY4CA'"
      ]
     },
     "execution_count": 20,
     "metadata": {},
     "output_type": "execute_result"
    }
   ],
   "source": [
    "def welcome():\n",
    "    c = 'Hello, you are welcome to PY4CA'\n",
    "    return c\n",
    "\n",
    "welcome()"
   ]
  },
  {
   "cell_type": "code",
   "execution_count": 21,
   "id": "d82fa8ee",
   "metadata": {},
   "outputs": [
    {
     "data": {
      "text/plain": [
       "50"
      ]
     },
     "execution_count": 21,
     "metadata": {},
     "output_type": "execute_result"
    }
   ],
   "source": [
    "def sum_of_nums(a,b):\n",
    "    c=a+b\n",
    "    return c\n",
    "    \n",
    "\n",
    "sum_of_nums(2,3)\n",
    "sum_of_nums(30,20)\n",
    "#sum_of_nums(1,2,3)"
   ]
  },
  {
   "cell_type": "code",
   "execution_count": 22,
   "id": "46bf8430",
   "metadata": {
    "scrolled": true
   },
   "outputs": [
    {
     "data": {
      "text/plain": [
       "8"
      ]
     },
     "execution_count": 22,
     "metadata": {},
     "output_type": "execute_result"
    }
   ],
   "source": [
    "# Example of a function that calculates the power of a number\n",
    "def power(a,b):\n",
    "    i=a**b          # Statement\n",
    "    return i        # return value\n",
    "x = 2\n",
    "y = 3\n",
    "power(x,y)        # 2 exponent 3"
   ]
  },
  {
   "cell_type": "markdown",
   "id": "c16a2afb",
   "metadata": {},
   "source": [
    "<h2>Local and Global variables</h2>\n",
    "<p>From the two examples above, we could identify that there are variable outside and within the functions that we created. We can therefore group these varibles into Local and global variables.</p>\n",
    "<h3>Global Variable</h3>\n",
    "In Python, a variable declared outside of the function is known as global variable. This means, global variable can be accessed inside or outside of the function"
   ]
  },
  {
   "cell_type": "code",
   "execution_count": 23,
   "id": "ab5d4f63",
   "metadata": {},
   "outputs": [
    {
     "name": "stdout",
     "output_type": "stream",
     "text": [
      "X inside the function is 2\n"
     ]
    },
    {
     "data": {
      "text/plain": [
       "8"
      ]
     },
     "execution_count": 23,
     "metadata": {},
     "output_type": "execute_result"
    }
   ],
   "source": [
    "# x and y global variables which can be used everywhere in the code\n",
    "x = 2          \n",
    "y = 3\n",
    "\n",
    "def power(a,b):\n",
    "    i=a**b    \n",
    "    print('X inside the function is',x)\n",
    "    return i       \n",
    "power(x,y)"
   ]
  },
  {
   "cell_type": "markdown",
   "id": "a155f748",
   "metadata": {},
   "source": [
    "<h1>Local Variable</h1>\n",
    "A variable declared inside the function's body or in the local scope is known as local variable. These variables can only be assessed within the function or local scope inwhich they are defined"
   ]
  },
  {
   "cell_type": "code",
   "execution_count": 24,
   "id": "c9a05458",
   "metadata": {},
   "outputs": [
    {
     "name": "stdout",
     "output_type": "stream",
     "text": [
      "10\n"
     ]
    }
   ],
   "source": [
    " # With the same example a,b and i are local variable, they exist only in the function\n",
    "x = 2          \n",
    "y = 3\n",
    "\n",
    "def power(a,b):\n",
    "    i=a**b          \n",
    "    return i       \n",
    "power(x,y)\n",
    "print(a)\n",
    "# print the variable i, a or b and give me the feedback"
   ]
  },
  {
   "cell_type": "markdown",
   "id": "e9937034",
   "metadata": {},
   "source": [
    "<p>\n",
    "<h4 style=\"color:#f00\">Let's try out a simple function for computing potential temperature:</h4>\n",
    "</p>    \n",
    "    $$ \\theta= T (\\frac{P_o}{P_1})\\, ^{0.286}$$\n"
   ]
  },
  {
   "cell_type": "code",
   "execution_count": 25,
   "id": "a0be2920",
   "metadata": {
    "scrolled": true
   },
   "outputs": [
    {
     "data": {
      "text/plain": [
       "30.401184847410068"
      ]
     },
     "execution_count": 25,
     "metadata": {},
     "output_type": "execute_result"
    }
   ],
   "source": [
    "# Examples\n",
    "#Building the function\n",
    "def potential_temperature(T,P0,P1):\n",
    "    answer=T*(P0/P1)**0.286\n",
    "    return answer\n",
    "\n",
    "\n",
    "potential_temperature(28,1000,750)"
   ]
  },
  {
   "cell_type": "markdown",
   "id": "c5485868",
   "metadata": {},
   "source": [
    "# Growing the Function to Automatically Deal with conditions"
   ]
  },
  {
   "cell_type": "code",
   "execution_count": 26,
   "id": "cabec37f",
   "metadata": {},
   "outputs": [
    {
     "data": {
      "text/plain": [
       "53.82560059991221"
      ]
     },
     "execution_count": 26,
     "metadata": {},
     "output_type": "execute_result"
    }
   ],
   "source": [
    "# Examples\n",
    "#Building the function\n",
    "def potential_temperature(T,P0,P1,units):\n",
    "    if units.upper()=='C' or units.upper()=='CELSIUS':\n",
    "        T=T+273.15\n",
    "        answer=T*(P0/P1)**0.286\n",
    "        answer=answer-273.15\n",
    "    elif units.upper()=='K' or units.upper()=='KELVIN':\n",
    "        answer=T*(P0/P1)**0.286\n",
    "    return answer\n",
    "\n",
    "\n",
    "potential_temperature(28,1000,750,'c')"
   ]
  },
  {
   "cell_type": "markdown",
   "id": "826be876",
   "metadata": {},
   "source": [
    "# Looping within Functions"
   ]
  },
  {
   "cell_type": "code",
   "execution_count": 27,
   "id": "d95699a3",
   "metadata": {
    "scrolled": true
   },
   "outputs": [
    {
     "name": "stdout",
     "output_type": "stream",
     "text": [
      "2\n",
      "4\n",
      "6\n",
      "8\n",
      "10\n",
      "12\n",
      "14\n",
      "16\n",
      "18\n",
      "20\n",
      "22\n",
      "24\n",
      "26\n",
      "28\n",
      "30\n",
      "32\n",
      "34\n",
      "36\n",
      "38\n",
      "40\n",
      "42\n",
      "44\n",
      "46\n",
      "48\n"
     ]
    },
    {
     "data": {
      "text/plain": [
       "50"
      ]
     },
     "execution_count": 27,
     "metadata": {},
     "output_type": "execute_result"
    }
   ],
   "source": [
    "# Examples\n",
    "#Building the function\n",
    "def test(x,max_x,x_interval):\n",
    "    while(x<max_x):\n",
    "        print(x)\n",
    "        x+=x_interval\n",
    "    return x\n",
    "\n",
    "\n",
    "#\n",
    "test(2,50,2)"
   ]
  },
  {
   "cell_type": "markdown",
   "id": "89702463",
   "metadata": {},
   "source": [
    "LAMBDA EXPRESSIONS\n",
    "--\n",
    "\n"
   ]
  },
  {
   "cell_type": "markdown",
   "id": "f46bcc34",
   "metadata": {},
   "source": [
    "function/expression name = lambda argument(s):execution/action"
   ]
  },
  {
   "cell_type": "code",
   "execution_count": 28,
   "id": "e76ffad5",
   "metadata": {},
   "outputs": [
    {
     "data": {
      "text/plain": [
       "25"
      ]
     },
     "execution_count": 28,
     "metadata": {},
     "output_type": "execute_result"
    }
   ],
   "source": [
    "#Using Lambda function to build a function that squares data input\n",
    "square = lambda x:x**2\n",
    "square(5)"
   ]
  },
  {
   "cell_type": "code",
   "execution_count": null,
   "id": "d4fe96c8",
   "metadata": {},
   "outputs": [],
   "source": []
  },
  {
   "cell_type": "markdown",
   "id": "cb806ad8",
   "metadata": {},
   "source": [
    "<h3><font color='red'>It is also possible to pass visualizations within functions. The example below will come in handy for you once we delve into importing packages tomorrow.</font></h3>\n",
    "\n",
    "\n",
    "\n",
    "# Simple Plotting within Functions\n"
   ]
  },
  {
   "cell_type": "code",
   "execution_count": null,
   "id": "b7e49a1c",
   "metadata": {
    "scrolled": true
   },
   "outputs": [],
   "source": [
    "# Examples\n",
    "#Let's pass a number beyond 10, and generate random numbers of that size. Afterwards, we plot it's sin() values against the random values.\n",
    "def sin_plot(x):\n",
    "    import numpy as np\n",
    "    import scipy as sp\n",
    "    import matplotlib.pyplot as plt\n",
    "    if (type(x)==int):\n",
    "        cp=plt.plot(sp.randn(x),np.sin(sp.randn(x)),'ro')\n",
    "        #plt.show()\n",
    "    elif (type(x)==float):\n",
    "        cp=plt.plot(sp.randn(np.int(x)),np.sin(sp.randn(np.int(x))),'gv')\n",
    "        #plt.show()\n",
    "    else:\n",
    "        pass\n",
    "   \n",
    "    if (np.size(cp)==1):\n",
    "        plt.xlabel('Random Nubers', fontsize=12)\n",
    "        plt.ylabel('Trig. Values', fontsize=12)\n",
    "        plt.title('Plotting within a Function'.upper(), fontsize=14)\n",
    "    return cp \n",
    "\n",
    "\n",
    "sin_plot(100)"
   ]
  },
  {
   "cell_type": "markdown",
   "id": "9f6bfc16",
   "metadata": {},
   "source": [
    "<hr>\n",
    "<h2 align='center'> RECAP OF ITEMS STUDIED </h2>\n",
    "<hr>\n",
    "<ul>\n",
    "<li>Iterations </li>\n",
    "<li>Loop Controls </li>\n",
    "<li>Functions in Python </li>\n",
    "<li>Lambda Functions/Expressions </li>\n",
    "</ul>\n",
    "<hr>\n",
    "<h1 align='center'> END OF DAY TWO</h1>\n"
   ]
  }
 ],
 "metadata": {
  "kernelspec": {
   "display_name": "Python 3 (ipykernel)",
   "language": "python",
   "name": "python3"
  },
  "language_info": {
   "codemirror_mode": {
    "name": "ipython",
    "version": 3
   },
   "file_extension": ".py",
   "mimetype": "text/x-python",
   "name": "python",
   "nbconvert_exporter": "python",
   "pygments_lexer": "ipython3",
   "version": "3.8.12"
  }
 },
 "nbformat": 4,
 "nbformat_minor": 5
}
